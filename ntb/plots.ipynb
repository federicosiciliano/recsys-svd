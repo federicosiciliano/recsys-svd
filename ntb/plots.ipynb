{
 "cells": [
  {
   "cell_type": "markdown",
   "metadata": {
    "id": "r5I2I6ldHFOC"
   },
   "source": [
    "# Preparation"
   ]
  },
  {
   "cell_type": "markdown",
   "metadata": {
    "id": "JCgiDlyKHFOG"
   },
   "source": [
    "### Imports"
   ]
  },
  {
   "cell_type": "code",
   "execution_count": 2,
   "metadata": {
    "executionInfo": {
     "elapsed": 920,
     "status": "ok",
     "timestamp": 1727456477446,
     "user": {
      "displayName": "maria diana calugaru",
      "userId": "15328572193410378426"
     },
     "user_tz": -120
    },
    "id": "FQonCJ1kHFOG"
   },
   "outputs": [],
   "source": [
    "import matplotlib.pyplot as plt\n",
    "import numpy as np\n",
    "import pandas as pd\n",
    "import json\n",
    "import os\n",
    "from matplotlib.ticker import FormatStrFormatter\n",
    "import itertools as it\n",
    "from copy import deepcopy"
   ]
  },
  {
   "cell_type": "code",
   "execution_count": 3,
   "metadata": {
    "colab": {
     "base_uri": "https://localhost:8080/"
    },
    "executionInfo": {
     "elapsed": 27992,
     "status": "ok",
     "timestamp": 1727456507571,
     "user": {
      "displayName": "maria diana calugaru",
      "userId": "15328572193410378426"
     },
     "user_tz": -120
    },
    "id": "WGsqgZKHU8tZ",
    "outputId": "7ed0a951-2258-482a-ed52-2cd53b32ba68"
   },
   "outputs": [],
   "source": [
    "#from google.colab import drive\n",
    "\n",
    "connect_to_drive = False\n",
    "\n",
    "if connect_to_drive:\n",
    "  drive.mount('/content/drive', force_remount=True)\n",
    "  os.chdir('/content/drive/Shared drives/Calugaru - RecSys SVD/ntb')\n",
    "  !pwd"
   ]
  },
  {
   "cell_type": "markdown",
   "metadata": {
    "id": "hntPTTPLHFOI"
   },
   "source": [
    "### Exp"
   ]
  },
  {
   "cell_type": "code",
   "execution_count": 4,
   "metadata": {
    "executionInfo": {
     "elapsed": 313,
     "status": "ok",
     "timestamp": 1727456510850,
     "user": {
      "displayName": "maria diana calugaru",
      "userId": "15328572193410378426"
     },
     "user_tz": -120
    },
    "id": "UKGDRZ2HHFOI"
   },
   "outputs": [],
   "source": [
    "def flatten_dict(d, parent_key='', sep='.'):\n",
    "    items = []\n",
    "    for k, v in d.items():\n",
    "        new_key = parent_key + sep + k if parent_key else k\n",
    "        if isinstance(v, dict):\n",
    "            items.extend(flatten_dict(v, new_key, sep=sep).items())\n",
    "        else:\n",
    "            items.append((new_key, v))\n",
    "    return dict(items)\n",
    "\n",
    "def read_json(file_path):\n",
    "    with open(file_path, 'r') as json_file:\n",
    "        data = json.load(json_file)\n",
    "    return data"
   ]
  },
  {
   "cell_type": "code",
   "execution_count": 5,
   "metadata": {
    "executionInfo": {
     "elapsed": 396,
     "status": "ok",
     "timestamp": 1727456513507,
     "user": {
      "displayName": "maria diana calugaru",
      "userId": "15328572193410378426"
     },
     "user_tz": -120
    },
    "id": "cjt7QZEeHFOI"
   },
   "outputs": [],
   "source": [
    "def load_all_configurations(exp_name:str='8dec_amz', folder_name:str= '../out/exp/'):\n",
    "    experiments = {}\n",
    "    for single_config in os.listdir(os.path.join(os.getcwd(),folder_name,exp_name)):\n",
    "        exp_id = single_config.replace('.json', '')\n",
    "        data = read_json(os.path.join(os.getcwd(),folder_name,exp_name,single_config))\n",
    "        experiments[exp_id] = flatten_dict(data)\n",
    "    return pd.DataFrame.from_dict(dict(sorted(experiments.items())), \"index\") #sorted is not actually needed"
   ]
  },
  {
   "cell_type": "code",
   "execution_count": 6,
   "metadata": {
    "executionInfo": {
     "elapsed": 824,
     "status": "ok",
     "timestamp": 1727456515863,
     "user": {
      "displayName": "maria diana calugaru",
      "userId": "15328572193410378426"
     },
     "user_tz": -120
    },
    "id": "dde9F03KHFOJ"
   },
   "outputs": [],
   "source": [
    "def load_metrics(exp_name:str='8dec_amz', folder_name:str= '../out/log/'):\n",
    "    results = {}\n",
    "    exp_log_folder = os.path.join(os.getcwd(),folder_name,exp_name)\n",
    "    for exp_id in os.listdir(exp_log_folder):\n",
    "        metrics_filepath = os.path.join(exp_log_folder,exp_id,'lightning_logs/version_0/metrics.csv')\n",
    "        data = pd.read_csv(metrics_filepath)\n",
    "        results[exp_id] = data\n",
    "    return dict(sorted(results.items()))"
   ]
  },
  {
   "cell_type": "code",
   "execution_count": 7,
   "metadata": {
    "executionInfo": {
     "elapsed": 695,
     "status": "ok",
     "timestamp": 1727456517918,
     "user": {
      "displayName": "maria diana calugaru",
      "userId": "15328572193410378426"
     },
     "user_tz": -120
    },
    "id": "YryZT1YSHFOJ"
   },
   "outputs": [],
   "source": [
    "def get_metrics_given_best_val(metrics_per_epoch, metrics_names, metrics_prefix = \"val\", metrics_dataloader_idx=1, val_prefix = \"val\", val_metric=\"NDCG@10\", val_dataloader_idx=0, fix_rec_at_k=False):\n",
    "    if fix_rec_at_k:\n",
    "        val_metric =val_metric.replace('@','_@')\n",
    "        metrics_names = [metric.replace('@','_@') for metric in metrics_names]\n",
    "    val_key = f\"{val_prefix}_{val_metric}\"\n",
    "    if val_dataloader_idx is not None:\n",
    "        val_key += f\"/dataloader_idx_{val_dataloader_idx}\"\n",
    "    metric_keys = [f\"{metrics_prefix}_{metric}\" for metric in metrics_names]\n",
    "    if metrics_dataloader_idx is not None:\n",
    "        metric_keys = [f\"{metric}/dataloader_idx_{metrics_dataloader_idx}\" for metric in metric_keys]\n",
    "    best_metrics = {}\n",
    "    for exp_id, metrics in metrics_per_epoch.items():\n",
    "        best_val_row = metrics[val_key].argmax()\n",
    "        best_metrics[exp_id] = {metric_name: metrics[metric_key][best_val_row] for metric_name, metric_key in zip(metrics_names,metric_keys)}\n",
    "    return pd.DataFrame.from_dict(dict(sorted(best_metrics.items())), \"index\") #sorted is not actually needed"
   ]
  },
  {
   "cell_type": "code",
   "execution_count": 8,
   "metadata": {
    "executionInfo": {
     "elapsed": 694,
     "status": "ok",
     "timestamp": 1727456521917,
     "user": {
      "displayName": "maria diana calugaru",
      "userId": "15328572193410378426"
     },
     "user_tz": -120
    },
    "id": "UjOYKukYHFOK"
   },
   "outputs": [],
   "source": [
    "def hotfix_table(table, col, value=0.5):\n",
    "    for exp_id in table.index.get_level_values(0).unique():\n",
    "        exp_loc = table.index.get_level_values(0) == exp_id\n",
    "        vals = table.loc[exp_loc][col][1:-1].values\n",
    "        mean_vals = (table.loc[exp_loc][col][:-2].values+table.loc[exp_loc][col][2:].values)/2\n",
    "        over_threshold = np.abs(vals-mean_vals)>value\n",
    "        sel_app = exp_loc\n",
    "        app = np.concatenate((np.array([False]),over_threshold,np.array([False])))\n",
    "        sel_app[sel_app] = app\n",
    "        table.loc[sel_app,col] = mean_vals[over_threshold]\n",
    "    return table"
   ]
  },
  {
   "cell_type": "code",
   "execution_count": 9,
   "metadata": {
    "executionInfo": {
     "elapsed": 765,
     "status": "ok",
     "timestamp": 1727456523994,
     "user": {
      "displayName": "maria diana calugaru",
      "userId": "15328572193410378426"
     },
     "user_tz": -120
    },
    "id": "ViRzk47_HFOK"
   },
   "outputs": [],
   "source": [
    "columns_for_diffs = ['duration', 'emissions', 'emissions_rate', 'cpu_power', 'gpu_power',\n",
    "                    'ram_power', 'cpu_energy', 'gpu_energy', 'ram_energy',\n",
    "                    'energy_consumed']\n",
    "columns_that_are_same = ['project_name', 'run_id', 'country_name',\n",
    "    'country_iso_code', 'region', 'cloud_provider', 'cloud_region', 'os',\n",
    "    'python_version', 'codecarbon_version', 'cpu_count', 'cpu_model',\n",
    "    'gpu_count', 'gpu_model', 'longitude', 'latitude', 'ram_total_size',\n",
    "    'tracking_mode', 'on_cloud', 'pue']\n",
    "columns_that_are_different = ['timestamp']\n",
    "\n",
    "def load_emissions(exp_name:str='8dec_amz', folder_name:str= '../out/log/'):\n",
    "    emissions = {}\n",
    "    exp_log_folder = os.path.join(os.getcwd(),folder_name,exp_name)\n",
    "    for exp_id in os.listdir(exp_log_folder):\n",
    "        emissions_filepath = os.path.join(exp_log_folder,exp_id,'emissions.csv')\n",
    "        if not os.path.exists(emissions_filepath): continue\n",
    "        data = pd.read_csv(emissions_filepath)\n",
    "\n",
    "        new_data = {}\n",
    "        for column in columns_for_diffs:\n",
    "            #TODO: generalize to more splits / rows of emissions\n",
    "            new_data[f\"train_{column}\"] = data.iloc[0][column]\n",
    "            new_data[f\"test_{column}\"] = data.iloc[1][column] - data.iloc[0][column]\n",
    "        for column in columns_that_are_same:\n",
    "            new_data[f\"{column}\"] = data.iloc[0][column]\n",
    "        for column in columns_that_are_different:\n",
    "            new_data[f\"train_{column}\"] = data.iloc[0][column]\n",
    "            new_data[f\"test_{column}\"] = data.iloc[1][column]\n",
    "        emissions[exp_id] = new_data\n",
    "\n",
    "    return pd.DataFrame.from_dict(dict(sorted(emissions.items())), \"index\") #sorted is not actually needed"
   ]
  },
  {
   "cell_type": "code",
   "execution_count": 10,
   "metadata": {
    "executionInfo": {
     "elapsed": 308,
     "status": "ok",
     "timestamp": 1727456526276,
     "user": {
      "displayName": "maria diana calugaru",
      "userId": "15328572193410378426"
     },
     "user_tz": -120
    },
    "id": "1MTi9o9fHFOK"
   },
   "outputs": [],
   "source": [
    "modifiers = {\"\":1, \"K\":1e3, \"M\":1e6, \"G\":1e9, \"T\":1e12, \"P\":1e15}\n",
    "strings_to_search = {\"num_params\":\"params per GPU:\",\n",
    "                     \"flops\": \"fwd flops per GPU:\",\n",
    "                     \"latency\": \"fwd latency:\",\n",
    "                     \"FLOPS\": \"fwd FLOPS per GPU = fwd flops per GPU / fwd latency:\"}\n",
    "\n",
    "def extract_flops_info(complete_string, string_to_search):\n",
    "    if string_to_search in complete_string:\n",
    "        value = complete_string.split(string_to_search)[1].split(\"\\n\")[0].strip()\n",
    "    else: value = \"nan\"\n",
    "    measure = \"\"\n",
    "    if \" \" in value: value, measure = value.split(\" \")\n",
    "    scale = measure[0] if len(measure)>0 else \"\"\n",
    "    if scale not in modifiers:\n",
    "        scale = \"\"\n",
    "        measure = \" \" + measure\n",
    "    unit = \"\" if len(measure)==1 else measure[1:]\n",
    "    return float(value)*modifiers[scale], unit\n",
    "\n",
    "def load_flops(exp_name:str='8dec_amz', folder_name:str= '../out/log/', split_keys = [\"train\", \"test\"]):\n",
    "    flops = {}\n",
    "    exp_log_folder = os.path.join(os.getcwd(),folder_name,exp_name)\n",
    "    for exp_id in os.listdir(exp_log_folder):\n",
    "        new_data = {}\n",
    "        for split_key in split_keys:\n",
    "            flops_filepath = os.path.join(exp_log_folder,exp_id,f'{split_key}_flops.txt')\n",
    "            if not os.path.exists(flops_filepath): continue\n",
    "            #load flops_filepath txt\n",
    "            with open(flops_filepath, 'r') as file:\n",
    "                data = file.read()\n",
    "\n",
    "            for measure_name,string_to_search in strings_to_search.items():\n",
    "                value, unit = extract_flops_info(data, string_to_search)\n",
    "                measure_key = f\"{split_key}_{measure_name}\"\n",
    "                #if unit != \"\": measure_key += f\" ({unit})\"\n",
    "                new_data[measure_key] = value\n",
    "\n",
    "        flops[exp_id] = new_data\n",
    "\n",
    "    return pd.DataFrame.from_dict(dict(sorted(flops.items())), \"index\") #sorted is not actually needed"
   ]
  },
  {
   "cell_type": "code",
   "execution_count": 11,
   "metadata": {
    "executionInfo": {
     "elapsed": 319,
     "status": "ok",
     "timestamp": 1727456529239,
     "user": {
      "displayName": "maria diana calugaru",
      "userId": "15328572193410378426"
     },
     "user_tz": -120
    },
    "id": "c31dAWuVHFOL"
   },
   "outputs": [],
   "source": [
    "## Add emissions and flops info to metrics_per_epoch\n",
    "def add_info_single_df(df, exp_data, subset_col, split_name, column_labels):\n",
    "    if subset_col not in df.columns:\n",
    "        split_subset = np.zeros(len(df), dtype=bool)\n",
    "        split_subset[-1] = True\n",
    "    else:\n",
    "        split_subset = ~df[subset_col].isna()\n",
    "    num_split = sum(split_subset)\n",
    "    for label in column_labels:\n",
    "        split_label = f\"{split_name}_{label}\"\n",
    "        df.loc[split_subset,split_label] = np.linspace(exp_data[split_label]/num_split,exp_data[split_label],num_split)\n",
    "\n",
    "\n",
    "def add_info_to_metrics_per_epoch(metrics_per_epoch, complete_data, column_labels, split_names = [\"train\", \"test\"], repeat_for = [\"val_loss/dataloader_idx_0\",None]):\n",
    "    for exp_id,df in metrics_per_epoch.items():\n",
    "        for split_name,repeat_col in zip(split_names,repeat_for):\n",
    "            add_info_single_df(df, complete_data.loc[exp_id], f\"{split_name}_loss\", split_name, column_labels)\n",
    "            if repeat_col is not None:\n",
    "                add_info_single_df(df, complete_data.loc[exp_id], repeat_col, split_name, column_labels)\n",
    "        metrics_per_epoch[exp_id] = df"
   ]
  },
  {
   "cell_type": "markdown",
   "metadata": {
    "id": "0rSCIuVFHFOL"
   },
   "source": [
    "### Table utils"
   ]
  },
  {
   "cell_type": "markdown",
   "metadata": {},
   "source": []
  },
  {
   "cell_type": "code",
   "execution_count": 12,
   "metadata": {
    "executionInfo": {
     "elapsed": 385,
     "status": "ok",
     "timestamp": 1727456531120,
     "user": {
      "displayName": "maria diana calugaru",
      "userId": "15328572193410378426"
     },
     "user_tz": -120
    },
    "id": "tzkd93POHFOL"
   },
   "outputs": [],
   "source": [
    "def subset_data(complete_data, subset_selection={}, subset_keep=[], merge_columns={}):\n",
    "    subset_data = complete_data\n",
    "    for label, value in subset_selection.items():\n",
    "        subset_data = subset_data[subset_data[label] == value]\n",
    "\n",
    "    for condition1, condition2 in subset_keep:\n",
    "        for label, value in condition1.items():\n",
    "            subset_data2 = subset_data[subset_data[label] == value]\n",
    "        indices = subset_data2.index\n",
    "        for label, value in condition2.items():\n",
    "            subset_data2 = subset_data2[subset_data2[label] == value]\n",
    "        indices2 = subset_data2.index\n",
    "        #remove for subset_data idx not in indices2\n",
    "        indices_to_remove = [idx for idx in indices if idx not in indices2]\n",
    "        subset_data = subset_data.drop(indices_to_remove)\n",
    "\n",
    "    for col_name, cols in merge_columns.items():\n",
    "        subset_data[col_name] = subset_data.loc[:,cols].apply(lambda row: '_'.join([str(x) for x in row if pd.notnull(x)]), axis=1)\n",
    "        subset_data = subset_data.drop(columns=cols)\n",
    "\n",
    "    return subset_data\n",
    "\n",
    "def generate_table(subset_data,\n",
    "                   label_convert_dict,\n",
    "                   rows_labels, column_labels,\n",
    "                   pivot_agg = lambda x: x,\n",
    "                   table_name=\"results\", save_table=False, round_at=4,\n",
    "                   exp_name:str='8dec_amz', folder_name:str= '../out/results/',):\n",
    "\n",
    "    subset_data = subset_data[rows_labels + column_labels]\n",
    "\n",
    "\n",
    "    table = pd.pivot_table(subset_data, index=rows_labels, values=column_labels, dropna=False, aggfunc=pivot_agg)\n",
    "\n",
    "    # Drop if all column_labels are nans\n",
    "    drop_row = table[column_labels].isnull().all(axis=1)\n",
    "    table = table[~drop_row]\n",
    "\n",
    "    table.reset_index(inplace=True)\n",
    "\n",
    "    table = table.round(round_at)\n",
    "\n",
    "    table['svd_type'] = table['svd_type'].map(label_convert_dict)\n",
    "\n",
    "    if save_table:\n",
    "        results_path = os.path.join(folder_name,exp_name)\n",
    "        if not os.path.exists(results_path):\n",
    "            os.makedirs(results_path)\n",
    "        table.to_csv(os.path.join(results_path,f'{table_name}.csv'), index=False)\n",
    "    return table"
   ]
  },
  {
   "cell_type": "markdown",
   "metadata": {
    "id": "7XA2jKamHFOM"
   },
   "source": [
    "### Plot utils"
   ]
  },
  {
   "cell_type": "code",
   "execution_count": null,
   "metadata": {
    "executionInfo": {
     "elapsed": 328,
     "status": "ok",
     "timestamp": 1727456534126,
     "user": {
      "displayName": "maria diana calugaru",
      "userId": "15328572193410378426"
     },
     "user_tz": -120
    },
    "id": "B5qb8H-cHFOM"
   },
   "outputs": [],
   "source": [
    "def to_color_blind(color):\n",
    "    if color == 'red':\n",
    "        return '#e41a1c'\n",
    "    elif color == 'blue':\n",
    "        return '#377eb8'\n",
    "    elif color == 'orange':\n",
    "        return '#ff7f00'\n",
    "    elif color == 'green':\n",
    "        return '#4daf4a'\n",
    "    elif color == 'brown':\n",
    "        return '#a65628'\n",
    "    elif color == 'grey':\n",
    "        return '#999999'\n",
    "    elif color == 'yellow':\n",
    "        return '#dede00'\n",
    "    elif color == 'pink':\n",
    "        return '#f781bf'\n",
    "    elif color == 'purple':\n",
    "        return '#984ea3'\n",
    "    else:\n",
    "        raise NotImplementedError(\"color not available\")\n",
    "\n",
    "def obtain_markers(number_of_markers):\n",
    "    list_of_markers = ['o', 'v', 's', 'p', 'P', '*', 'X', '+', 'D', 'x']\n",
    "    return list_of_markers[:number_of_markers]\n",
    "\n",
    "def obtain_color(number_of_colors):\n",
    "    all = ['#e41a1c', '#377eb8','#ff7f00','#4daf4a','#a65628',\n",
    "        '#999999','#dede00','#f781bf','#984ea3']\n",
    "    return all[:number_of_colors]"
   ]
  },
  {
   "cell_type": "code",
   "execution_count": 14,
   "metadata": {
    "executionInfo": {
     "elapsed": 323,
     "status": "ok",
     "timestamp": 1727456536164,
     "user": {
      "displayName": "maria diana calugaru",
      "userId": "15328572193410378426"
     },
     "user_tz": -120
    },
    "id": "TIYGalTjHFOM"
   },
   "outputs": [],
   "source": [
    "def create_plot(plot_instructions,\n",
    "                **kwargs):\n",
    "    final_fig, final_ax = plt.subplots(**plot_instructions[\"subplots\"])\n",
    "\n",
    "    # If final_ax is iterable\n",
    "    if hasattr(final_ax, '__iter__'):\n",
    "        for i,ax in enumerate(final_ax.flatten()):\n",
    "            single_plot(ax, **{k:v[i] if isinstance(v, list) or isinstance(v, tuple) else v for k,v in kwargs.items()})\n",
    "    else:\n",
    "        single_plot(final_ax, **kwargs)\n",
    "\n",
    "    for plt_func, plt_kwargs in plot_instructions.items():\n",
    "        if plt_func != \"subplots\":\n",
    "            run_plot_func(plt, plt_func, plt_kwargs)\n",
    "\n",
    "def single_plot(ax,\n",
    "                data,\n",
    "                label_columns: list,\n",
    "                x_column: str,\n",
    "                y_column: str,\n",
    "                plot_type = \"plot\",\n",
    "                plot_kwargs = {},\n",
    "                ax_instructions: dict = {},\n",
    "                label_convert_dict: dict = {}):\n",
    "    labels = []\n",
    "    for col in label_columns:\n",
    "        labels.append(data[col].unique())\n",
    "    labels = list(it.product(*labels))\n",
    "    plot_labels = [x[0] if len(x) == 1 else x for x in labels]\n",
    "    plot_labels = [label_convert_dict.get(x, x) for x in plot_labels]\n",
    "    labels = [x[1] for x in sorted(zip(plot_labels,labels))]\n",
    "    plot_labels = sorted(plot_labels)\n",
    "\n",
    "    colors = obtain_color(len(labels))\n",
    "    markers = obtain_markers(len(labels))\n",
    "\n",
    "    for i, values in enumerate(labels):\n",
    "        subset_data = data\n",
    "        for col, value in zip(label_columns, values):\n",
    "            subset_data = subset_data[subset_data[col] == value]\n",
    "\n",
    "        x_values = subset_data[x_column]\n",
    "        y_values = subset_data[y_column]\n",
    "        getattr(ax,plot_type)(x_values, y_values, label=plot_labels[i], color=colors[i], marker=markers[i], **plot_kwargs)\n",
    "\n",
    "    for ax_func, ax_kwargs in ax_instructions.items():\n",
    "        run_plot_func(ax, ax_func, ax_kwargs.copy())\n",
    "\n",
    "def run_plot_func(obj, func, kwargs):\n",
    "    other_func_instructions = None\n",
    "    if \"__kwargs__\" in kwargs:\n",
    "        func_kwargs = kwargs.pop(\"__kwargs__\")\n",
    "        kwargs, other_func_instructions = func_kwargs, kwargs\n",
    "\n",
    "    app = getattr(obj, func)(**kwargs)\n",
    "    if other_func_instructions is not None:\n",
    "        for func, kwargs in other_func_instructions.items():\n",
    "            run_plot_func(app, func, kwargs)\n",
    "\n",
    "    # for index, (model, data) in enumerate(results.items()):\n",
    "    #     ablation_values = list(data.keys())\n",
    "    #     y_values = list(data.values())\n",
    "    #     plt.plot(ablation_values, y_values, label=model, color=colors[index], marker=markers[index])\n",
    "    #\n",
    "    # plt.xticks(ablation_values, ablation_values)\n",
    "    # plt.xlabel(names_to_labels[ablation_type])\n",
    "    # plt.ylabel(metric)\n",
    "    # plt.title(names_to_labels[dataset_name])\n",
    "    # plt.legend()\n",
    "    # plt.show()"
   ]
  },
  {
   "cell_type": "code",
   "execution_count": 15,
   "metadata": {
    "executionInfo": {
     "elapsed": 867,
     "status": "ok",
     "timestamp": 1727456539109,
     "user": {
      "displayName": "maria diana calugaru",
      "userId": "15328572193410378426"
     },
     "user_tz": -120
    },
    "id": "7WqIMXQcHFOM"
   },
   "outputs": [],
   "source": [
    "def merge_epoch_data(metrics_per_epoch, table, table_columns = [], epoch_column_not_na = \"val_loss/dataloader_idx_1\"):\n",
    "    subset_metrics = {}\n",
    "    for exp_id in table.index:\n",
    "        subset_metrics[exp_id] = metrics_per_epoch[exp_id]\n",
    "\n",
    "        subset_metrics[exp_id] = subset_metrics[exp_id].loc[~subset_metrics[exp_id][epoch_column_not_na].isna()]\n",
    "\n",
    "        for col in table_columns:\n",
    "            subset_metrics[exp_id].loc[:,col] = table.loc[exp_id,col]\n",
    "\n",
    "    #concat all dataframes by row\n",
    "    subset_metrics = pd.concat(subset_metrics)\n",
    "\n",
    "    return subset_metrics"
   ]
  },
  {
   "cell_type": "markdown",
   "metadata": {
    "id": "M0ciL_HHHFON"
   },
   "source": [
    "### Important vars"
   ]
  },
  {
   "cell_type": "code",
   "execution_count": 16,
   "metadata": {
    "executionInfo": {
     "elapsed": 689,
     "status": "ok",
     "timestamp": 1727456542415,
     "user": {
      "displayName": "maria diana calugaru",
      "userId": "15328572193410378426"
     },
     "user_tz": -120
    },
    "id": "BLOJduzoHFON"
   },
   "outputs": [],
   "source": [
    "names_to_labels = {'ml-1m' : 'MovieLens 1M', 'ml-100k' : 'MovieLens 100k', 'amazon_beauty' : 'Amazon Beauty', 'foursquare-tky' : 'Foursquare TKY', 'foursquare-nyc' : 'Foursquare NYC',\n",
    "                   'emb_size' : 'Embedding Size', 'lookback' : 'Input sequence length', 'carbon_emissions' : r'CO\\textsubscript{2}-eq', 'model_size' : 'Model Size',\n",
    "                   'ml-20m': 'MovieLens 20M'}"
   ]
  },
  {
   "cell_type": "code",
   "execution_count": 17,
   "metadata": {
    "executionInfo": {
     "elapsed": 2,
     "status": "ok",
     "timestamp": 1727456543509,
     "user": {
      "displayName": "maria diana calugaru",
      "userId": "15328572193410378426"
     },
     "user_tz": -120
    },
    "id": "fZyWS_vXHFON"
   },
   "outputs": [],
   "source": [
    "all_datasets = sorted(['ml-1m', 'ml-100k', 'amazon_beauty', 'foursquare-tky', 'foursquare-nyc'])\n",
    "all_models= sorted(['SASRec','NARM', 'GRU4Rec', 'BERT4Rec', 'CORE'])\n",
    "metrics_names = [\"Precision\", \"Recall\", \"NDCG\", \"MAP\",\"MRR\", \"F1\"]\n",
    "metrics_ks = [5, 10, 20]\n",
    "all_metrics_names = [f\"{metric}@{k}\" for metric in metrics_names for k in metrics_ks]"
   ]
  },
  {
   "cell_type": "markdown",
   "metadata": {
    "id": "o0ltfYKRHFON"
   },
   "source": [
    "# MAIN"
   ]
  },
  {
   "cell_type": "markdown",
   "metadata": {
    "id": "OhYDKEwDHFON"
   },
   "source": [
    "## Load all experiments"
   ]
  },
  {
   "cell_type": "markdown",
   "metadata": {
    "id": "4I1Pk8KEHFON"
   },
   "source": [
    "### Exp configs"
   ]
  },
  {
   "cell_type": "code",
   "execution_count": 102,
   "metadata": {
    "executionInfo": {
     "elapsed": 319,
     "status": "ok",
     "timestamp": 1727456545082,
     "user": {
      "displayName": "maria diana calugaru",
      "userId": "15328572193410378426"
     },
     "user_tz": -120
    },
    "id": "PoZKUvp_HFON"
   },
   "outputs": [],
   "source": [
    "exp_name = \"prova_leporid_ml1m\""
   ]
  },
  {
   "cell_type": "code",
   "execution_count": 103,
   "metadata": {
    "executionInfo": {
     "elapsed": 18740,
     "status": "ok",
     "timestamp": 1727456564707,
     "user": {
      "displayName": "maria diana calugaru",
      "userId": "15328572193410378426"
     },
     "user_tz": -120
    },
    "id": "A1Ln-4w2HFON"
   },
   "outputs": [],
   "source": [
    "all_exps = load_all_configurations(exp_name)"
   ]
  },
  {
   "cell_type": "code",
   "execution_count": 104,
   "metadata": {
    "colab": {
     "base_uri": "https://localhost:8080/",
     "height": 1000
    },
    "executionInfo": {
     "elapsed": 605,
     "status": "ok",
     "timestamp": 1727456566660,
     "user": {
      "displayName": "maria diana calugaru",
      "userId": "15328572193410378426"
     },
     "user_tz": -120
    },
    "id": "1o8uQWZZHFOO",
    "outputId": "ac65ee42-50aa-4fe4-e651-ddca34b73722"
   },
   "outputs": [
    {
     "data": {
      "text/html": [
       "<div>\n",
       "<style scoped>\n",
       "    .dataframe tbody tr th:only-of-type {\n",
       "        vertical-align: middle;\n",
       "    }\n",
       "\n",
       "    .dataframe tbody tr th {\n",
       "        vertical-align: top;\n",
       "    }\n",
       "\n",
       "    .dataframe thead th {\n",
       "        text-align: right;\n",
       "    }\n",
       "</style>\n",
       "<table border=\"1\" class=\"dataframe\">\n",
       "  <thead>\n",
       "    <tr style=\"text-align: right;\">\n",
       "      <th></th>\n",
       "      <th>data_params.collator_params.lookback</th>\n",
       "      <th>data_params.collator_params.lookforward</th>\n",
       "      <th>data_params.collator_params.num_items</th>\n",
       "      <th>data_params.collator_params.num_negatives.test</th>\n",
       "      <th>data_params.collator_params.num_negatives.train</th>\n",
       "      <th>data_params.collator_params.num_negatives.val</th>\n",
       "      <th>data_params.collator_params.out_seq_len.test</th>\n",
       "      <th>data_params.collator_params.out_seq_len.train</th>\n",
       "      <th>data_params.collator_params.out_seq_len.val</th>\n",
       "      <th>data_params.collator_params.padding_value</th>\n",
       "      <th>...</th>\n",
       "      <th>model.rec_model.num_items</th>\n",
       "      <th>model.rec_model.num_users</th>\n",
       "      <th>model.trainer_params.callbacks</th>\n",
       "      <th>model.trainer_params.max_epochs</th>\n",
       "      <th>model.useSVD</th>\n",
       "      <th>model.use_diag</th>\n",
       "      <th>svd.svd.cutoff</th>\n",
       "      <th>svd.svd.freeze_emb</th>\n",
       "      <th>svd.svd.mean_imputation</th>\n",
       "      <th>svd.svd.use_diag</th>\n",
       "    </tr>\n",
       "  </thead>\n",
       "  <tbody>\n",
       "    <tr>\n",
       "      <th>2DjIG6BV25SIuYF7</th>\n",
       "      <td>200</td>\n",
       "      <td>1</td>\n",
       "      <td>3416</td>\n",
       "      <td>100</td>\n",
       "      <td>1</td>\n",
       "      <td>1</td>\n",
       "      <td>1</td>\n",
       "      <td>None</td>\n",
       "      <td>1</td>\n",
       "      <td>0</td>\n",
       "      <td>...</td>\n",
       "      <td>3416</td>\n",
       "      <td>6040</td>\n",
       "      <td>[{'ModelCheckpoint': {'mode': 'min', 'monitor'...</td>\n",
       "      <td>500</td>\n",
       "      <td>True</td>\n",
       "      <td>False</td>\n",
       "      <td>True</td>\n",
       "      <td>False</td>\n",
       "      <td>both</td>\n",
       "      <td>False</td>\n",
       "    </tr>\n",
       "  </tbody>\n",
       "</table>\n",
       "<p>1 rows × 45 columns</p>\n",
       "</div>"
      ],
      "text/plain": [
       "                  data_params.collator_params.lookback  \\\n",
       "2DjIG6BV25SIuYF7                                   200   \n",
       "\n",
       "                  data_params.collator_params.lookforward  \\\n",
       "2DjIG6BV25SIuYF7                                        1   \n",
       "\n",
       "                  data_params.collator_params.num_items  \\\n",
       "2DjIG6BV25SIuYF7                                   3416   \n",
       "\n",
       "                  data_params.collator_params.num_negatives.test  \\\n",
       "2DjIG6BV25SIuYF7                                             100   \n",
       "\n",
       "                  data_params.collator_params.num_negatives.train  \\\n",
       "2DjIG6BV25SIuYF7                                                1   \n",
       "\n",
       "                  data_params.collator_params.num_negatives.val  \\\n",
       "2DjIG6BV25SIuYF7                                              1   \n",
       "\n",
       "                  data_params.collator_params.out_seq_len.test  \\\n",
       "2DjIG6BV25SIuYF7                                             1   \n",
       "\n",
       "                 data_params.collator_params.out_seq_len.train  \\\n",
       "2DjIG6BV25SIuYF7                                          None   \n",
       "\n",
       "                  data_params.collator_params.out_seq_len.val  \\\n",
       "2DjIG6BV25SIuYF7                                            1   \n",
       "\n",
       "                  data_params.collator_params.padding_value  ...  \\\n",
       "2DjIG6BV25SIuYF7                                          0  ...   \n",
       "\n",
       "                 model.rec_model.num_items  model.rec_model.num_users  \\\n",
       "2DjIG6BV25SIuYF7                      3416                       6040   \n",
       "\n",
       "                                     model.trainer_params.callbacks  \\\n",
       "2DjIG6BV25SIuYF7  [{'ModelCheckpoint': {'mode': 'min', 'monitor'...   \n",
       "\n",
       "                 model.trainer_params.max_epochs model.useSVD  model.use_diag  \\\n",
       "2DjIG6BV25SIuYF7                             500         True           False   \n",
       "\n",
       "                  svd.svd.cutoff  svd.svd.freeze_emb  svd.svd.mean_imputation  \\\n",
       "2DjIG6BV25SIuYF7            True               False                     both   \n",
       "\n",
       "                 svd.svd.use_diag  \n",
       "2DjIG6BV25SIuYF7            False  \n",
       "\n",
       "[1 rows x 45 columns]"
      ]
     },
     "execution_count": 104,
     "metadata": {},
     "output_type": "execute_result"
    }
   ],
   "source": [
    "all_exps"
   ]
  },
  {
   "cell_type": "markdown",
   "metadata": {
    "id": "gujXfeArHFOO"
   },
   "source": [
    "### Load exp metrics"
   ]
  },
  {
   "cell_type": "code",
   "execution_count": 129,
   "metadata": {
    "colab": {
     "base_uri": "https://localhost:8080/"
    },
    "executionInfo": {
     "elapsed": 47576,
     "status": "ok",
     "timestamp": 1727456617511,
     "user": {
      "displayName": "maria diana calugaru",
      "userId": "15328572193410378426"
     },
     "user_tz": -120
    },
    "id": "C-YtkeJTHFOO",
    "outputId": "870a77a4-c8f5-4a85-e6cd-39b1a35b8dfd"
   },
   "outputs": [
    {
     "data": {
      "text/plain": [
       "{'2DjIG6BV25SIuYF7':       epoch   step  test_F1_@10  test_F1_@20  test_F1_@5  test_MAP_@10  \\\n",
       " 0         0     47          NaN          NaN         NaN           NaN   \n",
       " 1         0     47          NaN          NaN         NaN           NaN   \n",
       " 2         1     95          NaN          NaN         NaN           NaN   \n",
       " 3         1     95          NaN          NaN         NaN           NaN   \n",
       " 4         2    143          NaN          NaN         NaN           NaN   \n",
       " ...     ...    ...          ...          ...         ...           ...   \n",
       " 996     498  23951          NaN          NaN         NaN           NaN   \n",
       " 997     498  23951          NaN          NaN         NaN           NaN   \n",
       " 998     499  23999          NaN          NaN         NaN           NaN   \n",
       " 999     499  23999          NaN          NaN         NaN           NaN   \n",
       " 1000    500  24000     0.147223      0.08515    0.236466      0.165433   \n",
       " \n",
       "       test_MAP_@20  test_MAP_@5  test_MRR_@10  test_MRR_@20  ...  \\\n",
       " 0              NaN          NaN           NaN           NaN  ...   \n",
       " 1              NaN          NaN           NaN           NaN  ...   \n",
       " 2              NaN          NaN           NaN           NaN  ...   \n",
       " 3              NaN          NaN           NaN           NaN  ...   \n",
       " 4              NaN          NaN           NaN           NaN  ...   \n",
       " ...            ...          ...           ...           ...  ...   \n",
       " 996            NaN          NaN           NaN           NaN  ...   \n",
       " 997            NaN          NaN           NaN           NaN  ...   \n",
       " 998            NaN          NaN           NaN           NaN  ...   \n",
       " 999            NaN          NaN           NaN           NaN  ...   \n",
       " 1000      0.111329     0.231736      0.518383       0.52415  ...   \n",
       " \n",
       "       val_Precision_@5/dataloader_idx_0  val_Precision_@5/dataloader_idx_1  \\\n",
       " 0                                   0.2                           0.057219   \n",
       " 1                                   NaN                                NaN   \n",
       " 2                                   0.2                           0.057914   \n",
       " 3                                   NaN                                NaN   \n",
       " 4                                   0.2                           0.058742   \n",
       " ...                                 ...                                ...   \n",
       " 996                                 0.2                           0.140728   \n",
       " 997                                 NaN                                NaN   \n",
       " 998                                 0.2                           0.140894   \n",
       " 999                                 NaN                                NaN   \n",
       " 1000                                NaN                                NaN   \n",
       " \n",
       "       val_Recall_@10/dataloader_idx_0  val_Recall_@10/dataloader_idx_1  \\\n",
       " 0                                 1.0                         0.426159   \n",
       " 1                                 NaN                              NaN   \n",
       " 2                                 1.0                         0.434437   \n",
       " 3                                 NaN                              NaN   \n",
       " 4                                 1.0                         0.429305   \n",
       " ...                               ...                              ...   \n",
       " 996                               1.0                         0.808278   \n",
       " 997                               NaN                              NaN   \n",
       " 998                               1.0                         0.809603   \n",
       " 999                               NaN                              NaN   \n",
       " 1000                              NaN                              NaN   \n",
       " \n",
       "       val_Recall_@20/dataloader_idx_0  val_Recall_@20/dataloader_idx_1  \\\n",
       " 0                                 1.0                         0.607616   \n",
       " 1                                 NaN                              NaN   \n",
       " 2                                 1.0                         0.613245   \n",
       " 3                                 NaN                              NaN   \n",
       " 4                                 1.0                         0.615232   \n",
       " ...                               ...                              ...   \n",
       " 996                               1.0                         0.892715   \n",
       " 997                               NaN                              NaN   \n",
       " 998                               1.0                         0.890563   \n",
       " 999                               NaN                              NaN   \n",
       " 1000                              NaN                              NaN   \n",
       " \n",
       "       val_Recall_@5/dataloader_idx_0  val_Recall_@5/dataloader_idx_1  \\\n",
       " 0                                1.0                        0.286093   \n",
       " 1                                NaN                             NaN   \n",
       " 2                                1.0                        0.289570   \n",
       " 3                                NaN                             NaN   \n",
       " 4                                1.0                        0.293709   \n",
       " ...                              ...                             ...   \n",
       " 996                              1.0                        0.703642   \n",
       " 997                              NaN                             NaN   \n",
       " 998                              1.0                        0.704470   \n",
       " 999                              NaN                             NaN   \n",
       " 1000                             NaN                             NaN   \n",
       " \n",
       "       val_loss/dataloader_idx_0  val_loss/dataloader_idx_1  \n",
       " 0                      0.550445                   0.565942  \n",
       " 1                           NaN                        NaN  \n",
       " 2                      0.546985                   0.526561  \n",
       " 3                           NaN                        NaN  \n",
       " 4                      0.565200                   0.526875  \n",
       " ...                         ...                        ...  \n",
       " 996                    0.305620                   0.237118  \n",
       " 997                         NaN                        NaN  \n",
       " 998                    0.305036                   0.238498  \n",
       " 999                         NaN                        NaN  \n",
       " 1000                        NaN                        NaN  \n",
       " \n",
       " [1001 rows x 78 columns]}"
      ]
     },
     "execution_count": 129,
     "metadata": {},
     "output_type": "execute_result"
    }
   ],
   "source": [
    "metrics_per_epoch = load_metrics(exp_name)\n",
    "metrics_per_epoch"
   ]
  },
  {
   "cell_type": "code",
   "execution_count": 130,
   "metadata": {
    "colab": {
     "base_uri": "https://localhost:8080/",
     "height": 1000
    },
    "executionInfo": {
     "elapsed": 7,
     "status": "ok",
     "timestamp": 1727456617512,
     "user": {
      "displayName": "maria diana calugaru",
      "userId": "15328572193410378426"
     },
     "user_tz": -120
    },
    "id": "UpHEHWfiHFOP",
    "outputId": "a7018b46-0293-4eb3-bc43-71cf682654a6"
   },
   "outputs": [
    {
     "data": {
      "text/html": [
       "<div>\n",
       "<style scoped>\n",
       "    .dataframe tbody tr th:only-of-type {\n",
       "        vertical-align: middle;\n",
       "    }\n",
       "\n",
       "    .dataframe tbody tr th {\n",
       "        vertical-align: top;\n",
       "    }\n",
       "\n",
       "    .dataframe thead th {\n",
       "        text-align: right;\n",
       "    }\n",
       "</style>\n",
       "<table border=\"1\" class=\"dataframe\">\n",
       "  <thead>\n",
       "    <tr style=\"text-align: right;\">\n",
       "      <th></th>\n",
       "      <th>Precision_@5</th>\n",
       "      <th>Precision_@10</th>\n",
       "      <th>Precision_@20</th>\n",
       "      <th>Recall_@5</th>\n",
       "      <th>Recall_@10</th>\n",
       "      <th>Recall_@20</th>\n",
       "      <th>NDCG_@5</th>\n",
       "      <th>NDCG_@10</th>\n",
       "      <th>NDCG_@20</th>\n",
       "      <th>MAP_@5</th>\n",
       "      <th>MAP_@10</th>\n",
       "      <th>MAP_@20</th>\n",
       "      <th>MRR_@5</th>\n",
       "      <th>MRR_@10</th>\n",
       "      <th>MRR_@20</th>\n",
       "      <th>F1_@5</th>\n",
       "      <th>F1_@10</th>\n",
       "      <th>F1_@20</th>\n",
       "    </tr>\n",
       "  </thead>\n",
       "  <tbody>\n",
       "    <tr>\n",
       "      <th>2DjIG6BV25SIuYF7</th>\n",
       "      <td>0.140629</td>\n",
       "      <td>0.081225</td>\n",
       "      <td>0.044495</td>\n",
       "      <td>0.703146</td>\n",
       "      <td>0.812252</td>\n",
       "      <td>0.889901</td>\n",
       "      <td>0.551003</td>\n",
       "      <td>0.586502</td>\n",
       "      <td>0.606137</td>\n",
       "      <td>0.229886</td>\n",
       "      <td>0.164765</td>\n",
       "      <td>0.110981</td>\n",
       "      <td>0.500237</td>\n",
       "      <td>0.515015</td>\n",
       "      <td>0.520405</td>\n",
       "      <td>0.21201</td>\n",
       "      <td>0.137402</td>\n",
       "      <td>0.08154</td>\n",
       "    </tr>\n",
       "  </tbody>\n",
       "</table>\n",
       "</div>"
      ],
      "text/plain": [
       "                  Precision_@5  Precision_@10  Precision_@20  Recall_@5  \\\n",
       "2DjIG6BV25SIuYF7      0.140629       0.081225       0.044495   0.703146   \n",
       "\n",
       "                  Recall_@10  Recall_@20   NDCG_@5  NDCG_@10  NDCG_@20  \\\n",
       "2DjIG6BV25SIuYF7    0.812252    0.889901  0.551003  0.586502  0.606137   \n",
       "\n",
       "                    MAP_@5   MAP_@10   MAP_@20    MRR_@5   MRR_@10   MRR_@20  \\\n",
       "2DjIG6BV25SIuYF7  0.229886  0.164765  0.110981  0.500237  0.515015  0.520405   \n",
       "\n",
       "                    F1_@5    F1_@10   F1_@20  \n",
       "2DjIG6BV25SIuYF7  0.21201  0.137402  0.08154  "
      ]
     },
     "execution_count": 130,
     "metadata": {},
     "output_type": "execute_result"
    }
   ],
   "source": [
    "best_metrics = get_metrics_given_best_val(metrics_per_epoch, all_metrics_names, fix_rec_at_k=True)\n",
    "best_metrics"
   ]
  },
  {
   "cell_type": "code",
   "execution_count": 131,
   "metadata": {
    "colab": {
     "base_uri": "https://localhost:8080/",
     "height": 1000
    },
    "executionInfo": {
     "elapsed": 18965,
     "status": "ok",
     "timestamp": 1727456644829,
     "user": {
      "displayName": "maria diana calugaru",
      "userId": "15328572193410378426"
     },
     "user_tz": -120
    },
    "id": "XoLtv4DHHFOP",
    "outputId": "34c7c852-1469-48f2-a9ed-974120b52995"
   },
   "outputs": [
    {
     "data": {
      "text/html": [
       "<div>\n",
       "<style scoped>\n",
       "    .dataframe tbody tr th:only-of-type {\n",
       "        vertical-align: middle;\n",
       "    }\n",
       "\n",
       "    .dataframe tbody tr th {\n",
       "        vertical-align: top;\n",
       "    }\n",
       "\n",
       "    .dataframe thead th {\n",
       "        text-align: right;\n",
       "    }\n",
       "</style>\n",
       "<table border=\"1\" class=\"dataframe\">\n",
       "  <thead>\n",
       "    <tr style=\"text-align: right;\">\n",
       "      <th></th>\n",
       "    </tr>\n",
       "  </thead>\n",
       "  <tbody>\n",
       "  </tbody>\n",
       "</table>\n",
       "</div>"
      ],
      "text/plain": [
       "Empty DataFrame\n",
       "Columns: []\n",
       "Index: []"
      ]
     },
     "execution_count": 131,
     "metadata": {},
     "output_type": "execute_result"
    }
   ],
   "source": [
    "emissions = load_emissions(exp_name)\n",
    "emissions"
   ]
  },
  {
   "cell_type": "code",
   "execution_count": 108,
   "metadata": {
    "id": "UbND-fK8HFOP"
   },
   "outputs": [],
   "source": [
    "#all_flops = load_flops(exp_name)\n",
    "#all_flops"
   ]
  },
  {
   "cell_type": "code",
   "execution_count": 132,
   "metadata": {
    "colab": {
     "base_uri": "https://localhost:8080/",
     "height": 1000
    },
    "executionInfo": {
     "elapsed": 366,
     "status": "ok",
     "timestamp": 1727456960710,
     "user": {
      "displayName": "maria diana calugaru",
      "userId": "15328572193410378426"
     },
     "user_tz": -120
    },
    "id": "tcdkVUQcHFOP",
    "outputId": "9192918d-866a-4cb9-a54f-8ff9174e0902"
   },
   "outputs": [
    {
     "data": {
      "text/html": [
       "<div>\n",
       "<style scoped>\n",
       "    .dataframe tbody tr th:only-of-type {\n",
       "        vertical-align: middle;\n",
       "    }\n",
       "\n",
       "    .dataframe tbody tr th {\n",
       "        vertical-align: top;\n",
       "    }\n",
       "\n",
       "    .dataframe thead th {\n",
       "        text-align: right;\n",
       "    }\n",
       "</style>\n",
       "<table border=\"1\" class=\"dataframe\">\n",
       "  <thead>\n",
       "    <tr style=\"text-align: right;\">\n",
       "      <th></th>\n",
       "      <th>data_params.collator_params.lookback</th>\n",
       "      <th>data_params.collator_params.lookforward</th>\n",
       "      <th>data_params.collator_params.num_items</th>\n",
       "      <th>data_params.collator_params.num_negatives.test</th>\n",
       "      <th>data_params.collator_params.num_negatives.train</th>\n",
       "      <th>data_params.collator_params.num_negatives.val</th>\n",
       "      <th>data_params.collator_params.out_seq_len.test</th>\n",
       "      <th>data_params.collator_params.out_seq_len.train</th>\n",
       "      <th>data_params.collator_params.out_seq_len.val</th>\n",
       "      <th>data_params.collator_params.padding_value</th>\n",
       "      <th>...</th>\n",
       "      <th>NDCG_@20</th>\n",
       "      <th>MAP_@5</th>\n",
       "      <th>MAP_@10</th>\n",
       "      <th>MAP_@20</th>\n",
       "      <th>MRR_@5</th>\n",
       "      <th>MRR_@10</th>\n",
       "      <th>MRR_@20</th>\n",
       "      <th>F1_@5</th>\n",
       "      <th>F1_@10</th>\n",
       "      <th>F1_@20</th>\n",
       "    </tr>\n",
       "  </thead>\n",
       "  <tbody>\n",
       "    <tr>\n",
       "      <th>2DjIG6BV25SIuYF7</th>\n",
       "      <td>200</td>\n",
       "      <td>1</td>\n",
       "      <td>3416</td>\n",
       "      <td>100</td>\n",
       "      <td>1</td>\n",
       "      <td>1</td>\n",
       "      <td>1</td>\n",
       "      <td>None</td>\n",
       "      <td>1</td>\n",
       "      <td>0</td>\n",
       "      <td>...</td>\n",
       "      <td>0.606137</td>\n",
       "      <td>0.229886</td>\n",
       "      <td>0.164765</td>\n",
       "      <td>0.110981</td>\n",
       "      <td>0.500237</td>\n",
       "      <td>0.515015</td>\n",
       "      <td>0.520405</td>\n",
       "      <td>0.21201</td>\n",
       "      <td>0.137402</td>\n",
       "      <td>0.08154</td>\n",
       "    </tr>\n",
       "  </tbody>\n",
       "</table>\n",
       "<p>1 rows × 63 columns</p>\n",
       "</div>"
      ],
      "text/plain": [
       "                  data_params.collator_params.lookback  \\\n",
       "2DjIG6BV25SIuYF7                                   200   \n",
       "\n",
       "                  data_params.collator_params.lookforward  \\\n",
       "2DjIG6BV25SIuYF7                                        1   \n",
       "\n",
       "                  data_params.collator_params.num_items  \\\n",
       "2DjIG6BV25SIuYF7                                   3416   \n",
       "\n",
       "                  data_params.collator_params.num_negatives.test  \\\n",
       "2DjIG6BV25SIuYF7                                             100   \n",
       "\n",
       "                  data_params.collator_params.num_negatives.train  \\\n",
       "2DjIG6BV25SIuYF7                                                1   \n",
       "\n",
       "                  data_params.collator_params.num_negatives.val  \\\n",
       "2DjIG6BV25SIuYF7                                              1   \n",
       "\n",
       "                  data_params.collator_params.out_seq_len.test  \\\n",
       "2DjIG6BV25SIuYF7                                             1   \n",
       "\n",
       "                 data_params.collator_params.out_seq_len.train  \\\n",
       "2DjIG6BV25SIuYF7                                          None   \n",
       "\n",
       "                  data_params.collator_params.out_seq_len.val  \\\n",
       "2DjIG6BV25SIuYF7                                            1   \n",
       "\n",
       "                  data_params.collator_params.padding_value  ...  NDCG_@20  \\\n",
       "2DjIG6BV25SIuYF7                                          0  ...  0.606137   \n",
       "\n",
       "                    MAP_@5   MAP_@10   MAP_@20    MRR_@5   MRR_@10   MRR_@20  \\\n",
       "2DjIG6BV25SIuYF7  0.229886  0.164765  0.110981  0.500237  0.515015  0.520405   \n",
       "\n",
       "                    F1_@5    F1_@10   F1_@20  \n",
       "2DjIG6BV25SIuYF7  0.21201  0.137402  0.08154  \n",
       "\n",
       "[1 rows x 63 columns]"
      ]
     },
     "execution_count": 132,
     "metadata": {},
     "output_type": "execute_result"
    }
   ],
   "source": [
    "#complete_data = all_exps.join([best_metrics, emissions], how='inner') #all_flops\n",
    "complete_data = all_exps.join([best_metrics], how='inner')\n",
    "#join[all_exps, best_metrics, emissions, all_flops], axis=1)\n",
    "metrics_per_epoch = {exp_id: metrics_per_epoch[exp_id] for exp_id in complete_data.index}\n",
    "complete_data"
   ]
  },
  {
   "cell_type": "code",
   "execution_count": 133,
   "metadata": {
    "colab": {
     "base_uri": "https://localhost:8080/"
    },
    "executionInfo": {
     "elapsed": 1322,
     "status": "ok",
     "timestamp": 1727456965384,
     "user": {
      "displayName": "maria diana calugaru",
      "userId": "15328572193410378426"
     },
     "user_tz": -120
    },
    "id": "_CIA-hzHHFOP",
    "outputId": "2c745be7-d760-4233-9ff8-d10d8d6ca13c"
   },
   "outputs": [
    {
     "data": {
      "text/plain": [
       "{'2DjIG6BV25SIuYF7':       epoch   step  test_F1_@10  test_F1_@20  test_F1_@5  test_MAP_@10  \\\n",
       " 0         0     47          NaN          NaN         NaN           NaN   \n",
       " 1         0     47          NaN          NaN         NaN           NaN   \n",
       " 2         1     95          NaN          NaN         NaN           NaN   \n",
       " 3         1     95          NaN          NaN         NaN           NaN   \n",
       " 4         2    143          NaN          NaN         NaN           NaN   \n",
       " ...     ...    ...          ...          ...         ...           ...   \n",
       " 996     498  23951          NaN          NaN         NaN           NaN   \n",
       " 997     498  23951          NaN          NaN         NaN           NaN   \n",
       " 998     499  23999          NaN          NaN         NaN           NaN   \n",
       " 999     499  23999          NaN          NaN         NaN           NaN   \n",
       " 1000    500  24000     0.147223      0.08515    0.236466      0.165433   \n",
       " \n",
       "       test_MAP_@20  test_MAP_@5  test_MRR_@10  test_MRR_@20  ...  \\\n",
       " 0              NaN          NaN           NaN           NaN  ...   \n",
       " 1              NaN          NaN           NaN           NaN  ...   \n",
       " 2              NaN          NaN           NaN           NaN  ...   \n",
       " 3              NaN          NaN           NaN           NaN  ...   \n",
       " 4              NaN          NaN           NaN           NaN  ...   \n",
       " ...            ...          ...           ...           ...  ...   \n",
       " 996            NaN          NaN           NaN           NaN  ...   \n",
       " 997            NaN          NaN           NaN           NaN  ...   \n",
       " 998            NaN          NaN           NaN           NaN  ...   \n",
       " 999            NaN          NaN           NaN           NaN  ...   \n",
       " 1000      0.111329     0.231736      0.518383       0.52415  ...   \n",
       " \n",
       "       val_Precision_@5/dataloader_idx_0  val_Precision_@5/dataloader_idx_1  \\\n",
       " 0                                   0.2                           0.057219   \n",
       " 1                                   NaN                                NaN   \n",
       " 2                                   0.2                           0.057914   \n",
       " 3                                   NaN                                NaN   \n",
       " 4                                   0.2                           0.058742   \n",
       " ...                                 ...                                ...   \n",
       " 996                                 0.2                           0.140728   \n",
       " 997                                 NaN                                NaN   \n",
       " 998                                 0.2                           0.140894   \n",
       " 999                                 NaN                                NaN   \n",
       " 1000                                NaN                                NaN   \n",
       " \n",
       "       val_Recall_@10/dataloader_idx_0  val_Recall_@10/dataloader_idx_1  \\\n",
       " 0                                 1.0                         0.426159   \n",
       " 1                                 NaN                              NaN   \n",
       " 2                                 1.0                         0.434437   \n",
       " 3                                 NaN                              NaN   \n",
       " 4                                 1.0                         0.429305   \n",
       " ...                               ...                              ...   \n",
       " 996                               1.0                         0.808278   \n",
       " 997                               NaN                              NaN   \n",
       " 998                               1.0                         0.809603   \n",
       " 999                               NaN                              NaN   \n",
       " 1000                              NaN                              NaN   \n",
       " \n",
       "       val_Recall_@20/dataloader_idx_0  val_Recall_@20/dataloader_idx_1  \\\n",
       " 0                                 1.0                         0.607616   \n",
       " 1                                 NaN                              NaN   \n",
       " 2                                 1.0                         0.613245   \n",
       " 3                                 NaN                              NaN   \n",
       " 4                                 1.0                         0.615232   \n",
       " ...                               ...                              ...   \n",
       " 996                               1.0                         0.892715   \n",
       " 997                               NaN                              NaN   \n",
       " 998                               1.0                         0.890563   \n",
       " 999                               NaN                              NaN   \n",
       " 1000                              NaN                              NaN   \n",
       " \n",
       "       val_Recall_@5/dataloader_idx_0  val_Recall_@5/dataloader_idx_1  \\\n",
       " 0                                1.0                        0.286093   \n",
       " 1                                NaN                             NaN   \n",
       " 2                                1.0                        0.289570   \n",
       " 3                                NaN                             NaN   \n",
       " 4                                1.0                        0.293709   \n",
       " ...                              ...                             ...   \n",
       " 996                              1.0                        0.703642   \n",
       " 997                              NaN                             NaN   \n",
       " 998                              1.0                        0.704470   \n",
       " 999                              NaN                             NaN   \n",
       " 1000                             NaN                             NaN   \n",
       " \n",
       "       val_loss/dataloader_idx_0  val_loss/dataloader_idx_1  \n",
       " 0                      0.550445                   0.565942  \n",
       " 1                           NaN                        NaN  \n",
       " 2                      0.546985                   0.526561  \n",
       " 3                           NaN                        NaN  \n",
       " 4                      0.565200                   0.526875  \n",
       " ...                         ...                        ...  \n",
       " 996                    0.305620                   0.237118  \n",
       " 997                         NaN                        NaN  \n",
       " 998                    0.305036                   0.238498  \n",
       " 999                         NaN                        NaN  \n",
       " 1000                        NaN                        NaN  \n",
       " \n",
       " [1001 rows x 78 columns]}"
      ]
     },
     "execution_count": 133,
     "metadata": {},
     "output_type": "execute_result"
    }
   ],
   "source": [
    "column_labels = ['duration', 'emissions', 'emissions_rate', 'cpu_power','gpu_power', 'ram_power', 'cpu_energy', 'gpu_energy', 'ram_energy', 'energy_consumed'] #, 'flops', 'latency', 'FLOPS']\n",
    "#add_info_to_metrics_per_epoch(metrics_per_epoch, complete_data, column_labels)\n",
    "metrics_per_epoch"
   ]
  },
  {
   "cell_type": "markdown",
   "metadata": {
    "id": "NG_ywmJ7HFOQ"
   },
   "source": [
    "## Table generation"
   ]
  },
  {
   "cell_type": "code",
   "execution_count": 134,
   "metadata": {
    "id": "9JN9z-yyHFOQ"
   },
   "outputs": [],
   "source": [
    "#for col in sorted(complete_data.columns): print(col)"
   ]
  },
  {
   "cell_type": "code",
   "execution_count": 136,
   "metadata": {
    "executionInfo": {
     "elapsed": 444,
     "status": "ok",
     "timestamp": 1727456968785,
     "user": {
      "displayName": "maria diana calugaru",
      "userId": "15328572193410378426"
     },
     "user_tz": -120
    },
    "id": "2ulV9xUCHFOQ"
   },
   "outputs": [],
   "source": [
    "rows_labels = [\"svd_type\"] #\"data_params.name\",\"model.rec_model.name\",  \"model.trainer_params.max_epochs\"\n",
    "#metrics_names = [\"Precision\", \"Recall\", \"NDCG\", \"MRR\", \"MAP\", \"F1\"]\n",
    "metrics_names = [\"Precision\", \"Recall\", \"NDCG\",\"MRR\"]\n",
    "metrics_ks = [5, 10, 20]\n",
    "column_labels = sorted([f\"{metric}_@{k}\" for metric in metrics_names for k in metrics_ks])\n",
    "subset_selection = {}\n",
    "subset_keep = []\n",
    "\n",
    "\n",
    "\n",
    "merge_columns = {\"svd_type\": [\"model.useSVD\",\"model.use_diag\", \"model.mean_imputation\", \"model.svd_cutoff\"]}\n",
    "#label_convert_dict = {\"False_NaN_NaN\": \"No SVD\",\n",
    " #                     \"True_False_both\": \"global mean SVD\",\n",
    "  #                    \"True_True_both\": \"global mean SVD diag\"}\n",
    "\n",
    "\n",
    "\n",
    "label_convert_dict = {\"False_False_NaN_NaN\": \"No SVD\",\n",
    "                    \"True_False_user_item_mean\": \"user-item mean\",\n",
    "                    \"True_True_user_item_mean\": \"user-item mean DIAG\",\n",
    "                     \"True_True_both\": \"global mean DIAG\", \n",
    "                     \"True_False_both\": \"global mean\", \n",
    "                     \"True_False_center_both\": \"global centering\", \n",
    "                     \"True_True_center_both\": \"global_centering DIAG\", \n",
    "                     \"True_True_iterative_svd\": \"iterative svd 10 DIAG\",\n",
    "                     \"True_False_iterative_svd\": \"iterative svd 10\",\n",
    "                     \"True_True_iterative_svd_64\": \"iterative svd 64 DIAG\",\n",
    "                     \"True_False_iterative_svd_64\": \"iterative svd 64\",\n",
    "                     \"True_False_iterative_svd_accurate\": \"iterative svd accurate\",\n",
    "                     \"True_False_both_3.0\": \"global mean cutoff 3\",\n",
    "                     \"True_True_both_3.0\": \"global mean DIAG cutoff 3\",\n",
    "                     \"True_False_both_64.0\": \"global mean cutoff 64\",\n",
    "                     \"True_True_both_64.0\": \"global mean DIAG cutoff 64\",\n",
    "                     \"True_False_both_128.0\": \"global mean cutoff 128\",\n",
    "                     \"True_True_both_128.0\": \"global mean DIAG cutoff 128\",\n",
    "                     \"True_False_both_22.0\": \"global mean cutoff 22\",\n",
    "                     \"True_True_both_22.0\": \"global mean DIAG cutoff 22\",\n",
    "                     \"True_False_both_59.0\": \"global mean cutoff 59\",\n",
    "                     \"True_False_both_48.0\": \"global mean cutoff 48\"\n",
    "                     }\n",
    "\n",
    "                      \n",
    "#merge_columns = {\"svd_type\": [\"model.useSVD\",\"model.freeze_emb\",\"model.use_diag\",\"model.svd_cutoff\"]}\n",
    "#label_convert_dict = {\"False\": \"No SVD\", \"True_False_False\": \"SVD\", \"True_False_True\": \"SVD diag\", \"True_True_False\": \"SVD freeze\",\"True_True_True\": \"SVD freeze diag\", \"True_False_False_64.0\": \"SVD + cutoff\", \"True_False_True_64.0\": \"SVD diag + cutoff\"}\n",
    "#label_convert_dict = {\"False_False\": \"No SVD\", \"True_False_False\": \"SVD\", \"True_True\": \"SVD freeze\", \"True_False_64.0\":\"SVD + cutoff\", \"True_True_64.0\":\"SVD freeze+cutoff\"}\n"
   ]
  },
  {
   "cell_type": "code",
   "execution_count": 137,
   "metadata": {
    "colab": {
     "base_uri": "https://localhost:8080/",
     "height": 462
    },
    "executionInfo": {
     "elapsed": 2056,
     "status": "ok",
     "timestamp": 1727456973385,
     "user": {
      "displayName": "maria diana calugaru",
      "userId": "15328572193410378426"
     },
     "user_tz": -120
    },
    "id": "A-TUN_6HHFOQ",
    "outputId": "876f74e0-37bd-4006-a09e-3a22f3951555"
   },
   "outputs": [
    {
     "ename": "KeyError",
     "evalue": "\"['model.mean_imputation', 'model.svd_cutoff'] not in index\"",
     "output_type": "error",
     "traceback": [
      "\u001b[0;31m---------------------------------------------------------------------------\u001b[0m",
      "\u001b[0;31mKeyError\u001b[0m                                  Traceback (most recent call last)",
      "Cell \u001b[0;32mIn[137], line 1\u001b[0m\n\u001b[0;32m----> 1\u001b[0m table \u001b[38;5;241m=\u001b[39m generate_table(\u001b[43msubset_data\u001b[49m\u001b[43m(\u001b[49m\u001b[43mcomplete_data\u001b[49m\u001b[43m,\u001b[49m\u001b[43m \u001b[49m\u001b[43msubset_selection\u001b[49m\u001b[43m,\u001b[49m\u001b[43m \u001b[49m\u001b[43msubset_keep\u001b[49m\u001b[43m,\u001b[49m\u001b[43m \u001b[49m\u001b[43mmerge_columns\u001b[49m\u001b[43m)\u001b[49m, label_convert_dict, rows_labels, column_labels, exp_name \u001b[38;5;241m=\u001b[39m \u001b[38;5;124m\"\u001b[39m\u001b[38;5;124m8dec_amz\u001b[39m\u001b[38;5;124m\"\u001b[39m, save_table\u001b[38;5;241m=\u001b[39m\u001b[38;5;28;01mTrue\u001b[39;00m) \u001b[38;5;66;03m#, pivot_agg=list)\u001b[39;00m\n\u001b[1;32m      3\u001b[0m \u001b[38;5;66;03m#table\u001b[39;00m\n",
      "Cell \u001b[0;32mIn[12], line 18\u001b[0m, in \u001b[0;36msubset_data\u001b[0;34m(complete_data, subset_selection, subset_keep, merge_columns)\u001b[0m\n\u001b[1;32m     15\u001b[0m     subset_data \u001b[38;5;241m=\u001b[39m subset_data\u001b[38;5;241m.\u001b[39mdrop(indices_to_remove)\n\u001b[1;32m     17\u001b[0m \u001b[38;5;28;01mfor\u001b[39;00m col_name, cols \u001b[38;5;129;01min\u001b[39;00m merge_columns\u001b[38;5;241m.\u001b[39mitems():\n\u001b[0;32m---> 18\u001b[0m     subset_data[col_name] \u001b[38;5;241m=\u001b[39m \u001b[43msubset_data\u001b[49m\u001b[38;5;241;43m.\u001b[39;49m\u001b[43mloc\u001b[49m\u001b[43m[\u001b[49m\u001b[43m:\u001b[49m\u001b[43m,\u001b[49m\u001b[43mcols\u001b[49m\u001b[43m]\u001b[49m\u001b[38;5;241m.\u001b[39mapply(\u001b[38;5;28;01mlambda\u001b[39;00m row: \u001b[38;5;124m'\u001b[39m\u001b[38;5;124m_\u001b[39m\u001b[38;5;124m'\u001b[39m\u001b[38;5;241m.\u001b[39mjoin([\u001b[38;5;28mstr\u001b[39m(x) \u001b[38;5;28;01mfor\u001b[39;00m x \u001b[38;5;129;01min\u001b[39;00m row \u001b[38;5;28;01mif\u001b[39;00m pd\u001b[38;5;241m.\u001b[39mnotnull(x)]), axis\u001b[38;5;241m=\u001b[39m\u001b[38;5;241m1\u001b[39m)\n\u001b[1;32m     19\u001b[0m     subset_data \u001b[38;5;241m=\u001b[39m subset_data\u001b[38;5;241m.\u001b[39mdrop(columns\u001b[38;5;241m=\u001b[39mcols)\n\u001b[1;32m     21\u001b[0m \u001b[38;5;28;01mreturn\u001b[39;00m subset_data\n",
      "File \u001b[0;32m~/recsys-svd/rec_svd/lib/python3.12/site-packages/pandas/core/indexing.py:1184\u001b[0m, in \u001b[0;36m_LocationIndexer.__getitem__\u001b[0;34m(self, key)\u001b[0m\n\u001b[1;32m   1182\u001b[0m     \u001b[38;5;28;01mif\u001b[39;00m \u001b[38;5;28mself\u001b[39m\u001b[38;5;241m.\u001b[39m_is_scalar_access(key):\n\u001b[1;32m   1183\u001b[0m         \u001b[38;5;28;01mreturn\u001b[39;00m \u001b[38;5;28mself\u001b[39m\u001b[38;5;241m.\u001b[39mobj\u001b[38;5;241m.\u001b[39m_get_value(\u001b[38;5;241m*\u001b[39mkey, takeable\u001b[38;5;241m=\u001b[39m\u001b[38;5;28mself\u001b[39m\u001b[38;5;241m.\u001b[39m_takeable)\n\u001b[0;32m-> 1184\u001b[0m     \u001b[38;5;28;01mreturn\u001b[39;00m \u001b[38;5;28;43mself\u001b[39;49m\u001b[38;5;241;43m.\u001b[39;49m\u001b[43m_getitem_tuple\u001b[49m\u001b[43m(\u001b[49m\u001b[43mkey\u001b[49m\u001b[43m)\u001b[49m\n\u001b[1;32m   1185\u001b[0m \u001b[38;5;28;01melse\u001b[39;00m:\n\u001b[1;32m   1186\u001b[0m     \u001b[38;5;66;03m# we by definition only have the 0th axis\u001b[39;00m\n\u001b[1;32m   1187\u001b[0m     axis \u001b[38;5;241m=\u001b[39m \u001b[38;5;28mself\u001b[39m\u001b[38;5;241m.\u001b[39maxis \u001b[38;5;129;01mor\u001b[39;00m \u001b[38;5;241m0\u001b[39m\n",
      "File \u001b[0;32m~/recsys-svd/rec_svd/lib/python3.12/site-packages/pandas/core/indexing.py:1377\u001b[0m, in \u001b[0;36m_LocIndexer._getitem_tuple\u001b[0;34m(self, tup)\u001b[0m\n\u001b[1;32m   1374\u001b[0m \u001b[38;5;28;01mif\u001b[39;00m \u001b[38;5;28mself\u001b[39m\u001b[38;5;241m.\u001b[39m_multi_take_opportunity(tup):\n\u001b[1;32m   1375\u001b[0m     \u001b[38;5;28;01mreturn\u001b[39;00m \u001b[38;5;28mself\u001b[39m\u001b[38;5;241m.\u001b[39m_multi_take(tup)\n\u001b[0;32m-> 1377\u001b[0m \u001b[38;5;28;01mreturn\u001b[39;00m \u001b[38;5;28;43mself\u001b[39;49m\u001b[38;5;241;43m.\u001b[39;49m\u001b[43m_getitem_tuple_same_dim\u001b[49m\u001b[43m(\u001b[49m\u001b[43mtup\u001b[49m\u001b[43m)\u001b[49m\n",
      "File \u001b[0;32m~/recsys-svd/rec_svd/lib/python3.12/site-packages/pandas/core/indexing.py:1020\u001b[0m, in \u001b[0;36m_LocationIndexer._getitem_tuple_same_dim\u001b[0;34m(self, tup)\u001b[0m\n\u001b[1;32m   1017\u001b[0m \u001b[38;5;28;01mif\u001b[39;00m com\u001b[38;5;241m.\u001b[39mis_null_slice(key):\n\u001b[1;32m   1018\u001b[0m     \u001b[38;5;28;01mcontinue\u001b[39;00m\n\u001b[0;32m-> 1020\u001b[0m retval \u001b[38;5;241m=\u001b[39m \u001b[38;5;28;43mgetattr\u001b[39;49m\u001b[43m(\u001b[49m\u001b[43mretval\u001b[49m\u001b[43m,\u001b[49m\u001b[43m \u001b[49m\u001b[38;5;28;43mself\u001b[39;49m\u001b[38;5;241;43m.\u001b[39;49m\u001b[43mname\u001b[49m\u001b[43m)\u001b[49m\u001b[38;5;241;43m.\u001b[39;49m\u001b[43m_getitem_axis\u001b[49m\u001b[43m(\u001b[49m\u001b[43mkey\u001b[49m\u001b[43m,\u001b[49m\u001b[43m \u001b[49m\u001b[43maxis\u001b[49m\u001b[38;5;241;43m=\u001b[39;49m\u001b[43mi\u001b[49m\u001b[43m)\u001b[49m\n\u001b[1;32m   1021\u001b[0m \u001b[38;5;66;03m# We should never have retval.ndim < self.ndim, as that should\u001b[39;00m\n\u001b[1;32m   1022\u001b[0m \u001b[38;5;66;03m#  be handled by the _getitem_lowerdim call above.\u001b[39;00m\n\u001b[1;32m   1023\u001b[0m \u001b[38;5;28;01massert\u001b[39;00m retval\u001b[38;5;241m.\u001b[39mndim \u001b[38;5;241m==\u001b[39m \u001b[38;5;28mself\u001b[39m\u001b[38;5;241m.\u001b[39mndim\n",
      "File \u001b[0;32m~/recsys-svd/rec_svd/lib/python3.12/site-packages/pandas/core/indexing.py:1420\u001b[0m, in \u001b[0;36m_LocIndexer._getitem_axis\u001b[0;34m(self, key, axis)\u001b[0m\n\u001b[1;32m   1417\u001b[0m     \u001b[38;5;28;01mif\u001b[39;00m \u001b[38;5;28mhasattr\u001b[39m(key, \u001b[38;5;124m\"\u001b[39m\u001b[38;5;124mndim\u001b[39m\u001b[38;5;124m\"\u001b[39m) \u001b[38;5;129;01mand\u001b[39;00m key\u001b[38;5;241m.\u001b[39mndim \u001b[38;5;241m>\u001b[39m \u001b[38;5;241m1\u001b[39m:\n\u001b[1;32m   1418\u001b[0m         \u001b[38;5;28;01mraise\u001b[39;00m \u001b[38;5;167;01mValueError\u001b[39;00m(\u001b[38;5;124m\"\u001b[39m\u001b[38;5;124mCannot index with multidimensional key\u001b[39m\u001b[38;5;124m\"\u001b[39m)\n\u001b[0;32m-> 1420\u001b[0m     \u001b[38;5;28;01mreturn\u001b[39;00m \u001b[38;5;28;43mself\u001b[39;49m\u001b[38;5;241;43m.\u001b[39;49m\u001b[43m_getitem_iterable\u001b[49m\u001b[43m(\u001b[49m\u001b[43mkey\u001b[49m\u001b[43m,\u001b[49m\u001b[43m \u001b[49m\u001b[43maxis\u001b[49m\u001b[38;5;241;43m=\u001b[39;49m\u001b[43maxis\u001b[49m\u001b[43m)\u001b[49m\n\u001b[1;32m   1422\u001b[0m \u001b[38;5;66;03m# nested tuple slicing\u001b[39;00m\n\u001b[1;32m   1423\u001b[0m \u001b[38;5;28;01mif\u001b[39;00m is_nested_tuple(key, labels):\n",
      "File \u001b[0;32m~/recsys-svd/rec_svd/lib/python3.12/site-packages/pandas/core/indexing.py:1360\u001b[0m, in \u001b[0;36m_LocIndexer._getitem_iterable\u001b[0;34m(self, key, axis)\u001b[0m\n\u001b[1;32m   1357\u001b[0m \u001b[38;5;28mself\u001b[39m\u001b[38;5;241m.\u001b[39m_validate_key(key, axis)\n\u001b[1;32m   1359\u001b[0m \u001b[38;5;66;03m# A collection of keys\u001b[39;00m\n\u001b[0;32m-> 1360\u001b[0m keyarr, indexer \u001b[38;5;241m=\u001b[39m \u001b[38;5;28;43mself\u001b[39;49m\u001b[38;5;241;43m.\u001b[39;49m\u001b[43m_get_listlike_indexer\u001b[49m\u001b[43m(\u001b[49m\u001b[43mkey\u001b[49m\u001b[43m,\u001b[49m\u001b[43m \u001b[49m\u001b[43maxis\u001b[49m\u001b[43m)\u001b[49m\n\u001b[1;32m   1361\u001b[0m \u001b[38;5;28;01mreturn\u001b[39;00m \u001b[38;5;28mself\u001b[39m\u001b[38;5;241m.\u001b[39mobj\u001b[38;5;241m.\u001b[39m_reindex_with_indexers(\n\u001b[1;32m   1362\u001b[0m     {axis: [keyarr, indexer]}, copy\u001b[38;5;241m=\u001b[39m\u001b[38;5;28;01mTrue\u001b[39;00m, allow_dups\u001b[38;5;241m=\u001b[39m\u001b[38;5;28;01mTrue\u001b[39;00m\n\u001b[1;32m   1363\u001b[0m )\n",
      "File \u001b[0;32m~/recsys-svd/rec_svd/lib/python3.12/site-packages/pandas/core/indexing.py:1558\u001b[0m, in \u001b[0;36m_LocIndexer._get_listlike_indexer\u001b[0;34m(self, key, axis)\u001b[0m\n\u001b[1;32m   1555\u001b[0m ax \u001b[38;5;241m=\u001b[39m \u001b[38;5;28mself\u001b[39m\u001b[38;5;241m.\u001b[39mobj\u001b[38;5;241m.\u001b[39m_get_axis(axis)\n\u001b[1;32m   1556\u001b[0m axis_name \u001b[38;5;241m=\u001b[39m \u001b[38;5;28mself\u001b[39m\u001b[38;5;241m.\u001b[39mobj\u001b[38;5;241m.\u001b[39m_get_axis_name(axis)\n\u001b[0;32m-> 1558\u001b[0m keyarr, indexer \u001b[38;5;241m=\u001b[39m \u001b[43max\u001b[49m\u001b[38;5;241;43m.\u001b[39;49m\u001b[43m_get_indexer_strict\u001b[49m\u001b[43m(\u001b[49m\u001b[43mkey\u001b[49m\u001b[43m,\u001b[49m\u001b[43m \u001b[49m\u001b[43maxis_name\u001b[49m\u001b[43m)\u001b[49m\n\u001b[1;32m   1560\u001b[0m \u001b[38;5;28;01mreturn\u001b[39;00m keyarr, indexer\n",
      "File \u001b[0;32m~/recsys-svd/rec_svd/lib/python3.12/site-packages/pandas/core/indexes/base.py:6200\u001b[0m, in \u001b[0;36mIndex._get_indexer_strict\u001b[0;34m(self, key, axis_name)\u001b[0m\n\u001b[1;32m   6197\u001b[0m \u001b[38;5;28;01melse\u001b[39;00m:\n\u001b[1;32m   6198\u001b[0m     keyarr, indexer, new_indexer \u001b[38;5;241m=\u001b[39m \u001b[38;5;28mself\u001b[39m\u001b[38;5;241m.\u001b[39m_reindex_non_unique(keyarr)\n\u001b[0;32m-> 6200\u001b[0m \u001b[38;5;28;43mself\u001b[39;49m\u001b[38;5;241;43m.\u001b[39;49m\u001b[43m_raise_if_missing\u001b[49m\u001b[43m(\u001b[49m\u001b[43mkeyarr\u001b[49m\u001b[43m,\u001b[49m\u001b[43m \u001b[49m\u001b[43mindexer\u001b[49m\u001b[43m,\u001b[49m\u001b[43m \u001b[49m\u001b[43maxis_name\u001b[49m\u001b[43m)\u001b[49m\n\u001b[1;32m   6202\u001b[0m keyarr \u001b[38;5;241m=\u001b[39m \u001b[38;5;28mself\u001b[39m\u001b[38;5;241m.\u001b[39mtake(indexer)\n\u001b[1;32m   6203\u001b[0m \u001b[38;5;28;01mif\u001b[39;00m \u001b[38;5;28misinstance\u001b[39m(key, Index):\n\u001b[1;32m   6204\u001b[0m     \u001b[38;5;66;03m# GH 42790 - Preserve name from an Index\u001b[39;00m\n",
      "File \u001b[0;32m~/recsys-svd/rec_svd/lib/python3.12/site-packages/pandas/core/indexes/base.py:6252\u001b[0m, in \u001b[0;36mIndex._raise_if_missing\u001b[0;34m(self, key, indexer, axis_name)\u001b[0m\n\u001b[1;32m   6249\u001b[0m     \u001b[38;5;28;01mraise\u001b[39;00m \u001b[38;5;167;01mKeyError\u001b[39;00m(\u001b[38;5;124mf\u001b[39m\u001b[38;5;124m\"\u001b[39m\u001b[38;5;124mNone of [\u001b[39m\u001b[38;5;132;01m{\u001b[39;00mkey\u001b[38;5;132;01m}\u001b[39;00m\u001b[38;5;124m] are in the [\u001b[39m\u001b[38;5;132;01m{\u001b[39;00maxis_name\u001b[38;5;132;01m}\u001b[39;00m\u001b[38;5;124m]\u001b[39m\u001b[38;5;124m\"\u001b[39m)\n\u001b[1;32m   6251\u001b[0m not_found \u001b[38;5;241m=\u001b[39m \u001b[38;5;28mlist\u001b[39m(ensure_index(key)[missing_mask\u001b[38;5;241m.\u001b[39mnonzero()[\u001b[38;5;241m0\u001b[39m]]\u001b[38;5;241m.\u001b[39munique())\n\u001b[0;32m-> 6252\u001b[0m \u001b[38;5;28;01mraise\u001b[39;00m \u001b[38;5;167;01mKeyError\u001b[39;00m(\u001b[38;5;124mf\u001b[39m\u001b[38;5;124m\"\u001b[39m\u001b[38;5;132;01m{\u001b[39;00mnot_found\u001b[38;5;132;01m}\u001b[39;00m\u001b[38;5;124m not in index\u001b[39m\u001b[38;5;124m\"\u001b[39m)\n",
      "\u001b[0;31mKeyError\u001b[0m: \"['model.mean_imputation', 'model.svd_cutoff'] not in index\""
     ]
    }
   ],
   "source": [
    "table = generate_table(subset_data(complete_data, subset_selection, subset_keep, merge_columns), label_convert_dict, rows_labels, column_labels, exp_name = \"8dec_amz\", save_table=True) #, pivot_agg=list)\n",
    "\n",
    "#table"
   ]
  },
  {
   "cell_type": "code",
   "execution_count": null,
   "metadata": {
    "id": "2WG2Cqxskk3U"
   },
   "outputs": [],
   "source": []
  },
  {
   "cell_type": "code",
   "execution_count": 74,
   "metadata": {
    "id": "aEt7oshyHFOQ"
   },
   "outputs": [],
   "source": [
    "# # To check which rows are duplicated\n",
    "# df = complete_data.loc[(complete_data[\"model.rec_model.name\"]==\"SASRec\") & (complete_data[\"data_params.name\"]==\"ml-1m\")]\n",
    "# #Find columns in df with different values\n",
    "# columns_with_different_values = []\n",
    "# for column in df.columns:\n",
    "#     if len(df[column].apply(lambda x: str(x)).unique()) > 1:\n",
    "#         columns_with_different_values.append(column)\n",
    "# print(columns_with_different_values)\n",
    "# complete_data.loc[(complete_data[\"model.rec_model.name\"]==\"SASRec\") & (complete_data[\"data_params.name\"]==\"ml-1m\")][columns_with_different_values]"
   ]
  },
  {
   "cell_type": "markdown",
   "metadata": {
    "id": "Q_RFla57HFOU"
   },
   "source": [
    "## Plot"
   ]
  },
  {
   "cell_type": "code",
   "execution_count": 138,
   "metadata": {
    "executionInfo": {
     "elapsed": 312,
     "status": "ok",
     "timestamp": 1727456976508,
     "user": {
      "displayName": "maria diana calugaru",
      "userId": "15328572193410378426"
     },
     "user_tz": -120
    },
    "id": "WJ4Ab4miHFOV"
   },
   "outputs": [],
   "source": [
    "main_rows_labels = [\"svd_type\"]\n",
    "metrics_names = [\"Precision\", \"Recall\", \"NDCG\", \"MRR\"]\n",
    "metrics_ks = [5, 10, 20]\n",
    "column_labels = sorted([f\"{metric}_@{k}\" for metric in metrics_names for k in metrics_ks])\n",
    "subset_keep = []\n",
    "\n",
    "\n",
    "#merge_columns = {\"svd_type\": [\"model.useSVD\",\"model.freeze_emb\",\"model.use_diag\",\"model.svd_cutoff\"]}\n",
    "#label_convert_dict = {\"False\": \"No SVD\", \"True_False_False\": \"SVD\", \"True_False_True\": \"SVD diag\", \"True_True_False\": \"SVD freeze\",\"True_True_True\": \"SVD freeze diag\", \"True_False_False_64.0\": \"SVD + cutoff\", \"True_False_True_64.0\": \"SVD diag + cutoff\"}\n",
    "\n",
    "merge_columns={}\n"
   ]
  },
  {
   "cell_type": "markdown",
   "metadata": {
    "id": "G7CF6osQHFOV"
   },
   "source": [
    "### Embedding size"
   ]
  },
  {
   "cell_type": "code",
   "execution_count": 139,
   "metadata": {
    "executionInfo": {
     "elapsed": 349,
     "status": "ok",
     "timestamp": 1727456993981,
     "user": {
      "displayName": "maria diana calugaru",
      "userId": "15328572193410378426"
     },
     "user_tz": -120
    },
    "id": "7oGr6BF1HFOV"
   },
   "outputs": [],
   "source": [
    "main_x_column = \"model.rec_model.emb_size\"\n",
    "main_x_label = \"Embedding Size\"\n",
    "super_plot_name = \"emb_size_NDCG@10\"\n",
    "super_title = \"Performance with varying embedding size\""
   ]
  },
  {
   "cell_type": "code",
   "execution_count": 140,
   "metadata": {
    "executionInfo": {
     "elapsed": 412,
     "status": "ok",
     "timestamp": 1727456996024,
     "user": {
      "displayName": "maria diana calugaru",
      "userId": "15328572193410378426"
     },
     "user_tz": -120
    },
    "id": "akWQH8P3HFOV"
   },
   "outputs": [],
   "source": [
    "rows_label_to_add = [main_x_column]\n",
    "rows_labels = main_rows_labels + rows_label_to_add\n",
    "\n",
    "subset_selection = {\"model.rec_model.emb_size\":64}"
   ]
  },
  {
   "cell_type": "code",
   "execution_count": 141,
   "metadata": {
    "colab": {
     "base_uri": "https://localhost:8080/",
     "height": 1000
    },
    "executionInfo": {
     "elapsed": 1090,
     "status": "ok",
     "timestamp": 1727456998797,
     "user": {
      "displayName": "maria diana calugaru",
      "userId": "15328572193410378426"
     },
     "user_tz": -120
    },
    "id": "T8WP4ZJ6HFOV",
    "outputId": "aa3e3eda-631d-4ec9-a6d5-cf4c63a69028"
   },
   "outputs": [
    {
     "ename": "KeyError",
     "evalue": "\"['svd_type'] not in index\"",
     "output_type": "error",
     "traceback": [
      "\u001b[0;31m---------------------------------------------------------------------------\u001b[0m",
      "\u001b[0;31mKeyError\u001b[0m                                  Traceback (most recent call last)",
      "Cell \u001b[0;32mIn[141], line 1\u001b[0m\n\u001b[0;32m----> 1\u001b[0m table \u001b[38;5;241m=\u001b[39m \u001b[43mgenerate_table\u001b[49m\u001b[43m(\u001b[49m\u001b[43msubset_data\u001b[49m\u001b[43m(\u001b[49m\u001b[43mcomplete_data\u001b[49m\u001b[43m,\u001b[49m\u001b[43m \u001b[49m\u001b[43msubset_selection\u001b[49m\u001b[43m,\u001b[49m\u001b[43m \u001b[49m\u001b[43msubset_keep\u001b[49m\u001b[43m,\u001b[49m\u001b[43m \u001b[49m\u001b[43mmerge_columns\u001b[49m\u001b[43m)\u001b[49m\u001b[43m,\u001b[49m\u001b[43m \u001b[49m\u001b[43mlabel_convert_dict\u001b[49m\u001b[43m,\u001b[49m\u001b[43m \u001b[49m\u001b[43mrows_labels\u001b[49m\u001b[43m,\u001b[49m\u001b[43m \u001b[49m\u001b[43mcolumn_labels\u001b[49m\u001b[43m,\u001b[49m\u001b[43m \u001b[49m\u001b[43mexp_name\u001b[49m\u001b[43m \u001b[49m\u001b[38;5;241;43m=\u001b[39;49m\u001b[43m \u001b[49m\u001b[38;5;124;43m\"\u001b[39;49m\u001b[38;5;124;43mapril_30\u001b[39;49m\u001b[38;5;124;43m\"\u001b[39;49m\u001b[43m,\u001b[49m\u001b[43m \u001b[49m\u001b[43msave_table\u001b[49m\u001b[38;5;241;43m=\u001b[39;49m\u001b[38;5;28;43;01mTrue\u001b[39;49;00m\u001b[43m)\u001b[49m\n\u001b[1;32m      2\u001b[0m table\n",
      "Cell \u001b[0;32mIn[12], line 30\u001b[0m, in \u001b[0;36mgenerate_table\u001b[0;34m(subset_data, label_convert_dict, rows_labels, column_labels, pivot_agg, table_name, save_table, round_at, exp_name, folder_name)\u001b[0m\n\u001b[1;32m     23\u001b[0m \u001b[38;5;28;01mdef\u001b[39;00m \u001b[38;5;21mgenerate_table\u001b[39m(subset_data,\n\u001b[1;32m     24\u001b[0m                    label_convert_dict,\n\u001b[1;32m     25\u001b[0m                    rows_labels, column_labels,\n\u001b[1;32m     26\u001b[0m                    pivot_agg \u001b[38;5;241m=\u001b[39m \u001b[38;5;28;01mlambda\u001b[39;00m x: x,\n\u001b[1;32m     27\u001b[0m                    table_name\u001b[38;5;241m=\u001b[39m\u001b[38;5;124m\"\u001b[39m\u001b[38;5;124mresults\u001b[39m\u001b[38;5;124m\"\u001b[39m, save_table\u001b[38;5;241m=\u001b[39m\u001b[38;5;28;01mFalse\u001b[39;00m, round_at\u001b[38;5;241m=\u001b[39m\u001b[38;5;241m4\u001b[39m,\n\u001b[1;32m     28\u001b[0m                    exp_name:\u001b[38;5;28mstr\u001b[39m\u001b[38;5;241m=\u001b[39m\u001b[38;5;124m'\u001b[39m\u001b[38;5;124m8dec_amz\u001b[39m\u001b[38;5;124m'\u001b[39m, folder_name:\u001b[38;5;28mstr\u001b[39m\u001b[38;5;241m=\u001b[39m \u001b[38;5;124m'\u001b[39m\u001b[38;5;124m../out/results/\u001b[39m\u001b[38;5;124m'\u001b[39m,):\n\u001b[0;32m---> 30\u001b[0m     subset_data \u001b[38;5;241m=\u001b[39m \u001b[43msubset_data\u001b[49m\u001b[43m[\u001b[49m\u001b[43mrows_labels\u001b[49m\u001b[43m \u001b[49m\u001b[38;5;241;43m+\u001b[39;49m\u001b[43m \u001b[49m\u001b[43mcolumn_labels\u001b[49m\u001b[43m]\u001b[49m\n\u001b[1;32m     33\u001b[0m     table \u001b[38;5;241m=\u001b[39m pd\u001b[38;5;241m.\u001b[39mpivot_table(subset_data, index\u001b[38;5;241m=\u001b[39mrows_labels, values\u001b[38;5;241m=\u001b[39mcolumn_labels, dropna\u001b[38;5;241m=\u001b[39m\u001b[38;5;28;01mFalse\u001b[39;00m, aggfunc\u001b[38;5;241m=\u001b[39mpivot_agg)\n\u001b[1;32m     35\u001b[0m     \u001b[38;5;66;03m# Drop if all column_labels are nans\u001b[39;00m\n",
      "File \u001b[0;32m~/recsys-svd/rec_svd/lib/python3.12/site-packages/pandas/core/frame.py:4108\u001b[0m, in \u001b[0;36mDataFrame.__getitem__\u001b[0;34m(self, key)\u001b[0m\n\u001b[1;32m   4106\u001b[0m     \u001b[38;5;28;01mif\u001b[39;00m is_iterator(key):\n\u001b[1;32m   4107\u001b[0m         key \u001b[38;5;241m=\u001b[39m \u001b[38;5;28mlist\u001b[39m(key)\n\u001b[0;32m-> 4108\u001b[0m     indexer \u001b[38;5;241m=\u001b[39m \u001b[38;5;28;43mself\u001b[39;49m\u001b[38;5;241;43m.\u001b[39;49m\u001b[43mcolumns\u001b[49m\u001b[38;5;241;43m.\u001b[39;49m\u001b[43m_get_indexer_strict\u001b[49m\u001b[43m(\u001b[49m\u001b[43mkey\u001b[49m\u001b[43m,\u001b[49m\u001b[43m \u001b[49m\u001b[38;5;124;43m\"\u001b[39;49m\u001b[38;5;124;43mcolumns\u001b[39;49m\u001b[38;5;124;43m\"\u001b[39;49m\u001b[43m)\u001b[49m[\u001b[38;5;241m1\u001b[39m]\n\u001b[1;32m   4110\u001b[0m \u001b[38;5;66;03m# take() does not accept boolean indexers\u001b[39;00m\n\u001b[1;32m   4111\u001b[0m \u001b[38;5;28;01mif\u001b[39;00m \u001b[38;5;28mgetattr\u001b[39m(indexer, \u001b[38;5;124m\"\u001b[39m\u001b[38;5;124mdtype\u001b[39m\u001b[38;5;124m\"\u001b[39m, \u001b[38;5;28;01mNone\u001b[39;00m) \u001b[38;5;241m==\u001b[39m \u001b[38;5;28mbool\u001b[39m:\n",
      "File \u001b[0;32m~/recsys-svd/rec_svd/lib/python3.12/site-packages/pandas/core/indexes/base.py:6200\u001b[0m, in \u001b[0;36mIndex._get_indexer_strict\u001b[0;34m(self, key, axis_name)\u001b[0m\n\u001b[1;32m   6197\u001b[0m \u001b[38;5;28;01melse\u001b[39;00m:\n\u001b[1;32m   6198\u001b[0m     keyarr, indexer, new_indexer \u001b[38;5;241m=\u001b[39m \u001b[38;5;28mself\u001b[39m\u001b[38;5;241m.\u001b[39m_reindex_non_unique(keyarr)\n\u001b[0;32m-> 6200\u001b[0m \u001b[38;5;28;43mself\u001b[39;49m\u001b[38;5;241;43m.\u001b[39;49m\u001b[43m_raise_if_missing\u001b[49m\u001b[43m(\u001b[49m\u001b[43mkeyarr\u001b[49m\u001b[43m,\u001b[49m\u001b[43m \u001b[49m\u001b[43mindexer\u001b[49m\u001b[43m,\u001b[49m\u001b[43m \u001b[49m\u001b[43maxis_name\u001b[49m\u001b[43m)\u001b[49m\n\u001b[1;32m   6202\u001b[0m keyarr \u001b[38;5;241m=\u001b[39m \u001b[38;5;28mself\u001b[39m\u001b[38;5;241m.\u001b[39mtake(indexer)\n\u001b[1;32m   6203\u001b[0m \u001b[38;5;28;01mif\u001b[39;00m \u001b[38;5;28misinstance\u001b[39m(key, Index):\n\u001b[1;32m   6204\u001b[0m     \u001b[38;5;66;03m# GH 42790 - Preserve name from an Index\u001b[39;00m\n",
      "File \u001b[0;32m~/recsys-svd/rec_svd/lib/python3.12/site-packages/pandas/core/indexes/base.py:6252\u001b[0m, in \u001b[0;36mIndex._raise_if_missing\u001b[0;34m(self, key, indexer, axis_name)\u001b[0m\n\u001b[1;32m   6249\u001b[0m     \u001b[38;5;28;01mraise\u001b[39;00m \u001b[38;5;167;01mKeyError\u001b[39;00m(\u001b[38;5;124mf\u001b[39m\u001b[38;5;124m\"\u001b[39m\u001b[38;5;124mNone of [\u001b[39m\u001b[38;5;132;01m{\u001b[39;00mkey\u001b[38;5;132;01m}\u001b[39;00m\u001b[38;5;124m] are in the [\u001b[39m\u001b[38;5;132;01m{\u001b[39;00maxis_name\u001b[38;5;132;01m}\u001b[39;00m\u001b[38;5;124m]\u001b[39m\u001b[38;5;124m\"\u001b[39m)\n\u001b[1;32m   6251\u001b[0m not_found \u001b[38;5;241m=\u001b[39m \u001b[38;5;28mlist\u001b[39m(ensure_index(key)[missing_mask\u001b[38;5;241m.\u001b[39mnonzero()[\u001b[38;5;241m0\u001b[39m]]\u001b[38;5;241m.\u001b[39munique())\n\u001b[0;32m-> 6252\u001b[0m \u001b[38;5;28;01mraise\u001b[39;00m \u001b[38;5;167;01mKeyError\u001b[39;00m(\u001b[38;5;124mf\u001b[39m\u001b[38;5;124m\"\u001b[39m\u001b[38;5;132;01m{\u001b[39;00mnot_found\u001b[38;5;132;01m}\u001b[39;00m\u001b[38;5;124m not in index\u001b[39m\u001b[38;5;124m\"\u001b[39m)\n",
      "\u001b[0;31mKeyError\u001b[0m: \"['svd_type'] not in index\""
     ]
    }
   ],
   "source": [
    "table = generate_table(subset_data(complete_data, subset_selection, subset_keep, merge_columns), label_convert_dict, rows_labels, column_labels, exp_name = \"april_30\", save_table=True)\n",
    "table"
   ]
  },
  {
   "cell_type": "code",
   "execution_count": 142,
   "metadata": {
    "executionInfo": {
     "elapsed": 352,
     "status": "ok",
     "timestamp": 1727457008112,
     "user": {
      "displayName": "maria diana calugaru",
      "userId": "15328572193410378426"
     },
     "user_tz": -120
    },
    "id": "Q7pa2-RVHFOV"
   },
   "outputs": [],
   "source": [
    "y_column = \"NDCG_@10\"\n",
    "y_label = y_column.replace(\"_\", \"\")\n",
    "\n",
    "ax_instructions = {\"set_xscale\": {\"value\": \"log\"},\n",
    "                   \"set_ylabel\": {\"ylabel\": y_label},\n",
    "                   \"set_xlim\": {\"left\": 4},\n",
    "                   \"get_xaxis\": {\"__kwargs__\":{},\n",
    "                                 \"set_tick_params\": {\"which\":\"minor\", \"size\":0}},\n",
    "                   \"get_xaxis\": {\"__kwargs__\":{},\n",
    "                                 \"set_tick_params\": {\"which\":\"minor\", \"width\":0}},\n",
    "                   \"legend\": {},\n",
    "                   \"grid\":{}}\n",
    "\n",
    "plot_instructions = {\"subplots\": {\"nrows\": 1, \"ncols\": 1, \"figsize\": (6,4)},\n",
    "                    \"tight_layout\":{},\n",
    "                    \"savefig\": {\"fname\": \"plot.pdf\"},\n",
    "                    \"show\":{}}"
   ]
  },
  {
   "cell_type": "code",
   "execution_count": 143,
   "metadata": {
    "colab": {
     "base_uri": "https://localhost:8080/",
     "height": 407
    },
    "executionInfo": {
     "elapsed": 1387,
     "status": "ok",
     "timestamp": 1726761868243,
     "user": {
      "displayName": "maria diana calugaru",
      "userId": "15328572193410378426"
     },
     "user_tz": -120
    },
    "id": "bjvsjHEEHFOW",
    "outputId": "0f4d7769-a212-4258-c796-6d2be681be15"
   },
   "outputs": [],
   "source": [
    "x_column = main_x_column\n",
    "x_label = main_x_label\n",
    "plot_name = super_plot_name#+\"_\"+subset_selection[\"data_params.name\"]\n",
    "\n",
    "ax_instructions[\"set_xticks\"] = {\"ticks\": table[x_column].unique().astype(int), \"labels\": table[x_column].unique().astype(int)}\n",
    "ax_instructions[\"set_xlabel\"] = {\"xlabel\": x_label}\n",
    "ax_instructions[\"legend\"] = {\"loc\": \"lower right\"}\n",
    "\n",
    "plot_instructions[\"savefig\"] = {\"fname\": f'../out/img/{plot_name}.pdf'}\n",
    "\n",
    "merge_columns = {\"svd_type\": [\"model.useSVD\",\"model.use_diag\", \"model.mean_imputation\",\"model.svd_cutoff\"]}\n",
    "label_convert_dict = {\"False_False_NaN_NaN\": \"No SVD\",\n",
    "                    \"True_False_user_item_mean\": \"user-item mean\",\n",
    "                    \"True_True_user_item_mean\": \"user-item mean DIAG\",\n",
    "                     \"True_True_both\": \"global mean DIAG\", \n",
    "                     \"True_False_both\": \"global mean\", \n",
    "                     \"True_False_center_both\": \"global centering\", \n",
    "                     \"True_True_center_both\": \"global_centering DIAG\", \n",
    "                     \"True_True_iterative_svd\": \"iterative svd 10 DIAG\",\n",
    "                     \"True_False_iterative_svd\": \"iterative svd 10\",\n",
    "                     \"True_True_iterative_svd_64\": \"iterative svd 64 DIAG\",\n",
    "                     \"True_False_iterative_svd_64\": \"iterative svd 64\",\n",
    "                     \"True_False_iterative_svd_accurate\": \"iterative svd accurate\",\n",
    "                     \"True_False_both_3.0\": \"global mean cutoff 3\",\n",
    "                     \"True_True_both_3.0\": \"global mean DIAG cutoff 3\",\n",
    "                     \"True_False_both_64.0\": \"global mean cutoff 64\",\n",
    "                     \"True_True_both_64.0\": \"global mean DIAG cutoff 64\",\n",
    "                     \"True_False_both_128.0\": \"global mean cutoff 128\",\n",
    "                     \"True_True_both_128.0\": \"global mean DIAG cutoff 128\",\n",
    "                     \"True_False_both_22.0\": \"global mean cutoff 22\",\n",
    "                     \"True_True_both_22.0\": \"global mean DIAG cutoff 22\",\n",
    "                     \"True_False_both_59.0\": \"global mean cutoff 59\",\n",
    "                     \"True_False_both_48.0\": \"global mean cutoff 48\"\n",
    "                     }\n",
    "\n",
    "\n",
    "#label_convert_dict = {\"False_False\": \"No SVD\", \"True_False\": \"SVD\", \"True_True\": \"SVD + freeze\"}\n",
    "#label_convert_dict = {\"False\": \"No SVD\", \"True_False\": \"SVD\", \"True_True\": \"SVD freeze\", \"True_False_64.0\":\"SVD + cutoff\", \"True_True_64.0\":\"SVD freeze+cutoff\"}\n",
    "#label_convert_dict = {\"False\": \"No SVD\", \"True_False_False\": \"SVD\", \"True_False_True\": \"SVD diag\", \"True_True_False\": \"SVD freeze\",\"True_True_True\": \"SVD freeze diag\", \"True_False_False_64.0\": \"SVD + cutoff\", \"True_False_True_64.0\": \"SVD diag + cutoff\"}\n",
    "\n",
    "\n",
    "#create_plot(plot_instructions, data=table, label_columns=[\"svd_type\"], x_column=x_column, y_column=y_column,\n",
    " #         ax_instructions = ax_instructions, label_convert_dict = label_convert_dict)"
   ]
  },
  {
   "cell_type": "code",
   "execution_count": 144,
   "metadata": {
    "executionInfo": {
     "elapsed": 332,
     "status": "ok",
     "timestamp": 1727457024026,
     "user": {
      "displayName": "maria diana calugaru",
      "userId": "15328572193410378426"
     },
     "user_tz": -120
    },
    "id": "8_IQyeusHFOW"
   },
   "outputs": [],
   "source": [
    "x_column = \"epoch\"\n",
    "x_label = \"Epoch\"\n",
    "y_column = \"val_NDCG_@10/dataloader_idx_1\"\n",
    "y_label = \"MRR@10\"\n",
    "ax_instructions[\"set_xlabel\"] = {\"xlabel\": x_label}"
   ]
  },
  {
   "cell_type": "markdown",
   "metadata": {
    "id": "7ayPOVkHHFOW"
   },
   "source": [
    "### Emb size = 64"
   ]
  },
  {
   "cell_type": "code",
   "execution_count": 145,
   "metadata": {
    "colab": {
     "base_uri": "https://localhost:8080/",
     "height": 1000
    },
    "executionInfo": {
     "elapsed": 3,
     "status": "ok",
     "timestamp": 1727457030135,
     "user": {
      "displayName": "maria diana calugaru",
      "userId": "15328572193410378426"
     },
     "user_tz": -120
    },
    "id": "ZUlr0m7V_tSo",
    "outputId": "b9546481-26b0-4c05-c12a-fc9a79ffd892"
   },
   "outputs": [
    {
     "data": {
      "text/html": [
       "<div>\n",
       "<style scoped>\n",
       "    .dataframe tbody tr th:only-of-type {\n",
       "        vertical-align: middle;\n",
       "    }\n",
       "\n",
       "    .dataframe tbody tr th {\n",
       "        vertical-align: top;\n",
       "    }\n",
       "\n",
       "    .dataframe thead th {\n",
       "        text-align: right;\n",
       "    }\n",
       "</style>\n",
       "<table border=\"1\" class=\"dataframe\">\n",
       "  <thead>\n",
       "    <tr style=\"text-align: right;\">\n",
       "      <th></th>\n",
       "      <th>data_params.collator_params.lookback</th>\n",
       "      <th>data_params.collator_params.lookforward</th>\n",
       "      <th>data_params.collator_params.num_items</th>\n",
       "      <th>data_params.collator_params.num_negatives.test</th>\n",
       "      <th>data_params.collator_params.num_negatives.train</th>\n",
       "      <th>data_params.collator_params.num_negatives.val</th>\n",
       "      <th>data_params.collator_params.out_seq_len.test</th>\n",
       "      <th>data_params.collator_params.out_seq_len.train</th>\n",
       "      <th>data_params.collator_params.out_seq_len.val</th>\n",
       "      <th>data_params.collator_params.padding_value</th>\n",
       "      <th>...</th>\n",
       "      <th>NDCG_@20</th>\n",
       "      <th>MAP_@5</th>\n",
       "      <th>MAP_@10</th>\n",
       "      <th>MAP_@20</th>\n",
       "      <th>MRR_@5</th>\n",
       "      <th>MRR_@10</th>\n",
       "      <th>MRR_@20</th>\n",
       "      <th>F1_@5</th>\n",
       "      <th>F1_@10</th>\n",
       "      <th>F1_@20</th>\n",
       "    </tr>\n",
       "  </thead>\n",
       "  <tbody>\n",
       "    <tr>\n",
       "      <th>2DjIG6BV25SIuYF7</th>\n",
       "      <td>200</td>\n",
       "      <td>1</td>\n",
       "      <td>3416</td>\n",
       "      <td>100</td>\n",
       "      <td>1</td>\n",
       "      <td>1</td>\n",
       "      <td>1</td>\n",
       "      <td>None</td>\n",
       "      <td>1</td>\n",
       "      <td>0</td>\n",
       "      <td>...</td>\n",
       "      <td>0.606137</td>\n",
       "      <td>0.229886</td>\n",
       "      <td>0.164765</td>\n",
       "      <td>0.110981</td>\n",
       "      <td>0.500237</td>\n",
       "      <td>0.515015</td>\n",
       "      <td>0.520405</td>\n",
       "      <td>0.21201</td>\n",
       "      <td>0.137402</td>\n",
       "      <td>0.08154</td>\n",
       "    </tr>\n",
       "  </tbody>\n",
       "</table>\n",
       "<p>1 rows × 63 columns</p>\n",
       "</div>"
      ],
      "text/plain": [
       "                  data_params.collator_params.lookback  \\\n",
       "2DjIG6BV25SIuYF7                                   200   \n",
       "\n",
       "                  data_params.collator_params.lookforward  \\\n",
       "2DjIG6BV25SIuYF7                                        1   \n",
       "\n",
       "                  data_params.collator_params.num_items  \\\n",
       "2DjIG6BV25SIuYF7                                   3416   \n",
       "\n",
       "                  data_params.collator_params.num_negatives.test  \\\n",
       "2DjIG6BV25SIuYF7                                             100   \n",
       "\n",
       "                  data_params.collator_params.num_negatives.train  \\\n",
       "2DjIG6BV25SIuYF7                                                1   \n",
       "\n",
       "                  data_params.collator_params.num_negatives.val  \\\n",
       "2DjIG6BV25SIuYF7                                              1   \n",
       "\n",
       "                  data_params.collator_params.out_seq_len.test  \\\n",
       "2DjIG6BV25SIuYF7                                             1   \n",
       "\n",
       "                 data_params.collator_params.out_seq_len.train  \\\n",
       "2DjIG6BV25SIuYF7                                          None   \n",
       "\n",
       "                  data_params.collator_params.out_seq_len.val  \\\n",
       "2DjIG6BV25SIuYF7                                            1   \n",
       "\n",
       "                  data_params.collator_params.padding_value  ...  NDCG_@20  \\\n",
       "2DjIG6BV25SIuYF7                                          0  ...  0.606137   \n",
       "\n",
       "                    MAP_@5   MAP_@10   MAP_@20    MRR_@5   MRR_@10   MRR_@20  \\\n",
       "2DjIG6BV25SIuYF7  0.229886  0.164765  0.110981  0.500237  0.515015  0.520405   \n",
       "\n",
       "                    F1_@5    F1_@10   F1_@20  \n",
       "2DjIG6BV25SIuYF7  0.21201  0.137402  0.08154  \n",
       "\n",
       "[1 rows x 63 columns]"
      ]
     },
     "execution_count": 145,
     "metadata": {},
     "output_type": "execute_result"
    }
   ],
   "source": [
    "#complete_data = complete_data[complete_data['model.freeze_emb'] != True]\n",
    "#complete_data = complete_data[complete_data['model.use_diag'] != True]\n",
    "#complete_data = complete_data[complete_data['model.svd_cutoff'] != 64.0]\n",
    "#complete_data = complete_data[complete_data['model.svd_cutoff'] != 128.0]\n",
    "#complete_data = complete_data[complete_data['model.svd_cutoff'] != 3.0]\n",
    "#complete_data = complete_data[complete_data['model.svd_cutoff'] != None]\n",
    "complete_data"
   ]
  },
  {
   "cell_type": "code",
   "execution_count": 146,
   "metadata": {
    "executionInfo": {
     "elapsed": 319,
     "status": "ok",
     "timestamp": 1727457037756,
     "user": {
      "displayName": "maria diana calugaru",
      "userId": "15328572193410378426"
     },
     "user_tz": -120
    },
    "id": "UtEBHGYKHFOW"
   },
   "outputs": [],
   "source": [
    "subset_selection = {\"model.rec_model.emb_size\":64}"
   ]
  },
  {
   "cell_type": "code",
   "execution_count": 151,
   "metadata": {
    "colab": {
     "base_uri": "https://localhost:8080/",
     "height": 1000
    },
    "executionInfo": {
     "elapsed": 347,
     "status": "ok",
     "timestamp": 1727457039279,
     "user": {
      "displayName": "maria diana calugaru",
      "userId": "15328572193410378426"
     },
     "user_tz": -120
    },
    "id": "98_eugQsHFOW",
    "outputId": "a88f082e-26f6-4304-8f26-b6e3140623b1"
   },
   "outputs": [
    {
     "ename": "KeyError",
     "evalue": "\"['model.mean_imputation', 'model.svd_cutoff'] not in index\"",
     "output_type": "error",
     "traceback": [
      "\u001b[0;31m---------------------------------------------------------------------------\u001b[0m",
      "\u001b[0;31mKeyError\u001b[0m                                  Traceback (most recent call last)",
      "Cell \u001b[0;32mIn[151], line 1\u001b[0m\n\u001b[0;32m----> 1\u001b[0m epoch_table \u001b[38;5;241m=\u001b[39m \u001b[43msubset_data\u001b[49m\u001b[43m(\u001b[49m\u001b[43mcomplete_data\u001b[49m\u001b[43m,\u001b[49m\u001b[43m \u001b[49m\u001b[43msubset_selection\u001b[49m\u001b[43m,\u001b[49m\u001b[43m \u001b[49m\u001b[43msubset_keep\u001b[49m\u001b[43m,\u001b[49m\u001b[43m \u001b[49m\u001b[43mmerge_columns\u001b[49m\u001b[43m)\u001b[49m\n\u001b[1;32m      2\u001b[0m sas_table \u001b[38;5;241m=\u001b[39m merge_epoch_data(metrics_per_epoch, epoch_table, rows_labels)\n\u001b[1;32m      3\u001b[0m \u001b[38;5;66;03m#sas_table = hotfix_table(sas_table, y_column) #HOTFIX\u001b[39;00m\n",
      "Cell \u001b[0;32mIn[12], line 18\u001b[0m, in \u001b[0;36msubset_data\u001b[0;34m(complete_data, subset_selection, subset_keep, merge_columns)\u001b[0m\n\u001b[1;32m     15\u001b[0m     subset_data \u001b[38;5;241m=\u001b[39m subset_data\u001b[38;5;241m.\u001b[39mdrop(indices_to_remove)\n\u001b[1;32m     17\u001b[0m \u001b[38;5;28;01mfor\u001b[39;00m col_name, cols \u001b[38;5;129;01min\u001b[39;00m merge_columns\u001b[38;5;241m.\u001b[39mitems():\n\u001b[0;32m---> 18\u001b[0m     subset_data[col_name] \u001b[38;5;241m=\u001b[39m \u001b[43msubset_data\u001b[49m\u001b[38;5;241;43m.\u001b[39;49m\u001b[43mloc\u001b[49m\u001b[43m[\u001b[49m\u001b[43m:\u001b[49m\u001b[43m,\u001b[49m\u001b[43mcols\u001b[49m\u001b[43m]\u001b[49m\u001b[38;5;241m.\u001b[39mapply(\u001b[38;5;28;01mlambda\u001b[39;00m row: \u001b[38;5;124m'\u001b[39m\u001b[38;5;124m_\u001b[39m\u001b[38;5;124m'\u001b[39m\u001b[38;5;241m.\u001b[39mjoin([\u001b[38;5;28mstr\u001b[39m(x) \u001b[38;5;28;01mfor\u001b[39;00m x \u001b[38;5;129;01min\u001b[39;00m row \u001b[38;5;28;01mif\u001b[39;00m pd\u001b[38;5;241m.\u001b[39mnotnull(x)]), axis\u001b[38;5;241m=\u001b[39m\u001b[38;5;241m1\u001b[39m)\n\u001b[1;32m     19\u001b[0m     subset_data \u001b[38;5;241m=\u001b[39m subset_data\u001b[38;5;241m.\u001b[39mdrop(columns\u001b[38;5;241m=\u001b[39mcols)\n\u001b[1;32m     21\u001b[0m \u001b[38;5;28;01mreturn\u001b[39;00m subset_data\n",
      "File \u001b[0;32m~/recsys-svd/rec_svd/lib/python3.12/site-packages/pandas/core/indexing.py:1184\u001b[0m, in \u001b[0;36m_LocationIndexer.__getitem__\u001b[0;34m(self, key)\u001b[0m\n\u001b[1;32m   1182\u001b[0m     \u001b[38;5;28;01mif\u001b[39;00m \u001b[38;5;28mself\u001b[39m\u001b[38;5;241m.\u001b[39m_is_scalar_access(key):\n\u001b[1;32m   1183\u001b[0m         \u001b[38;5;28;01mreturn\u001b[39;00m \u001b[38;5;28mself\u001b[39m\u001b[38;5;241m.\u001b[39mobj\u001b[38;5;241m.\u001b[39m_get_value(\u001b[38;5;241m*\u001b[39mkey, takeable\u001b[38;5;241m=\u001b[39m\u001b[38;5;28mself\u001b[39m\u001b[38;5;241m.\u001b[39m_takeable)\n\u001b[0;32m-> 1184\u001b[0m     \u001b[38;5;28;01mreturn\u001b[39;00m \u001b[38;5;28;43mself\u001b[39;49m\u001b[38;5;241;43m.\u001b[39;49m\u001b[43m_getitem_tuple\u001b[49m\u001b[43m(\u001b[49m\u001b[43mkey\u001b[49m\u001b[43m)\u001b[49m\n\u001b[1;32m   1185\u001b[0m \u001b[38;5;28;01melse\u001b[39;00m:\n\u001b[1;32m   1186\u001b[0m     \u001b[38;5;66;03m# we by definition only have the 0th axis\u001b[39;00m\n\u001b[1;32m   1187\u001b[0m     axis \u001b[38;5;241m=\u001b[39m \u001b[38;5;28mself\u001b[39m\u001b[38;5;241m.\u001b[39maxis \u001b[38;5;129;01mor\u001b[39;00m \u001b[38;5;241m0\u001b[39m\n",
      "File \u001b[0;32m~/recsys-svd/rec_svd/lib/python3.12/site-packages/pandas/core/indexing.py:1377\u001b[0m, in \u001b[0;36m_LocIndexer._getitem_tuple\u001b[0;34m(self, tup)\u001b[0m\n\u001b[1;32m   1374\u001b[0m \u001b[38;5;28;01mif\u001b[39;00m \u001b[38;5;28mself\u001b[39m\u001b[38;5;241m.\u001b[39m_multi_take_opportunity(tup):\n\u001b[1;32m   1375\u001b[0m     \u001b[38;5;28;01mreturn\u001b[39;00m \u001b[38;5;28mself\u001b[39m\u001b[38;5;241m.\u001b[39m_multi_take(tup)\n\u001b[0;32m-> 1377\u001b[0m \u001b[38;5;28;01mreturn\u001b[39;00m \u001b[38;5;28;43mself\u001b[39;49m\u001b[38;5;241;43m.\u001b[39;49m\u001b[43m_getitem_tuple_same_dim\u001b[49m\u001b[43m(\u001b[49m\u001b[43mtup\u001b[49m\u001b[43m)\u001b[49m\n",
      "File \u001b[0;32m~/recsys-svd/rec_svd/lib/python3.12/site-packages/pandas/core/indexing.py:1020\u001b[0m, in \u001b[0;36m_LocationIndexer._getitem_tuple_same_dim\u001b[0;34m(self, tup)\u001b[0m\n\u001b[1;32m   1017\u001b[0m \u001b[38;5;28;01mif\u001b[39;00m com\u001b[38;5;241m.\u001b[39mis_null_slice(key):\n\u001b[1;32m   1018\u001b[0m     \u001b[38;5;28;01mcontinue\u001b[39;00m\n\u001b[0;32m-> 1020\u001b[0m retval \u001b[38;5;241m=\u001b[39m \u001b[38;5;28;43mgetattr\u001b[39;49m\u001b[43m(\u001b[49m\u001b[43mretval\u001b[49m\u001b[43m,\u001b[49m\u001b[43m \u001b[49m\u001b[38;5;28;43mself\u001b[39;49m\u001b[38;5;241;43m.\u001b[39;49m\u001b[43mname\u001b[49m\u001b[43m)\u001b[49m\u001b[38;5;241;43m.\u001b[39;49m\u001b[43m_getitem_axis\u001b[49m\u001b[43m(\u001b[49m\u001b[43mkey\u001b[49m\u001b[43m,\u001b[49m\u001b[43m \u001b[49m\u001b[43maxis\u001b[49m\u001b[38;5;241;43m=\u001b[39;49m\u001b[43mi\u001b[49m\u001b[43m)\u001b[49m\n\u001b[1;32m   1021\u001b[0m \u001b[38;5;66;03m# We should never have retval.ndim < self.ndim, as that should\u001b[39;00m\n\u001b[1;32m   1022\u001b[0m \u001b[38;5;66;03m#  be handled by the _getitem_lowerdim call above.\u001b[39;00m\n\u001b[1;32m   1023\u001b[0m \u001b[38;5;28;01massert\u001b[39;00m retval\u001b[38;5;241m.\u001b[39mndim \u001b[38;5;241m==\u001b[39m \u001b[38;5;28mself\u001b[39m\u001b[38;5;241m.\u001b[39mndim\n",
      "File \u001b[0;32m~/recsys-svd/rec_svd/lib/python3.12/site-packages/pandas/core/indexing.py:1420\u001b[0m, in \u001b[0;36m_LocIndexer._getitem_axis\u001b[0;34m(self, key, axis)\u001b[0m\n\u001b[1;32m   1417\u001b[0m     \u001b[38;5;28;01mif\u001b[39;00m \u001b[38;5;28mhasattr\u001b[39m(key, \u001b[38;5;124m\"\u001b[39m\u001b[38;5;124mndim\u001b[39m\u001b[38;5;124m\"\u001b[39m) \u001b[38;5;129;01mand\u001b[39;00m key\u001b[38;5;241m.\u001b[39mndim \u001b[38;5;241m>\u001b[39m \u001b[38;5;241m1\u001b[39m:\n\u001b[1;32m   1418\u001b[0m         \u001b[38;5;28;01mraise\u001b[39;00m \u001b[38;5;167;01mValueError\u001b[39;00m(\u001b[38;5;124m\"\u001b[39m\u001b[38;5;124mCannot index with multidimensional key\u001b[39m\u001b[38;5;124m\"\u001b[39m)\n\u001b[0;32m-> 1420\u001b[0m     \u001b[38;5;28;01mreturn\u001b[39;00m \u001b[38;5;28;43mself\u001b[39;49m\u001b[38;5;241;43m.\u001b[39;49m\u001b[43m_getitem_iterable\u001b[49m\u001b[43m(\u001b[49m\u001b[43mkey\u001b[49m\u001b[43m,\u001b[49m\u001b[43m \u001b[49m\u001b[43maxis\u001b[49m\u001b[38;5;241;43m=\u001b[39;49m\u001b[43maxis\u001b[49m\u001b[43m)\u001b[49m\n\u001b[1;32m   1422\u001b[0m \u001b[38;5;66;03m# nested tuple slicing\u001b[39;00m\n\u001b[1;32m   1423\u001b[0m \u001b[38;5;28;01mif\u001b[39;00m is_nested_tuple(key, labels):\n",
      "File \u001b[0;32m~/recsys-svd/rec_svd/lib/python3.12/site-packages/pandas/core/indexing.py:1360\u001b[0m, in \u001b[0;36m_LocIndexer._getitem_iterable\u001b[0;34m(self, key, axis)\u001b[0m\n\u001b[1;32m   1357\u001b[0m \u001b[38;5;28mself\u001b[39m\u001b[38;5;241m.\u001b[39m_validate_key(key, axis)\n\u001b[1;32m   1359\u001b[0m \u001b[38;5;66;03m# A collection of keys\u001b[39;00m\n\u001b[0;32m-> 1360\u001b[0m keyarr, indexer \u001b[38;5;241m=\u001b[39m \u001b[38;5;28;43mself\u001b[39;49m\u001b[38;5;241;43m.\u001b[39;49m\u001b[43m_get_listlike_indexer\u001b[49m\u001b[43m(\u001b[49m\u001b[43mkey\u001b[49m\u001b[43m,\u001b[49m\u001b[43m \u001b[49m\u001b[43maxis\u001b[49m\u001b[43m)\u001b[49m\n\u001b[1;32m   1361\u001b[0m \u001b[38;5;28;01mreturn\u001b[39;00m \u001b[38;5;28mself\u001b[39m\u001b[38;5;241m.\u001b[39mobj\u001b[38;5;241m.\u001b[39m_reindex_with_indexers(\n\u001b[1;32m   1362\u001b[0m     {axis: [keyarr, indexer]}, copy\u001b[38;5;241m=\u001b[39m\u001b[38;5;28;01mTrue\u001b[39;00m, allow_dups\u001b[38;5;241m=\u001b[39m\u001b[38;5;28;01mTrue\u001b[39;00m\n\u001b[1;32m   1363\u001b[0m )\n",
      "File \u001b[0;32m~/recsys-svd/rec_svd/lib/python3.12/site-packages/pandas/core/indexing.py:1558\u001b[0m, in \u001b[0;36m_LocIndexer._get_listlike_indexer\u001b[0;34m(self, key, axis)\u001b[0m\n\u001b[1;32m   1555\u001b[0m ax \u001b[38;5;241m=\u001b[39m \u001b[38;5;28mself\u001b[39m\u001b[38;5;241m.\u001b[39mobj\u001b[38;5;241m.\u001b[39m_get_axis(axis)\n\u001b[1;32m   1556\u001b[0m axis_name \u001b[38;5;241m=\u001b[39m \u001b[38;5;28mself\u001b[39m\u001b[38;5;241m.\u001b[39mobj\u001b[38;5;241m.\u001b[39m_get_axis_name(axis)\n\u001b[0;32m-> 1558\u001b[0m keyarr, indexer \u001b[38;5;241m=\u001b[39m \u001b[43max\u001b[49m\u001b[38;5;241;43m.\u001b[39;49m\u001b[43m_get_indexer_strict\u001b[49m\u001b[43m(\u001b[49m\u001b[43mkey\u001b[49m\u001b[43m,\u001b[49m\u001b[43m \u001b[49m\u001b[43maxis_name\u001b[49m\u001b[43m)\u001b[49m\n\u001b[1;32m   1560\u001b[0m \u001b[38;5;28;01mreturn\u001b[39;00m keyarr, indexer\n",
      "File \u001b[0;32m~/recsys-svd/rec_svd/lib/python3.12/site-packages/pandas/core/indexes/base.py:6200\u001b[0m, in \u001b[0;36mIndex._get_indexer_strict\u001b[0;34m(self, key, axis_name)\u001b[0m\n\u001b[1;32m   6197\u001b[0m \u001b[38;5;28;01melse\u001b[39;00m:\n\u001b[1;32m   6198\u001b[0m     keyarr, indexer, new_indexer \u001b[38;5;241m=\u001b[39m \u001b[38;5;28mself\u001b[39m\u001b[38;5;241m.\u001b[39m_reindex_non_unique(keyarr)\n\u001b[0;32m-> 6200\u001b[0m \u001b[38;5;28;43mself\u001b[39;49m\u001b[38;5;241;43m.\u001b[39;49m\u001b[43m_raise_if_missing\u001b[49m\u001b[43m(\u001b[49m\u001b[43mkeyarr\u001b[49m\u001b[43m,\u001b[49m\u001b[43m \u001b[49m\u001b[43mindexer\u001b[49m\u001b[43m,\u001b[49m\u001b[43m \u001b[49m\u001b[43maxis_name\u001b[49m\u001b[43m)\u001b[49m\n\u001b[1;32m   6202\u001b[0m keyarr \u001b[38;5;241m=\u001b[39m \u001b[38;5;28mself\u001b[39m\u001b[38;5;241m.\u001b[39mtake(indexer)\n\u001b[1;32m   6203\u001b[0m \u001b[38;5;28;01mif\u001b[39;00m \u001b[38;5;28misinstance\u001b[39m(key, Index):\n\u001b[1;32m   6204\u001b[0m     \u001b[38;5;66;03m# GH 42790 - Preserve name from an Index\u001b[39;00m\n",
      "File \u001b[0;32m~/recsys-svd/rec_svd/lib/python3.12/site-packages/pandas/core/indexes/base.py:6252\u001b[0m, in \u001b[0;36mIndex._raise_if_missing\u001b[0;34m(self, key, indexer, axis_name)\u001b[0m\n\u001b[1;32m   6249\u001b[0m     \u001b[38;5;28;01mraise\u001b[39;00m \u001b[38;5;167;01mKeyError\u001b[39;00m(\u001b[38;5;124mf\u001b[39m\u001b[38;5;124m\"\u001b[39m\u001b[38;5;124mNone of [\u001b[39m\u001b[38;5;132;01m{\u001b[39;00mkey\u001b[38;5;132;01m}\u001b[39;00m\u001b[38;5;124m] are in the [\u001b[39m\u001b[38;5;132;01m{\u001b[39;00maxis_name\u001b[38;5;132;01m}\u001b[39;00m\u001b[38;5;124m]\u001b[39m\u001b[38;5;124m\"\u001b[39m)\n\u001b[1;32m   6251\u001b[0m not_found \u001b[38;5;241m=\u001b[39m \u001b[38;5;28mlist\u001b[39m(ensure_index(key)[missing_mask\u001b[38;5;241m.\u001b[39mnonzero()[\u001b[38;5;241m0\u001b[39m]]\u001b[38;5;241m.\u001b[39munique())\n\u001b[0;32m-> 6252\u001b[0m \u001b[38;5;28;01mraise\u001b[39;00m \u001b[38;5;167;01mKeyError\u001b[39;00m(\u001b[38;5;124mf\u001b[39m\u001b[38;5;124m\"\u001b[39m\u001b[38;5;132;01m{\u001b[39;00mnot_found\u001b[38;5;132;01m}\u001b[39;00m\u001b[38;5;124m not in index\u001b[39m\u001b[38;5;124m\"\u001b[39m)\n",
      "\u001b[0;31mKeyError\u001b[0m: \"['model.mean_imputation', 'model.svd_cutoff'] not in index\""
     ]
    }
   ],
   "source": [
    "epoch_table = subset_data(complete_data, subset_selection, subset_keep, merge_columns)\n",
    "sas_table = merge_epoch_data(metrics_per_epoch, epoch_table, rows_labels)\n",
    "#sas_table = hotfix_table(sas_table, y_column) #HOTFIX\n",
    "sas_table"
   ]
  },
  {
   "cell_type": "code",
   "execution_count": 152,
   "metadata": {
    "colab": {
     "base_uri": "https://localhost:8080/",
     "height": 1000
    },
    "executionInfo": {
     "elapsed": 8310,
     "status": "ok",
     "timestamp": 1727457057527,
     "user": {
      "displayName": "maria diana calugaru",
      "userId": "15328572193410378426"
     },
     "user_tz": -120
    },
    "id": "9ronkHdDHFOW",
    "outputId": "08b7519d-09b6-40a4-dbf0-c1b4f22d77f3"
   },
   "outputs": [
    {
     "data": {
      "image/png": "[encoded data removed]",
      "text/plain": [
       "<Figure size 600x400 with 1 Axes>"
      ]
     },
     "metadata": {},
     "output_type": "display_data"
    },
    {
     "data": {
      "image/png": "[encoded data removed]",
      "text/plain": [
       "<Figure size 600x400 with 1 Axes>"
      ]
     },
     "metadata": {},
     "output_type": "display_data"
    },
    {
     "data": {
      "image/png": "[encoded data removed]",
      "text/plain": [
       "<Figure size 600x400 with 1 Axes>"
      ]
     },
     "metadata": {},
     "output_type": "display_data"
    },
    {
     "data": {
      "image/png": "[encoded data removed]",
      "text/plain": [
       "<Figure size 600x400 with 1 Axes>"
      ]
     },
     "metadata": {},
     "output_type": "display_data"
    }
   ],
   "source": [
    "plot_name = \"leporid_ml1m_64_NDCG@10\"#+super_plot_name#+subset_selection[\"data_params.name\"]\n",
    "\n",
    "#plot_instructions[\"subplots\"] = {\"nrows\": 3, \"ncols\": 2, \"figsize\": (12,12)}\n",
    "plot_instructions[\"savefig\"] = {\"fname\": f'../out/img/{plot_name}.pdf'}\n",
    "\n",
    "plot_kwargs = {\"markevery\": 0.1}\n",
    "\n",
    "ax_instructions.pop(\"set_xticks\",None)\n",
    "ax_instructions[\"legend\"] = {\"loc\": \"lower right\"}\n",
    "#ax_instructions[\"set_title\"] = {\"label\": super_title}\n",
    "\n",
    "label_convert_dict = {\"False_False_NaN_NaN\": \"No SVD\",\n",
    "                    \"True_False_user_item_mean\": \"user-item mean\",\n",
    "                    \"True_True_user_item_mean\": \"user-item mean DIAG\",\n",
    "                     \"True_True_both\": \"global mean DIAG\", \n",
    "                     \"True_False_both\": \"global mean\", \n",
    "                     \"True_False_center_both\": \"global centering\", \n",
    "                     \"True_True_center_both\": \"global_centering DIAG\", \n",
    "                     \"True_True_iterative_svd\": \"iterative svd 10 DIAG\",\n",
    "                     \"True_False_iterative_svd\": \"iterative svd 10\",\n",
    "                     \"True_True_iterative_svd_64\": \"iterative svd 64 DIAG\",\n",
    "                     \"True_False_iterative_svd_64\": \"iterative svd 64\",\n",
    "                     \"True_False_iterative_svd_accurate\": \"iterative svd accurate\",\n",
    "                     \"True_False_both_3.0\": \"global mean cutoff 3\",\n",
    "                     \"True_True_both_3.0\": \"global mean DIAG cutoff 3\",\n",
    "                     \"True_False_both_64.0\": \"global mean cutoff 64\",\n",
    "                     \"True_True_both_64.0\": \"global mean DIAG cutoff 64\",\n",
    "                     \"True_False_both_128.0\": \"global mean cutoff 128\",\n",
    "                     \"True_True_both_128.0\": \"global mean DIAG cutoff 128\",\n",
    "                     \"True_False_both_22.0\": \"global mean cutoff 22\",\n",
    "                     \"True_True_both_22.0\": \"global mean DIAG cutoff 22\",\n",
    "                     \"True_False_both_59.0\": \"global mean cutoff 59\",\n",
    "                     \"True_False_both_48.0\": \"global mean cutoff 48\"\n",
    "                     }\n",
    "\n",
    "repeated_ax_instructions = [ax_instructions.copy() for _ in range(4)]\n",
    "#repeated_ax_instructions[0][\"set_ylim\"] = {\"bottom\":0.525}\n",
    "repeated_ax_instructions[0][\"legend\"] = {\"loc\": \"lower right\"}\n",
    "\n",
    "repeated_ax_instructions[1][\"set_xlim\"] = {\"left\":0,\"right\":200}\n",
    "#repeated_ax_instructions[1][\"set_ylim\"] = {\"bottom\":0.34,\"top\":0.65}\n",
    "repeated_ax_instructions[1].pop(\"set_xscale\",None)\n",
    "repeated_ax_instructions[1][\"legend\"] = {\"loc\": \"lower right\"}\n",
    "\n",
    "repeated_ax_instructions[2][\"set_xlim\"] = {\"left\":0,\"right\":500}\n",
    "#repeated_ax_instructions[2][\"set_ylim\"] = {\"bottom\":0.64,\"top\":0.69}\n",
    "repeated_ax_instructions[2].pop(\"set_xscale\",None)\n",
    "\n",
    "repeated_ax_instructions[3][\"set_xlim\"] = {\"left\":400,\"right\":500}\n",
    "#repeated_ax_instructions[2][\"set_ylim\"] = {\"bottom\":0.64,\"top\":0.69}\n",
    "repeated_ax_instructions[3].pop(\"set_xscale\",None)\n",
    "\n",
    "\n",
    "repeated_plot_kwargs = [plot_kwargs.copy() for _ in range(6)]\n",
    "repeated_plot_kwargs[1][\"markevery\"] = 20\n",
    "repeated_plot_kwargs[2][\"markevery\"] = 100\n",
    "repeated_plot_kwargs[3][\"markevery\"] = 50\n",
    "\n",
    "for i,(rep_ax_instr, rep_plot_kwargs) in enumerate(zip(repeated_ax_instructions,repeated_plot_kwargs)):\n",
    "    rep_plot_instr = deepcopy(plot_instructions.copy())\n",
    "    rep_plot_instr[\"savefig\"][\"fname\"] = plot_instructions[\"savefig\"][\"fname\"].split(\".pdf\")[0]+\"_\"+str(i)+\".png\"\n",
    "    create_plot(rep_plot_instr, data=([sas_table]*4)[i], label_columns=[\"svd_type\"], x_column=x_column, y_column=y_column,\n",
    "            ax_instructions = rep_ax_instr, label_convert_dict = label_convert_dict, plot_type=\"plot\", plot_kwargs=rep_plot_kwargs)"
   ]
  },
  {
   "cell_type": "markdown",
   "metadata": {
    "id": "l4A5_zIUHFOX"
   },
   "source": [
    "#### FINE?"
   ]
  },
  {
   "cell_type": "code",
   "execution_count": null,
   "metadata": {
    "id": "PtdxKUstHFOX"
   },
   "outputs": [],
   "source": [
    "y_column"
   ]
  },
  {
   "cell_type": "markdown",
   "metadata": {
    "id": "LRvF1RqVHFOX"
   },
   "source": [
    "#### Foursquare TKY"
   ]
  },
  {
   "cell_type": "code",
   "execution_count": null,
   "metadata": {
    "id": "A7zrDyGmHFOX"
   },
   "outputs": [],
   "source": [
    "subset_selection[\"data_params.name\"] = \"foursquare-tky\"\n",
    "subset_selection.pop(\"model.rec_model.name\",None)"
   ]
  },
  {
   "cell_type": "code",
   "execution_count": null,
   "metadata": {
    "id": "wxW1LJ1JHFOX"
   },
   "outputs": [],
   "source": [
    "table = generate_table(subset_data(complete_data, subset_selection, subset_keep, merge_columns), rows_labels, column_labels, exp_name = \"april_30\", save_table=True)\n",
    "table"
   ]
  },
  {
   "cell_type": "code",
   "execution_count": null,
   "metadata": {
    "id": "qTEwoEUBHFOY"
   },
   "outputs": [],
   "source": [
    "y_column = \"NDCG_@10\"\n",
    "y_label = y_column.replace(\"_\", \"\")\n",
    "\n",
    "ax_instructions = {\"set_xscale\": {\"value\": \"log\"},\n",
    "                   \"set_ylabel\": {\"ylabel\": y_label},\n",
    "                   \"get_xaxis\": {\"__kwargs__\":{},\n",
    "                                 \"set_tick_params\": {\"which\":\"minor\", \"size\":0}},\n",
    "                   \"get_xaxis\": {\"__kwargs__\":{},\n",
    "                                 \"set_tick_params\": {\"which\":\"minor\", \"width\":0}},\n",
    "                   \"legend\": {},\n",
    "                   \"grid\":{}}\n",
    "\n",
    "plot_instructions = {\"subplots\": {\"nrows\": 1, \"ncols\": 1, \"figsize\": (6,4)},\n",
    "                    \"tight_layout\":{},\n",
    "                    \"savefig\": {\"fname\": \"plot.pdf\"},\n",
    "                    \"show\":{}}"
   ]
  },
  {
   "cell_type": "code",
   "execution_count": null,
   "metadata": {
    "id": "n-T0oSBGHFOY"
   },
   "outputs": [],
   "source": [
    "x_column = main_x_column\n",
    "x_label = main_x_label\n",
    "plot_name = super_plot_name+\"_\"+subset_selection[\"data_params.name\"]\n",
    "\n",
    "ax_instructions[\"set_xticks\"] = {\"ticks\": table[x_column].unique().astype(int), \"labels\": table[x_column].unique().astype(int)}\n",
    "ax_instructions[\"set_xlabel\"] = {\"xlabel\": x_label}\n",
    "ax_instructions[\"legend\"] = {\"loc\": \"upper right\"}\n",
    "\n",
    "plot_instructions[\"savefig\"] = {\"fname\": f'../out/img/{plot_name}.pdf'}\n",
    "\n",
    "label_convert_dict = {}\n",
    "\n",
    "create_plot(plot_instructions, data=table, label_columns=[\"model.rec_model.name\"], x_column=x_column, y_column=y_column,\n",
    "            ax_instructions = ax_instructions, label_convert_dict = label_convert_dict)"
   ]
  },
  {
   "cell_type": "code",
   "execution_count": null,
   "metadata": {
    "id": "MaozfF7mHFOY"
   },
   "outputs": [],
   "source": [
    "x_column = \"train_flops\"\n",
    "x_label = \"Training flops\"\n",
    "plot_name = super_plot_name+\"_flops_\"+subset_selection[\"data_params.name\"]\n",
    "\n",
    "ax_instructions.pop(\"set_xticks\",None)\n",
    "ax_instructions[\"set_xlabel\"] = {\"xlabel\": x_label}\n",
    "ax_instructions[\"legend\"] = {\"loc\": \"lower left\"}\n",
    "#ax_instructions[\"set_title\"] = {\"label\": super_title}\n",
    "\n",
    "plot_instructions[\"savefig\"] = {\"fname\": f'../out/img/{plot_name}.pdf'}\n",
    "\n",
    "label_convert_dict = {}\n",
    "\n",
    "create_plot(plot_instructions, data=table, label_columns=[\"model.rec_model.name\"], x_column=x_column, y_column=y_column,\n",
    "            ax_instructions = ax_instructions, label_convert_dict = label_convert_dict)\n"
   ]
  },
  {
   "cell_type": "code",
   "execution_count": null,
   "metadata": {
    "id": "F754dflVHFOY"
   },
   "outputs": [],
   "source": [
    "x_column = \"epoch\"\n",
    "x_label = \"Epoch\"\n",
    "y_column = \"val_NDCG_@10/dataloader_idx_1\"\n",
    "y_label = \"NDCG@10\"\n",
    "ax_instructions[\"set_xlabel\"] = {\"xlabel\": x_label}"
   ]
  },
  {
   "cell_type": "markdown",
   "metadata": {
    "id": "3cxMJORsHFOY"
   },
   "source": [
    "##### SASRec"
   ]
  },
  {
   "cell_type": "code",
   "execution_count": null,
   "metadata": {
    "id": "THZKOaEIHFOY"
   },
   "outputs": [],
   "source": [
    "subset_selection[\"model.rec_model.name\"] = \"SASRec\"\n",
    "epoch_table = subset_data(complete_data, subset_selection, subset_keep, merge_columns)\n",
    "\n",
    "sas_table = merge_epoch_data(metrics_per_epoch, epoch_table, rows_labels)\n",
    "sas_table = hotfix_table(sas_table, y_column) #HOTFIX\n",
    "sas_table"
   ]
  },
  {
   "cell_type": "code",
   "execution_count": null,
   "metadata": {
    "id": "aKldl69EHFOZ"
   },
   "outputs": [],
   "source": [
    "subset_selection[\"model.rec_model.name\"] = \"GRU4Rec\"\n",
    "epoch_table = subset_data(complete_data, subset_selection, subset_keep, merge_columns)\n",
    "\n",
    "gru_table = merge_epoch_data(metrics_per_epoch, epoch_table, rows_labels)\n",
    "gru_table = hotfix_table(gru_table, y_column) #HOTFIX\n",
    "gru_table"
   ]
  },
  {
   "cell_type": "code",
   "execution_count": null,
   "metadata": {
    "id": "AZ7w7OBqHFOZ"
   },
   "outputs": [],
   "source": [
    "plot_name = \"epochs_\"+super_plot_name+\"_GRU_SAS_\"+subset_selection[\"data_params.name\"]\n",
    "\n",
    "#plot_instructions[\"subplots\"] = {\"nrows\": 3, \"ncols\": 2, \"figsize\": (12,12)}\n",
    "plot_instructions[\"savefig\"] = {\"fname\": f'../out/img/{plot_name}.pdf'}\n",
    "\n",
    "plot_kwargs = {\"markevery\": 0.1}\n",
    "\n",
    "ax_instructions.pop(\"set_xticks\",None)\n",
    "ax_instructions[\"legend\"] = {\"loc\": \"lower right\"}\n",
    "#ax_instructions[\"set_title\"] = {\"label\": super_title}\n",
    "\n",
    "label_convert_dict = {} #x:f\"{x} positive item(s)\" for x in [1,2,3,5,10,20,50,100]}\n",
    "\n",
    "repeated_ax_instructions = [ax_instructions.copy() for _ in range(6)]\n",
    "repeated_ax_instructions[0][\"set_ylim\"] = {\"bottom\":0.25}\n",
    "repeated_ax_instructions[0][\"legend\"] = {\"loc\": \"upper left\"}\n",
    "repeated_ax_instructions[1][\"legend\"] = {\"loc\": \"upper left\"}\n",
    "\n",
    "\n",
    "repeated_ax_instructions[2][\"set_xlim\"] = {\"left\":0,\"right\":10}\n",
    "repeated_ax_instructions[2][\"set_ylim\"] = {\"bottom\":0.18,\"top\":0.43}\n",
    "repeated_ax_instructions[2].pop(\"set_xscale\",None)\n",
    "repeated_ax_instructions[3][\"set_xlim\"] = {\"left\":0,\"right\":10}\n",
    "repeated_ax_instructions[3][\"set_ylim\"] = {\"bottom\":0.125,\"top\":0.26}\n",
    "repeated_ax_instructions[3].pop(\"set_xscale\",None)\n",
    "\n",
    "\n",
    "repeated_ax_instructions[4][\"set_xlim\"] = {\"left\":100,\"right\":600}\n",
    "repeated_ax_instructions[4][\"set_ylim\"] = {\"bottom\":0.35,\"top\":0.77}\n",
    "repeated_ax_instructions[4].pop(\"set_xscale\",None)\n",
    "repeated_ax_instructions[5][\"set_xlim\"] = {\"left\":100,\"right\":600}\n",
    "repeated_ax_instructions[5][\"set_ylim\"] = {\"bottom\":0.45,\"top\":0.80}\n",
    "repeated_ax_instructions[5].pop(\"set_xscale\",None)\n",
    "\n",
    "\n",
    "repeated_plot_kwargs = [plot_kwargs.copy() for _ in range(6)]\n",
    "repeated_plot_kwargs[2][\"markevery\"] = repeated_plot_kwargs[3][\"markevery\"] = 1\n",
    "repeated_plot_kwargs[4][\"markevery\"] = repeated_plot_kwargs[5][\"markevery\"] = 100\n",
    "\n",
    "label_a = [\"(a)\",\"(b)\",\"(c)\",\"(d)\",\"(e)\",\"(f)\"]\n",
    "label_b = [\"GRU\",\"SAS\"]*3\n",
    "label_c = [\" - \"+x if x !=\"\" else x for x in [\"\",\"\",\"start\",\"start\",\"end\",\"end\"]]\n",
    "for i,(rep_ax_instr, rep_plot_kwargs) in enumerate(zip(repeated_ax_instructions,repeated_plot_kwargs)):\n",
    "    rep_plot_instr = deepcopy(plot_instructions.copy())\n",
    "    rep_plot_instr[\"savefig\"][\"fname\"] = plot_instructions[\"savefig\"][\"fname\"].split(\".pdf\")[0]+\"_\"+str(i)+\".pdf\"\n",
    "    rep_ax_instr[\"set_title\"] = {\"label\": f\"{label_a[i]} {label_b[i]}{label_c[i]}\"}\n",
    "    create_plot(rep_plot_instr, data=([gru_table,sas_table]*3)[i], label_columns=[main_x_column], x_column=x_column, y_column=y_column,\n",
    "            ax_instructions = rep_ax_instr, label_convert_dict = label_convert_dict, plot_type=\"plot\", plot_kwargs=rep_plot_kwargs)"
   ]
  },
  {
   "cell_type": "markdown",
   "metadata": {
    "id": "KRwxuK6bHFOZ"
   },
   "source": [
    "#### ML-1M"
   ]
  },
  {
   "cell_type": "code",
   "execution_count": null,
   "metadata": {
    "id": "N1Z2TzVLHFOZ"
   },
   "outputs": [],
   "source": [
    "subset_selection[\"data_params.name\"] = \"ml-1m\"\n",
    "subset_selection.pop(\"model.rec_model.name\",None)"
   ]
  },
  {
   "cell_type": "code",
   "execution_count": null,
   "metadata": {
    "id": "W6HvBxrRHFOZ"
   },
   "outputs": [],
   "source": [
    "table = generate_table(subset_data(complete_data, subset_selection, subset_keep, merge_columns), rows_labels, column_labels, exp_name = \"april_30\", save_table=True)\n",
    "table"
   ]
  },
  {
   "cell_type": "code",
   "execution_count": null,
   "metadata": {
    "id": "3XJw_yK4HFOZ"
   },
   "outputs": [],
   "source": [
    "x_column = main_x_column\n",
    "x_label = main_x_label\n",
    "y_column = \"NDCG_@10\"\n",
    "y_label = y_column.replace(\"_\", \"\")\n",
    "\n",
    "ax_instructions = {\"set_xscale\": {\"value\": \"log\"},\n",
    "                   \"set_ylabel\": {\"ylabel\": y_label},\n",
    "                   \"get_xaxis\": {\"__kwargs__\":{},\n",
    "                                 \"set_tick_params\": {\"which\":\"minor\", \"size\":0}},\n",
    "                   \"get_xaxis\": {\"__kwargs__\":{},\n",
    "                                 \"set_tick_params\": {\"which\":\"minor\", \"width\":0}},\n",
    "                   \"legend\": {},\n",
    "                   \"grid\":{}}\n",
    "\n",
    "plot_instructions = {\"subplots\": {\"nrows\": 1, \"ncols\": 1, \"figsize\": (6,4)},\n",
    "                    \"tight_layout\":{},\n",
    "                    \"savefig\": {\"fname\": \"plot.pdf\"},\n",
    "                    \"show\":{}}"
   ]
  },
  {
   "cell_type": "code",
   "execution_count": null,
   "metadata": {
    "id": "04pO4NKaHFOa"
   },
   "outputs": [],
   "source": [
    "plot_name = super_plot_name+\"_\"+subset_selection[\"data_params.name\"]\n",
    "\n",
    "ax_instructions[\"set_xticks\"] = {\"ticks\": table[x_column].unique().astype(int), \"labels\": table[x_column].unique().astype(int)}\n",
    "ax_instructions[\"set_xlabel\"] = {\"xlabel\": x_label}\n",
    "ax_instructions[\"legend\"] = {\"loc\": \"upper right\"}\n",
    "\n",
    "plot_instructions[\"savefig\"] = {\"fname\": f'../out/img/{plot_name}.pdf'}\n",
    "\n",
    "label_convert_dict = {}\n",
    "\n",
    "create_plot(plot_instructions, data=table, label_columns=[\"model.rec_model.name\"], x_column=x_column, y_column=y_column,\n",
    "            ax_instructions = ax_instructions, label_convert_dict = label_convert_dict)"
   ]
  },
  {
   "cell_type": "code",
   "execution_count": null,
   "metadata": {
    "id": "Ak8zGhqjHFOa"
   },
   "outputs": [],
   "source": [
    "x_column = \"train_flops\"\n",
    "x_label = \"Training flops\"\n",
    "plot_name = super_plot_name+\"_flops_\"+subset_selection[\"data_params.name\"]\n",
    "\n",
    "ax_instructions.pop(\"set_xticks\",None)\n",
    "ax_instructions[\"set_xlabel\"] = {\"xlabel\": x_label}\n",
    "ax_instructions[\"legend\"] = {\"loc\": \"lower left\"}\n",
    "#ax_instructions[\"set_title\"] = {\"label\": super_title}\n",
    "\n",
    "plot_instructions[\"savefig\"] = {\"fname\": f'../out/img/{plot_name}.pdf'}\n",
    "\n",
    "label_convert_dict = {}\n",
    "\n",
    "create_plot(plot_instructions, data=table, label_columns=[\"model.rec_model.name\"], x_column=x_column, y_column=y_column,\n",
    "            ax_instructions = ax_instructions, label_convert_dict = label_convert_dict)\n"
   ]
  },
  {
   "cell_type": "code",
   "execution_count": null,
   "metadata": {
    "id": "8eJphpIDHFOa"
   },
   "outputs": [],
   "source": [
    "x_column = \"epoch\"\n",
    "x_label = \"Epoch\"\n",
    "y_column = \"val_NDCG_@10/dataloader_idx_1\"\n",
    "y_label = \"NDCG@10\"\n",
    "ax_instructions[\"set_xlabel\"] = {\"xlabel\": x_label}"
   ]
  },
  {
   "cell_type": "markdown",
   "metadata": {
    "id": "NiYck34ZHFOa"
   },
   "source": [
    "##### SASRec"
   ]
  },
  {
   "cell_type": "code",
   "execution_count": null,
   "metadata": {
    "id": "0l0VF32FHFOa"
   },
   "outputs": [],
   "source": [
    "subset_selection[\"model.rec_model.name\"] = \"SASRec\"\n",
    "epoch_table = subset_data(complete_data, subset_selection, subset_keep, merge_columns)\n",
    "\n",
    "sas_table = merge_epoch_data(metrics_per_epoch, epoch_table, rows_labels)\n",
    "sas_table = hotfix_table(sas_table, y_column) #HOTFIX\n",
    "sas_table"
   ]
  },
  {
   "cell_type": "code",
   "execution_count": null,
   "metadata": {
    "id": "EmaltoNzHFOa"
   },
   "outputs": [],
   "source": [
    "subset_selection[\"model.rec_model.name\"] = \"GRU4Rec\"\n",
    "epoch_table = subset_data(complete_data, subset_selection, subset_keep, merge_columns)\n",
    "\n",
    "gru_table = merge_epoch_data(metrics_per_epoch, epoch_table, rows_labels)\n",
    "gru_table = hotfix_table(gru_table, y_column) #HOTFIX\n",
    "gru_table"
   ]
  },
  {
   "cell_type": "code",
   "execution_count": null,
   "metadata": {
    "id": "mkFmlyVFHFOb"
   },
   "outputs": [],
   "source": [
    "plot_name = \"epochs_\"+super_plot_name+\"_GRU_SAS_\"+subset_selection[\"data_params.name\"]\n",
    "\n",
    "#plot_instructions[\"subplots\"] = {\"nrows\": 3, \"ncols\": 2, \"figsize\": (12,12)}\n",
    "plot_instructions[\"savefig\"] = {\"fname\": f'../out/img/{plot_name}.pdf'}\n",
    "\n",
    "plot_kwargs = {\"markevery\": 0.1}\n",
    "\n",
    "ax_instructions.pop(\"set_xticks\",None)\n",
    "ax_instructions[\"legend\"] = {\"loc\": \"upper left\"}\n",
    "#ax_instructions[\"set_title\"] = {\"label\": super_title}\n",
    "\n",
    "label_convert_dict = {} #x:f\"{x} positive item(s)\" for x in [1,2,3,5,10,20,50,100]}\n",
    "\n",
    "repeated_ax_instructions = [ax_instructions.copy() for _ in range(6)]\n",
    "repeated_ax_instructions[2][\"set_xlim\"] = {\"left\":0,\"right\":10}\n",
    "repeated_ax_instructions[2][\"set_ylim\"] = {\"bottom\":0.18,\"top\":0.41}\n",
    "repeated_ax_instructions[2].pop(\"set_xscale\",None)\n",
    "repeated_ax_instructions[3][\"set_xlim\"] = {\"left\":0,\"right\":10}\n",
    "repeated_ax_instructions[3][\"set_ylim\"] = {\"bottom\":0.05,\"top\":0.25}\n",
    "repeated_ax_instructions[3].pop(\"set_xscale\",None)\n",
    "\n",
    "\n",
    "repeated_ax_instructions[4][\"set_xlim\"] = {\"left\":100,\"right\":600}\n",
    "repeated_ax_instructions[4][\"set_ylim\"] = {\"bottom\":0.2,\"top\":0.605}\n",
    "repeated_ax_instructions[4].pop(\"set_xscale\",None)\n",
    "repeated_ax_instructions[5][\"set_xlim\"] = {\"left\":100,\"right\":600}\n",
    "repeated_ax_instructions[5][\"set_ylim\"] = {\"bottom\":0.2,\"top\":0.60}\n",
    "repeated_ax_instructions[5].pop(\"set_xscale\",None)\n",
    "\n",
    "\n",
    "repeated_plot_kwargs = [plot_kwargs.copy() for _ in range(6)]\n",
    "repeated_plot_kwargs[2][\"markevery\"] = repeated_plot_kwargs[3][\"markevery\"] = 1\n",
    "repeated_plot_kwargs[4][\"markevery\"] = repeated_plot_kwargs[5][\"markevery\"] = 100\n",
    "\n",
    "label_a = [\"(a)\",\"(b)\",\"(c)\",\"(d)\",\"(e)\",\"(f)\"]\n",
    "label_b = [\"GRU\",\"SAS\"]*3\n",
    "label_c = [\" - \"+x if x !=\"\" else x for x in [\"\",\"\",\"start\",\"start\",\"end\",\"end\"]]\n",
    "for i,(rep_ax_instr, rep_plot_kwargs) in enumerate(zip(repeated_ax_instructions,repeated_plot_kwargs)):\n",
    "    rep_plot_instr = deepcopy(plot_instructions.copy())\n",
    "    rep_plot_instr[\"savefig\"][\"fname\"] = plot_instructions[\"savefig\"][\"fname\"].split(\".pdf\")[0]+\"_\"+str(i)+\".pdf\"\n",
    "    rep_ax_instr[\"set_title\"] = {\"label\": f\"{label_a[i]} {label_b[i]}{label_c[i]}\"}\n",
    "    create_plot(rep_plot_instr, data=([gru_table,sas_table]*3)[i], label_columns=[main_x_column], x_column=x_column, y_column=y_column,\n",
    "            ax_instructions = rep_ax_instr, label_convert_dict = label_convert_dict, plot_type=\"plot\", plot_kwargs=rep_plot_kwargs)"
   ]
  },
  {
   "cell_type": "code",
   "execution_count": null,
   "metadata": {
    "id": "BMC8NogeHFOb"
   },
   "outputs": [],
   "source": []
  },
  {
   "cell_type": "markdown",
   "metadata": {
    "id": "oAiI_YwbHFOb"
   },
   "source": [
    "### Num negatives"
   ]
  },
  {
   "cell_type": "code",
   "execution_count": null,
   "metadata": {
    "id": "O0tpi19vHFOb"
   },
   "outputs": [],
   "source": [
    "main_x_column = \"data_params.collator_params.num_negatives.train\"\n",
    "main_x_label = \"Number of negative items\"\n",
    "super_plot_name = \"negatives_NDCG@10\"\n",
    "super_title = \"Performance with varying number of negative items\""
   ]
  },
  {
   "cell_type": "code",
   "execution_count": null,
   "metadata": {
    "id": "44rnQ1b_HFOb"
   },
   "outputs": [],
   "source": [
    "rows_label_to_add = [main_x_column]\n",
    "rows_labels = main_rows_labels + rows_label_to_add\n",
    "\n",
    "subset_selection = {\"data_params.collator_params.simultaneous_lookforward\":1}"
   ]
  },
  {
   "cell_type": "markdown",
   "metadata": {
    "id": "pTtlnkouHFOb"
   },
   "source": [
    "#### Amazon-beauty"
   ]
  },
  {
   "cell_type": "code",
   "execution_count": null,
   "metadata": {
    "id": "xYgIVnLyHFOb"
   },
   "outputs": [],
   "source": [
    "subset_selection[\"data_params.name\"] = \"amazon_beauty\"\n",
    "subset_selection.pop(\"model.rec_model.name\",None)"
   ]
  },
  {
   "cell_type": "code",
   "execution_count": null,
   "metadata": {
    "id": "6XkPjdWuHFOc"
   },
   "outputs": [],
   "source": [
    "table = generate_table(subset_data(complete_data, subset_selection, subset_keep, merge_columns), rows_labels, column_labels, exp_name = \"april_30\", save_table=True)\n",
    "table"
   ]
  },
  {
   "cell_type": "code",
   "execution_count": null,
   "metadata": {
    "id": "t9z7yVPcHFOc"
   },
   "outputs": [],
   "source": [
    "y_column = \"NDCG_@10\"\n",
    "y_label = y_column.replace(\"_\", \"\")\n",
    "\n",
    "ax_instructions = {\"set_xscale\": {\"value\": \"log\"},\n",
    "                   \"set_ylabel\": {\"ylabel\": y_label},\n",
    "                   \"get_xaxis\": {\"__kwargs__\":{},\n",
    "                                 \"set_tick_params\": {\"which\":\"minor\", \"size\":0}},\n",
    "                   \"get_xaxis\": {\"__kwargs__\":{},\n",
    "                                 \"set_tick_params\": {\"which\":\"minor\", \"width\":0}},\n",
    "                   \"legend\": {},\n",
    "                   \"grid\":{}}\n",
    "\n",
    "plot_instructions = {\"subplots\": {\"nrows\": 1, \"ncols\": 1, \"figsize\": (6,4)},\n",
    "                    \"tight_layout\":{},\n",
    "                    \"savefig\": {\"fname\": \"plot.pdf\"},\n",
    "                    \"show\":{}}"
   ]
  },
  {
   "cell_type": "code",
   "execution_count": null,
   "metadata": {
    "id": "8gEUNAV7HFOc"
   },
   "outputs": [],
   "source": [
    "x_column = main_x_column\n",
    "x_label = main_x_label\n",
    "plot_name = super_plot_name+\"_\"+subset_selection[\"data_params.name\"]\n",
    "\n",
    "ax_instructions[\"set_xticks\"] = {\"ticks\": table[x_column].unique().astype(int), \"labels\": table[x_column].unique().astype(int)}\n",
    "ax_instructions[\"set_xlabel\"] = {\"xlabel\": x_label}\n",
    "ax_instructions[\"legend\"] = {\"loc\": \"upper right\"}\n",
    "\n",
    "plot_instructions[\"savefig\"] = {\"fname\": f'../out/img/{plot_name}.pdf'}\n",
    "\n",
    "label_convert_dict = {}\n",
    "\n",
    "create_plot(plot_instructions, data=table, label_columns=[\"model.rec_model.name\"], x_column=x_column, y_column=y_column,\n",
    "            ax_instructions = ax_instructions, label_convert_dict = label_convert_dict)"
   ]
  },
  {
   "cell_type": "code",
   "execution_count": null,
   "metadata": {
    "id": "1jNNK7MwHFOc"
   },
   "outputs": [],
   "source": [
    "x_column = \"train_flops\"\n",
    "x_label = \"Training flops\"\n",
    "plot_name = super_plot_name+\"_flops_\"+subset_selection[\"data_params.name\"]\n",
    "\n",
    "ax_instructions.pop(\"set_xticks\",None)\n",
    "ax_instructions[\"set_xlabel\"] = {\"xlabel\": x_label}\n",
    "ax_instructions[\"legend\"] = {\"loc\": \"lower left\"}\n",
    "#ax_instructions[\"set_title\"] = {\"label\": super_title}\n",
    "\n",
    "plot_instructions[\"savefig\"] = {\"fname\": f'../out/img/{plot_name}.pdf'}\n",
    "\n",
    "label_convert_dict = {}\n",
    "\n",
    "create_plot(plot_instructions, data=table, label_columns=[\"model.rec_model.name\"], x_column=x_column, y_column=y_column,\n",
    "            ax_instructions = ax_instructions, label_convert_dict = label_convert_dict)\n"
   ]
  },
  {
   "cell_type": "code",
   "execution_count": null,
   "metadata": {
    "id": "n-PSkHypHFOc"
   },
   "outputs": [],
   "source": [
    "x_column = \"epoch\"\n",
    "x_label = \"Epoch\"\n",
    "y_column = \"val_NDCG_@10/dataloader_idx_1\"\n",
    "y_label = \"NDCG@10\"\n",
    "ax_instructions[\"set_xlabel\"] = {\"xlabel\": x_label}"
   ]
  },
  {
   "cell_type": "markdown",
   "metadata": {
    "id": "LMfP8MisHFOd"
   },
   "source": [
    "##### SASRec"
   ]
  },
  {
   "cell_type": "code",
   "execution_count": null,
   "metadata": {
    "id": "JRo-m2OTHFOd"
   },
   "outputs": [],
   "source": [
    "subset_selection[\"model.rec_model.name\"] = \"SASRec\"\n",
    "epoch_table = subset_data(complete_data, subset_selection, subset_keep, merge_columns)\n",
    "\n",
    "sas_table = merge_epoch_data(metrics_per_epoch, epoch_table, rows_labels)\n",
    "sas_table = hotfix_table(sas_table, y_column) #HOTFIX\n",
    "sas_table"
   ]
  },
  {
   "cell_type": "code",
   "execution_count": null,
   "metadata": {
    "id": "0PSz5Rf6HFOd"
   },
   "outputs": [],
   "source": [
    "subset_selection[\"model.rec_model.name\"] = \"GRU4Rec\"\n",
    "epoch_table = subset_data(complete_data, subset_selection, subset_keep, merge_columns)\n",
    "\n",
    "gru_table = merge_epoch_data(metrics_per_epoch, epoch_table, rows_labels)\n",
    "gru_table = hotfix_table(gru_table, y_column) #HOTFIX\n",
    "gru_table"
   ]
  },
  {
   "cell_type": "code",
   "execution_count": null,
   "metadata": {
    "id": "YU_aP46dHFOd"
   },
   "outputs": [],
   "source": [
    "plot_name = \"epochs_\"+super_plot_name+\"_GRU_SAS_\"+subset_selection[\"data_params.name\"]\n",
    "\n",
    "#plot_instructions[\"subplots\"] = {\"nrows\": 3, \"ncols\": 2, \"figsize\": (12,12)}\n",
    "plot_instructions[\"savefig\"] = {\"fname\": f'../out/img/{plot_name}.pdf'}\n",
    "\n",
    "plot_kwargs = {\"markevery\": 0.1}\n",
    "\n",
    "ax_instructions.pop(\"set_xticks\",None)\n",
    "ax_instructions[\"legend\"] = {\"loc\": \"lower right\"}\n",
    "#ax_instructions[\"set_title\"] = {\"label\": super_title}\n",
    "\n",
    "label_convert_dict = {} #x:f\"{x} positive item(s)\" for x in [1,2,3,5,10,20,50,100]}\n",
    "\n",
    "repeated_ax_instructions = [ax_instructions.copy() for _ in range(6)]\n",
    "#repeated_ax_instructions[0][\"set_ylim\"] = {\"bottom\":0.525}\n",
    "\n",
    "repeated_ax_instructions[2][\"set_xlim\"] = {\"left\":0,\"right\":10}\n",
    "repeated_ax_instructions[2][\"set_ylim\"] = {\"bottom\":0.28,\"top\":0.65}\n",
    "repeated_ax_instructions[2].pop(\"set_xscale\",None)\n",
    "repeated_ax_instructions[3][\"set_xlim\"] = {\"left\":0,\"right\":10}\n",
    "repeated_ax_instructions[3][\"set_ylim\"] = {\"bottom\":0.14,\"top\":0.35}\n",
    "repeated_ax_instructions[3][\"legend\"] = {\"loc\": \"lower left\"}\n",
    "repeated_ax_instructions[3].pop(\"set_xscale\",None)\n",
    "\n",
    "\n",
    "repeated_ax_instructions[4][\"set_xlim\"] = {\"left\":100,\"right\":600}\n",
    "repeated_ax_instructions[4][\"set_ylim\"] = {\"bottom\":0.67,\"top\":0.695}\n",
    "repeated_ax_instructions[4].pop(\"set_xscale\",None)\n",
    "repeated_ax_instructions[5][\"set_xlim\"] = {\"left\":100,\"right\":600}\n",
    "repeated_ax_instructions[5][\"set_ylim\"] = {\"bottom\":0.6,\"top\":0.7}\n",
    "repeated_ax_instructions[5].pop(\"set_xscale\",None)\n",
    "\n",
    "\n",
    "repeated_plot_kwargs = [plot_kwargs.copy() for _ in range(6)]\n",
    "repeated_plot_kwargs[2][\"markevery\"] = repeated_plot_kwargs[3][\"markevery\"] = 1\n",
    "repeated_plot_kwargs[4][\"markevery\"] = repeated_plot_kwargs[5][\"markevery\"] = 100\n",
    "\n",
    "label_a = [\"(a)\",\"(b)\",\"(c)\",\"(d)\",\"(e)\",\"(f)\"]\n",
    "label_b = [\"GRU\",\"SAS\"]*3\n",
    "label_c = [\" - \"+x if x !=\"\" else x for x in [\"\",\"\",\"start\",\"start\",\"end\",\"end\"]]\n",
    "for i,(rep_ax_instr, rep_plot_kwargs) in enumerate(zip(repeated_ax_instructions,repeated_plot_kwargs)):\n",
    "    rep_plot_instr = deepcopy(plot_instructions.copy())\n",
    "    rep_plot_instr[\"savefig\"][\"fname\"] = plot_instructions[\"savefig\"][\"fname\"].split(\".pdf\")[0]+\"_\"+str(i)+\".pdf\"\n",
    "    rep_ax_instr[\"set_title\"] = {\"label\": f\"{label_a[i]} {label_b[i]}{label_c[i]}\"}\n",
    "    create_plot(rep_plot_instr, data=([gru_table,sas_table]*3)[i], label_columns=[main_x_column], x_column=x_column, y_column=y_column,\n",
    "            ax_instructions = rep_ax_instr, label_convert_dict = label_convert_dict, plot_type=\"plot\", plot_kwargs=rep_plot_kwargs)"
   ]
  },
  {
   "cell_type": "markdown",
   "metadata": {
    "id": "c8kcyj-FHFOd"
   },
   "source": [
    "#### Foursquare TKY"
   ]
  },
  {
   "cell_type": "code",
   "execution_count": null,
   "metadata": {
    "id": "r38phVCqHFOd"
   },
   "outputs": [],
   "source": [
    "subset_selection[\"data_params.name\"] = \"foursquare-tky\"\n",
    "subset_selection.pop(\"model.rec_model.name\",None)"
   ]
  },
  {
   "cell_type": "code",
   "execution_count": null,
   "metadata": {
    "id": "hYXXL-84HFOd"
   },
   "outputs": [],
   "source": [
    "table = generate_table(subset_data(complete_data, subset_selection, subset_keep, merge_columns), rows_labels, column_labels, exp_name = \"april_30\", save_table=True)\n",
    "table"
   ]
  },
  {
   "cell_type": "code",
   "execution_count": null,
   "metadata": {
    "id": "qg52wQvZHFOe"
   },
   "outputs": [],
   "source": [
    "y_column = \"NDCG_@10\"\n",
    "y_label = y_column.replace(\"_\", \"\")\n",
    "\n",
    "ax_instructions = {\"set_xscale\": {\"value\": \"log\"},\n",
    "                   \"set_ylabel\": {\"ylabel\": y_label},\n",
    "                   \"get_xaxis\": {\"__kwargs__\":{},\n",
    "                                 \"set_tick_params\": {\"which\":\"minor\", \"size\":0}},\n",
    "                   \"get_xaxis\": {\"__kwargs__\":{},\n",
    "                                 \"set_tick_params\": {\"which\":\"minor\", \"width\":0}},\n",
    "                   \"legend\": {},\n",
    "                   \"grid\":{}}\n",
    "\n",
    "plot_instructions = {\"subplots\": {\"nrows\": 1, \"ncols\": 1, \"figsize\": (6,4)},\n",
    "                    \"tight_layout\":{},\n",
    "                    \"savefig\": {\"fname\": \"plot.pdf\"},\n",
    "                    \"show\":{}}"
   ]
  },
  {
   "cell_type": "code",
   "execution_count": null,
   "metadata": {
    "id": "OgbRrjUcHFOe"
   },
   "outputs": [],
   "source": [
    "x_column = main_x_column\n",
    "x_label = main_x_label\n",
    "plot_name = super_plot_name+\"_\"+subset_selection[\"data_params.name\"]\n",
    "\n",
    "ax_instructions[\"set_xticks\"] = {\"ticks\": table[x_column].unique().astype(int), \"labels\": table[x_column].unique().astype(int)}\n",
    "ax_instructions[\"set_xlabel\"] = {\"xlabel\": x_label}\n",
    "ax_instructions[\"legend\"] = {\"loc\": \"center right\"}\n",
    "\n",
    "plot_instructions[\"savefig\"] = {\"fname\": f'../out/img/{plot_name}.pdf'}\n",
    "\n",
    "label_convert_dict = {}\n",
    "\n",
    "create_plot(plot_instructions, data=table, label_columns=[\"model.rec_model.name\"], x_column=x_column, y_column=y_column,\n",
    "            ax_instructions = ax_instructions, label_convert_dict = label_convert_dict)"
   ]
  },
  {
   "cell_type": "code",
   "execution_count": null,
   "metadata": {
    "id": "3fOOELAbHFOe"
   },
   "outputs": [],
   "source": [
    "x_column = \"train_flops\"\n",
    "x_label = \"Training flops\"\n",
    "plot_name = super_plot_name+\"_flops_\"+subset_selection[\"data_params.name\"]\n",
    "\n",
    "ax_instructions.pop(\"set_xticks\",None)\n",
    "ax_instructions[\"set_xlabel\"] = {\"xlabel\": x_label}\n",
    "ax_instructions[\"legend\"] = {\"loc\": \"lower left\"}\n",
    "#ax_instructions[\"set_title\"] = {\"label\": super_title}\n",
    "\n",
    "plot_instructions[\"savefig\"] = {\"fname\": f'../out/img/{plot_name}.pdf'}\n",
    "\n",
    "label_convert_dict = {}\n",
    "\n",
    "create_plot(plot_instructions, data=table, label_columns=[\"model.rec_model.name\"], x_column=x_column, y_column=y_column,\n",
    "            ax_instructions = ax_instructions, label_convert_dict = label_convert_dict)\n"
   ]
  },
  {
   "cell_type": "code",
   "execution_count": null,
   "metadata": {
    "id": "u81HKqh5HFOe"
   },
   "outputs": [],
   "source": [
    "x_column = \"epoch\"\n",
    "x_label = \"Epoch\"\n",
    "y_column = \"val_NDCG_@10/dataloader_idx_1\"\n",
    "y_label = \"NDCG@10\"\n",
    "ax_instructions[\"set_xlabel\"] = {\"xlabel\": x_label}"
   ]
  },
  {
   "cell_type": "markdown",
   "metadata": {
    "id": "LFF1DUoZHFOe"
   },
   "source": [
    "##### SASRec"
   ]
  },
  {
   "cell_type": "code",
   "execution_count": null,
   "metadata": {
    "id": "GnXr_pjsHFOe"
   },
   "outputs": [],
   "source": [
    "subset_selection[\"model.rec_model.name\"] = \"SASRec\"\n",
    "epoch_table = subset_data(complete_data, subset_selection, subset_keep, merge_columns)\n",
    "\n",
    "sas_table = merge_epoch_data(metrics_per_epoch, epoch_table, rows_labels)\n",
    "sas_table = hotfix_table(sas_table, y_column) #HOTFIX\n",
    "sas_table"
   ]
  },
  {
   "cell_type": "code",
   "execution_count": null,
   "metadata": {
    "id": "6NHb-sSZHFOe"
   },
   "outputs": [],
   "source": [
    "subset_selection[\"model.rec_model.name\"] = \"GRU4Rec\"\n",
    "epoch_table = subset_data(complete_data, subset_selection, subset_keep, merge_columns)\n",
    "\n",
    "gru_table = merge_epoch_data(metrics_per_epoch, epoch_table, rows_labels)\n",
    "gru_table = hotfix_table(gru_table, y_column) #HOTFIX\n",
    "gru_table"
   ]
  },
  {
   "cell_type": "code",
   "execution_count": null,
   "metadata": {
    "id": "W81uhQLHHFOf"
   },
   "outputs": [],
   "source": [
    "plot_name = \"epochs_\"+super_plot_name+\"_GRU_SAS_\"+subset_selection[\"data_params.name\"]\n",
    "\n",
    "#plot_instructions[\"subplots\"] = {\"nrows\": 3, \"ncols\": 2, \"figsize\": (12,12)}\n",
    "plot_instructions[\"savefig\"] = {\"fname\": f'../out/img/{plot_name}.pdf'}\n",
    "\n",
    "plot_kwargs = {\"markevery\": 0.1}\n",
    "\n",
    "ax_instructions.pop(\"set_xticks\",None)\n",
    "ax_instructions[\"legend\"] = {\"loc\": \"lower right\"}\n",
    "#ax_instructions[\"set_title\"] = {\"label\": super_title}\n",
    "\n",
    "label_convert_dict = {} #x:f\"{x} positive item(s)\" for x in [1,2,3,5,10,20,50,100]}\n",
    "\n",
    "repeated_ax_instructions = [ax_instructions.copy() for _ in range(6)]\n",
    "repeated_ax_instructions[0][\"set_ylim\"] = {\"bottom\":0.25}\n",
    "repeated_ax_instructions[0][\"legend\"] = {\"loc\": \"upper left\"}\n",
    "repeated_ax_instructions[1][\"legend\"] = {\"loc\": \"upper left\"}\n",
    "\n",
    "\n",
    "repeated_ax_instructions[2][\"set_xlim\"] = {\"left\":0,\"right\":10}\n",
    "repeated_ax_instructions[2][\"set_ylim\"] = {\"bottom\":0.16,\"top\":0.43}\n",
    "repeated_ax_instructions[2].pop(\"set_xscale\",None)\n",
    "repeated_ax_instructions[3][\"set_xlim\"] = {\"left\":0,\"right\":10}\n",
    "repeated_ax_instructions[3][\"set_ylim\"] = {\"bottom\":0.05,\"top\":0.26}\n",
    "repeated_ax_instructions[3].pop(\"set_xscale\",None)\n",
    "\n",
    "\n",
    "repeated_ax_instructions[4][\"set_xlim\"] = {\"left\":100,\"right\":600}\n",
    "repeated_ax_instructions[4][\"set_ylim\"] = {\"bottom\":0.5,\"top\":0.77}\n",
    "repeated_ax_instructions[4].pop(\"set_xscale\",None)\n",
    "repeated_ax_instructions[5][\"set_xlim\"] = {\"left\":100,\"right\":600}\n",
    "repeated_ax_instructions[5][\"set_ylim\"] = {\"bottom\":0.55,\"top\":0.82}\n",
    "repeated_ax_instructions[5].pop(\"set_xscale\",None)\n",
    "\n",
    "\n",
    "repeated_plot_kwargs = [plot_kwargs.copy() for _ in range(6)]\n",
    "repeated_plot_kwargs[2][\"markevery\"] = repeated_plot_kwargs[3][\"markevery\"] = 1\n",
    "repeated_plot_kwargs[4][\"markevery\"] = repeated_plot_kwargs[5][\"markevery\"] = 100\n",
    "\n",
    "label_a = [\"(a)\",\"(b)\",\"(c)\",\"(d)\",\"(e)\",\"(f)\"]\n",
    "label_b = [\"GRU\",\"SAS\"]*3\n",
    "label_c = [\" - \"+x if x !=\"\" else x for x in [\"\",\"\",\"start\",\"start\",\"end\",\"end\"]]\n",
    "for i,(rep_ax_instr, rep_plot_kwargs) in enumerate(zip(repeated_ax_instructions,repeated_plot_kwargs)):\n",
    "    rep_plot_instr = deepcopy(plot_instructions.copy())\n",
    "    rep_plot_instr[\"savefig\"][\"fname\"] = plot_instructions[\"savefig\"][\"fname\"].split(\".pdf\")[0]+\"_\"+str(i)+\".pdf\"\n",
    "    rep_ax_instr[\"set_title\"] = {\"label\": f\"{label_a[i]} {label_b[i]}{label_c[i]}\"}\n",
    "    create_plot(rep_plot_instr, data=([gru_table,sas_table]*3)[i], label_columns=[main_x_column], x_column=x_column, y_column=y_column,\n",
    "            ax_instructions = rep_ax_instr, label_convert_dict = label_convert_dict, plot_type=\"plot\", plot_kwargs=rep_plot_kwargs)"
   ]
  },
  {
   "cell_type": "markdown",
   "metadata": {
    "id": "UQ49jME7HFOf"
   },
   "source": [
    "#### ML-1M"
   ]
  },
  {
   "cell_type": "code",
   "execution_count": null,
   "metadata": {
    "id": "Wp_NOr6_HFOf"
   },
   "outputs": [],
   "source": [
    "subset_selection[\"data_params.name\"] = \"ml-1m\"\n",
    "subset_selection.pop(\"model.rec_model.name\",None)"
   ]
  },
  {
   "cell_type": "code",
   "execution_count": null,
   "metadata": {
    "id": "B9lkOOOuHFOf"
   },
   "outputs": [],
   "source": [
    "table = generate_table(subset_data(complete_data, subset_selection, subset_keep, merge_columns), rows_labels, column_labels, exp_name = \"april_30\", save_table=True)\n",
    "table"
   ]
  },
  {
   "cell_type": "code",
   "execution_count": null,
   "metadata": {
    "id": "wxgG8kA7HFOf"
   },
   "outputs": [],
   "source": [
    "x_column = main_x_column\n",
    "x_label = main_x_label\n",
    "y_column = \"NDCG_@10\"\n",
    "y_label = y_column.replace(\"_\", \"\")\n",
    "\n",
    "ax_instructions = {\"set_xscale\": {\"value\": \"log\"},\n",
    "                   \"set_ylabel\": {\"ylabel\": y_label},\n",
    "                   \"get_xaxis\": {\"__kwargs__\":{},\n",
    "                                 \"set_tick_params\": {\"which\":\"minor\", \"size\":0}},\n",
    "                   \"get_xaxis\": {\"__kwargs__\":{},\n",
    "                                 \"set_tick_params\": {\"which\":\"minor\", \"width\":0}},\n",
    "                   \"legend\": {},\n",
    "                   \"grid\":{}}\n",
    "\n",
    "plot_instructions = {\"subplots\": {\"nrows\": 1, \"ncols\": 1, \"figsize\": (6,4)},\n",
    "                    \"tight_layout\":{},\n",
    "                    \"savefig\": {\"fname\": \"plot.pdf\"},\n",
    "                    \"show\":{}}"
   ]
  },
  {
   "cell_type": "code",
   "execution_count": null,
   "metadata": {
    "id": "nTII3983HFOf"
   },
   "outputs": [],
   "source": [
    "plot_name = super_plot_name+\"_\"+subset_selection[\"data_params.name\"]\n",
    "\n",
    "ax_instructions[\"set_xticks\"] = {\"ticks\": table[x_column].unique().astype(int), \"labels\": table[x_column].unique().astype(int)}\n",
    "ax_instructions[\"set_xlabel\"] = {\"xlabel\": x_label}\n",
    "ax_instructions[\"legend\"] = {\"loc\": \"upper right\"}\n",
    "\n",
    "plot_instructions[\"savefig\"] = {\"fname\": f'../out/img/{plot_name}.pdf'}\n",
    "\n",
    "label_convert_dict = {}\n",
    "\n",
    "create_plot(plot_instructions, data=table, label_columns=[\"model.rec_model.name\"], x_column=x_column, y_column=y_column,\n",
    "            ax_instructions = ax_instructions, label_convert_dict = label_convert_dict)"
   ]
  },
  {
   "cell_type": "code",
   "execution_count": null,
   "metadata": {
    "id": "H4iQ5AdYHFOg"
   },
   "outputs": [],
   "source": [
    "x_column = \"train_flops\"\n",
    "x_label = \"Training flops\"\n",
    "plot_name = super_plot_name+\"_flops_\"+subset_selection[\"data_params.name\"]\n",
    "\n",
    "ax_instructions.pop(\"set_xticks\",None)\n",
    "ax_instructions[\"set_xlabel\"] = {\"xlabel\": x_label}\n",
    "ax_instructions[\"legend\"] = {\"loc\": \"lower left\"}\n",
    "#ax_instructions[\"set_title\"] = {\"label\": super_title}\n",
    "\n",
    "plot_instructions[\"savefig\"] = {\"fname\": f'../out/img/{plot_name}.pdf'}\n",
    "\n",
    "label_convert_dict = {}\n",
    "\n",
    "create_plot(plot_instructions, data=table, label_columns=[\"model.rec_model.name\"], x_column=x_column, y_column=y_column,\n",
    "            ax_instructions = ax_instructions, label_convert_dict = label_convert_dict)\n"
   ]
  },
  {
   "cell_type": "code",
   "execution_count": null,
   "metadata": {
    "id": "1ZHaShi8HFOg"
   },
   "outputs": [],
   "source": [
    "x_column = \"epoch\"\n",
    "x_label = \"Epoch\"\n",
    "y_column = \"val_NDCG_@10/dataloader_idx_1\"\n",
    "y_label = \"NDCG@10\"\n",
    "ax_instructions[\"set_xlabel\"] = {\"xlabel\": x_label}"
   ]
  },
  {
   "cell_type": "markdown",
   "metadata": {
    "id": "M-Rvd_WgHFOg"
   },
   "source": [
    "##### SASRec"
   ]
  },
  {
   "cell_type": "code",
   "execution_count": null,
   "metadata": {
    "id": "dn-rWrHPHFOg"
   },
   "outputs": [],
   "source": [
    "subset_selection[\"model.rec_model.name\"] = \"SASRec\"\n",
    "epoch_table = subset_data(complete_data, subset_selection, subset_keep, merge_columns)\n",
    "\n",
    "sas_table = merge_epoch_data(metrics_per_epoch, epoch_table, rows_labels)\n",
    "sas_table = hotfix_table(sas_table, y_column) #HOTFIX\n",
    "sas_table"
   ]
  },
  {
   "cell_type": "code",
   "execution_count": null,
   "metadata": {
    "id": "duUz6Ha3HFOg"
   },
   "outputs": [],
   "source": [
    "subset_selection[\"model.rec_model.name\"] = \"GRU4Rec\"\n",
    "epoch_table = subset_data(complete_data, subset_selection, subset_keep, merge_columns)\n",
    "\n",
    "gru_table = merge_epoch_data(metrics_per_epoch, epoch_table, rows_labels)\n",
    "gru_table = hotfix_table(gru_table, y_column) #HOTFIX\n",
    "gru_table"
   ]
  },
  {
   "cell_type": "code",
   "execution_count": null,
   "metadata": {
    "id": "oLDG9LubHFOg"
   },
   "outputs": [],
   "source": [
    "plot_name = \"epochs_\"+super_plot_name+\"_GRU_SAS_\"+subset_selection[\"data_params.name\"]\n",
    "\n",
    "#plot_instructions[\"subplots\"] = {\"nrows\": 3, \"ncols\": 2, \"figsize\": (12,12)}\n",
    "plot_instructions[\"savefig\"] = {\"fname\": f'../out/img/{plot_name}.pdf'}\n",
    "\n",
    "plot_kwargs = {\"markevery\": 0.1}\n",
    "\n",
    "ax_instructions.pop(\"set_xticks\",None)\n",
    "ax_instructions[\"legend\"] = {\"loc\": \"upper left\"}\n",
    "#ax_instructions[\"set_title\"] = {\"label\": super_title}\n",
    "\n",
    "label_convert_dict = {} #x:f\"{x} positive item(s)\" for x in [1,2,3,5,10,20,50,100]}\n",
    "\n",
    "repeated_ax_instructions = [ax_instructions.copy() for _ in range(6)]\n",
    "repeated_ax_instructions[2][\"set_xlim\"] = {\"left\":0,\"right\":10}\n",
    "repeated_ax_instructions[2][\"set_ylim\"] = {\"bottom\":0.225,\"top\":0.4}\n",
    "repeated_ax_instructions[2].pop(\"set_xscale\",None)\n",
    "repeated_ax_instructions[3][\"set_xlim\"] = {\"left\":0,\"right\":10}\n",
    "repeated_ax_instructions[3][\"set_ylim\"] = {\"bottom\":0.03,\"top\":0.25}\n",
    "repeated_ax_instructions[3].pop(\"set_xscale\",None)\n",
    "\n",
    "\n",
    "repeated_ax_instructions[4][\"set_xlim\"] = {\"left\":100,\"right\":600}\n",
    "repeated_ax_instructions[4][\"set_ylim\"] = {\"bottom\":0.54,\"top\":0.605}\n",
    "repeated_ax_instructions[4].pop(\"set_xscale\",None)\n",
    "repeated_ax_instructions[5][\"set_xlim\"] = {\"left\":100,\"right\":600}\n",
    "repeated_ax_instructions[5][\"set_ylim\"] = {\"bottom\":0.4,\"top\":0.62}\n",
    "repeated_ax_instructions[5].pop(\"set_xscale\",None)\n",
    "\n",
    "\n",
    "repeated_plot_kwargs = [plot_kwargs.copy() for _ in range(6)]\n",
    "repeated_plot_kwargs[2][\"markevery\"] = repeated_plot_kwargs[3][\"markevery\"] = 1\n",
    "repeated_plot_kwargs[4][\"markevery\"] = repeated_plot_kwargs[5][\"markevery\"] = 100\n",
    "\n",
    "label_a = [\"(a)\",\"(b)\",\"(c)\",\"(d)\",\"(e)\",\"(f)\"]\n",
    "label_b = [\"GRU\",\"SAS\"]*3\n",
    "label_c = [\" - \"+x if x !=\"\" else x for x in [\"\",\"\",\"start\",\"start\",\"end\",\"end\"]]\n",
    "for i,(rep_ax_instr, rep_plot_kwargs) in enumerate(zip(repeated_ax_instructions,repeated_plot_kwargs)):\n",
    "    rep_plot_instr = deepcopy(plot_instructions.copy())\n",
    "    rep_plot_instr[\"savefig\"][\"fname\"] = plot_instructions[\"savefig\"][\"fname\"].split(\".pdf\")[0]+\"_\"+str(i)+\".pdf\"\n",
    "    rep_ax_instr[\"set_title\"] = {\"label\": f\"{label_a[i]} {label_b[i]}{label_c[i]}\"}\n",
    "    create_plot(rep_plot_instr, data=([gru_table,sas_table]*3)[i], label_columns=[main_x_column], x_column=x_column, y_column=y_column,\n",
    "            ax_instructions = rep_ax_instr, label_convert_dict = label_convert_dict, plot_type=\"plot\", plot_kwargs=rep_plot_kwargs)"
   ]
  },
  {
   "cell_type": "markdown",
   "metadata": {
    "id": "xrmbUTLJHFOh"
   },
   "source": [
    "### Num positives/negatives"
   ]
  },
  {
   "cell_type": "code",
   "execution_count": null,
   "metadata": {
    "id": "9u1sNwMsHFOh"
   },
   "outputs": [],
   "source": [
    "main_x_column = \"num_pos_neg\"\n",
    "main_x_label = \"Number of positive/negative items\"\n",
    "super_plot_name = \"pos_neg_NDCG@10\"\n",
    "super_title = \"Performance with varying number of positive/negative items\""
   ]
  },
  {
   "cell_type": "code",
   "execution_count": null,
   "metadata": {
    "id": "rn4k_qVQHFOh"
   },
   "outputs": [],
   "source": [
    "rows_label_to_add = [main_x_column]\n",
    "rows_labels = main_rows_labels + rows_label_to_add\n",
    "\n",
    "subset_selection = {}\n",
    "merge_columns = {\"num_pos_neg\":[\"data_params.collator_params.simultaneous_lookforward\",\n",
    "                                \"data_params.collator_params.num_negatives.train\"]}"
   ]
  },
  {
   "cell_type": "code",
   "execution_count": null,
   "metadata": {
    "id": "SIlF3dY0HFOh"
   },
   "outputs": [],
   "source": [
    "def subset_to_equal_pos_neg(table):\n",
    "    def eq_pos_neg(x):\n",
    "        p,n = x.split(\"_\")\n",
    "        if p==n: return True\n",
    "        else: return False\n",
    "    def comb_pos_neg(x):\n",
    "        p,n = x.split(\"_\")\n",
    "        return int(p)\n",
    "    table = table.loc[table[\"num_pos_neg\"].apply(eq_pos_neg)]\n",
    "    table[\"num_pos_neg\"] = table[\"num_pos_neg\"].apply(comb_pos_neg)\n",
    "    # sort by number of positive items\n",
    "    table = table.sort_values(\"num_pos_neg\")\n",
    "    return table"
   ]
  },
  {
   "cell_type": "markdown",
   "metadata": {
    "id": "nFcIm28XHFOh"
   },
   "source": [
    "#### Amazon-beauty"
   ]
  },
  {
   "cell_type": "code",
   "execution_count": null,
   "metadata": {
    "id": "WmxaMRzoHFOh"
   },
   "outputs": [],
   "source": [
    "subset_selection[\"data_params.name\"] = \"amazon_beauty\"\n",
    "subset_selection.pop(\"model.rec_model.name\",None)"
   ]
  },
  {
   "cell_type": "code",
   "execution_count": null,
   "metadata": {
    "id": "umFtXL1GHFOh"
   },
   "outputs": [],
   "source": [
    "table = generate_table(subset_data(complete_data, subset_selection, subset_keep, merge_columns), rows_labels, column_labels, exp_name = \"april_30\", save_table=True)\n",
    "table = subset_to_equal_pos_neg(table)\n",
    "table"
   ]
  },
  {
   "cell_type": "code",
   "execution_count": null,
   "metadata": {
    "id": "CJOKxeXoHFOh"
   },
   "outputs": [],
   "source": [
    "y_column = \"NDCG_@10\"\n",
    "y_label = y_column.replace(\"_\", \"\")\n",
    "\n",
    "ax_instructions = {\"set_xscale\": {\"value\": \"log\"},\n",
    "                   \"set_ylabel\": {\"ylabel\": y_label},\n",
    "                   \"get_xaxis\": {\"__kwargs__\":{},\n",
    "                                 \"set_tick_params\": {\"which\":\"minor\", \"size\":0}},\n",
    "                   \"get_xaxis\": {\"__kwargs__\":{},\n",
    "                                 \"set_tick_params\": {\"which\":\"minor\", \"width\":0}},\n",
    "                   \"legend\": {},\n",
    "                   \"grid\":{}}\n",
    "\n",
    "plot_instructions = {\"subplots\": {\"nrows\": 1, \"ncols\": 1, \"figsize\": (6,4)},\n",
    "                    \"tight_layout\":{},\n",
    "                    \"savefig\": {\"fname\": \"plot.pdf\"},\n",
    "                    \"show\":{}}"
   ]
  },
  {
   "cell_type": "code",
   "execution_count": null,
   "metadata": {
    "id": "j9eLkYoeHFOi"
   },
   "outputs": [],
   "source": [
    "x_column = main_x_column\n",
    "x_label = main_x_label\n",
    "plot_name = super_plot_name+\"_\"+subset_selection[\"data_params.name\"]\n",
    "\n",
    "ax_instructions[\"set_xticks\"] = {\"ticks\": table[x_column].unique().astype(int), \"labels\": table[x_column].unique().astype(int)}\n",
    "ax_instructions[\"set_xlabel\"] = {\"xlabel\": x_label}\n",
    "ax_instructions[\"legend\"] = {\"loc\": \"upper right\"}\n",
    "\n",
    "plot_instructions[\"savefig\"] = {\"fname\": f'../out/img/{plot_name}.pdf'}\n",
    "\n",
    "label_convert_dict = {}\n",
    "\n",
    "create_plot(plot_instructions, data=table, label_columns=[\"model.rec_model.name\"], x_column=x_column, y_column=y_column,\n",
    "            ax_instructions = ax_instructions, label_convert_dict = label_convert_dict)"
   ]
  },
  {
   "cell_type": "code",
   "execution_count": null,
   "metadata": {
    "id": "8ykF94WgHFOi"
   },
   "outputs": [],
   "source": [
    "x_column = \"train_flops\"\n",
    "x_label = \"Training flops\"\n",
    "plot_name = super_plot_name+\"_flops_\"+subset_selection[\"data_params.name\"]\n",
    "\n",
    "ax_instructions.pop(\"set_xticks\",None)\n",
    "ax_instructions[\"set_xlabel\"] = {\"xlabel\": x_label}\n",
    "ax_instructions[\"legend\"] = {\"loc\": \"lower left\"}\n",
    "#ax_instructions[\"set_title\"] = {\"label\": super_title}\n",
    "\n",
    "plot_instructions[\"savefig\"] = {\"fname\": f'../out/img/{plot_name}.pdf'}\n",
    "\n",
    "label_convert_dict = {}\n",
    "\n",
    "create_plot(plot_instructions, data=table, label_columns=[\"model.rec_model.name\"], x_column=x_column, y_column=y_column,\n",
    "            ax_instructions = ax_instructions, label_convert_dict = label_convert_dict)\n"
   ]
  },
  {
   "cell_type": "code",
   "execution_count": null,
   "metadata": {
    "id": "tN04jpwOHFOi"
   },
   "outputs": [],
   "source": [
    "x_column = \"epoch\"\n",
    "x_label = \"Epoch\"\n",
    "y_column = \"val_NDCG_@10/dataloader_idx_1\"\n",
    "y_label = \"NDCG@10\"\n",
    "ax_instructions[\"set_xlabel\"] = {\"xlabel\": x_label}"
   ]
  },
  {
   "cell_type": "markdown",
   "metadata": {
    "id": "H0n_ISmxHFOi"
   },
   "source": [
    "##### SASRec"
   ]
  },
  {
   "cell_type": "code",
   "execution_count": null,
   "metadata": {
    "id": "L8K5SgyHHFOi"
   },
   "outputs": [],
   "source": [
    "subset_selection[\"model.rec_model.name\"] = \"SASRec\"\n",
    "epoch_table = subset_data(complete_data, subset_selection, subset_keep, merge_columns)\n",
    "epoch_table = subset_to_equal_pos_neg(epoch_table)\n",
    "\n",
    "sas_table = merge_epoch_data(metrics_per_epoch, epoch_table, rows_labels)\n",
    "sas_table = hotfix_table(sas_table, y_column) #HOTFIX\n",
    "sas_table"
   ]
  },
  {
   "cell_type": "code",
   "execution_count": null,
   "metadata": {
    "id": "qVdbsCOhHFOi"
   },
   "outputs": [],
   "source": [
    "subset_selection[\"model.rec_model.name\"] = \"GRU4Rec\"\n",
    "epoch_table = subset_data(complete_data, subset_selection, subset_keep, merge_columns)\n",
    "epoch_table = subset_to_equal_pos_neg(epoch_table)\n",
    "\n",
    "gru_table = merge_epoch_data(metrics_per_epoch, epoch_table, rows_labels)\n",
    "gru_table = hotfix_table(gru_table, y_column) #HOTFIX\n",
    "gru_table"
   ]
  },
  {
   "cell_type": "code",
   "execution_count": null,
   "metadata": {
    "id": "hn1qtZ06HFOj"
   },
   "outputs": [],
   "source": [
    "plot_name = \"epochs_\"+super_plot_name+\"_GRU_SAS_\"+subset_selection[\"data_params.name\"]\n",
    "\n",
    "#plot_instructions[\"subplots\"] = {\"nrows\": 3, \"ncols\": 2, \"figsize\": (12,12)}\n",
    "plot_instructions[\"savefig\"] = {\"fname\": f'../out/img/{plot_name}.pdf'}\n",
    "\n",
    "plot_kwargs = {\"markevery\": 0.1}\n",
    "\n",
    "ax_instructions.pop(\"set_xticks\",None)\n",
    "ax_instructions[\"legend\"] = {\"loc\": \"lower right\"}\n",
    "#ax_instructions[\"set_title\"] = {\"label\": super_title}\n",
    "\n",
    "label_convert_dict = {} #x:f\"{x} positive item(s)\" for x in [1,2,3,5,10,20,50,100]}\n",
    "\n",
    "repeated_ax_instructions = [ax_instructions.copy() for _ in range(6)]\n",
    "#repeated_ax_instructions[0][\"set_ylim\"] = {\"bottom\":0.525}\n",
    "repeated_ax_instructions[1][\"legend\"] = {\"loc\": \"upper left\"}\n",
    "\n",
    "repeated_ax_instructions[2][\"set_xlim\"] = {\"left\":0,\"right\":10}\n",
    "repeated_ax_instructions[2][\"set_ylim\"] = {\"bottom\":0.28,\"top\":0.65}\n",
    "repeated_ax_instructions[2].pop(\"set_xscale\",None)\n",
    "repeated_ax_instructions[3][\"set_xlim\"] = {\"left\":0,\"right\":10}\n",
    "repeated_ax_instructions[3][\"set_ylim\"] = {\"bottom\":0.17,\"top\":0.35}\n",
    "repeated_ax_instructions[3][\"legend\"] = {\"loc\": \"lower left\"}\n",
    "repeated_ax_instructions[3].pop(\"set_xscale\",None)\n",
    "\n",
    "\n",
    "repeated_ax_instructions[4][\"set_xlim\"] = {\"left\":100,\"right\":600}\n",
    "repeated_ax_instructions[4][\"set_ylim\"] = {\"bottom\":0.55,\"top\":0.7}\n",
    "repeated_ax_instructions[4].pop(\"set_xscale\",None)\n",
    "repeated_ax_instructions[4][\"legend\"] = {\"loc\": \"lower left\"}\n",
    "repeated_ax_instructions[5][\"set_xlim\"] = {\"left\":100,\"right\":600}\n",
    "repeated_ax_instructions[5][\"set_ylim\"] = {\"bottom\":0.35,\"top\":0.7}\n",
    "repeated_ax_instructions[5].pop(\"set_xscale\",None)\n",
    "repeated_ax_instructions[5][\"legend\"] = {\"loc\": \"lower left\"}\n",
    "\n",
    "\n",
    "repeated_plot_kwargs = [plot_kwargs.copy() for _ in range(6)]\n",
    "repeated_plot_kwargs[2][\"markevery\"] = repeated_plot_kwargs[3][\"markevery\"] = 1\n",
    "repeated_plot_kwargs[4][\"markevery\"] = repeated_plot_kwargs[5][\"markevery\"] = 100\n",
    "\n",
    "label_a = [\"(a)\",\"(b)\",\"(c)\",\"(d)\",\"(e)\",\"(f)\"]\n",
    "label_b = [\"GRU\",\"SAS\"]*3\n",
    "label_c = [\" - \"+x if x !=\"\" else x for x in [\"\",\"\",\"start\",\"start\",\"end\",\"end\"]]\n",
    "for i,(rep_ax_instr, rep_plot_kwargs) in enumerate(zip(repeated_ax_instructions,repeated_plot_kwargs)):\n",
    "    rep_plot_instr = deepcopy(plot_instructions.copy())\n",
    "    rep_plot_instr[\"savefig\"][\"fname\"] = plot_instructions[\"savefig\"][\"fname\"].split(\".pdf\")[0]+\"_\"+str(i)+\".pdf\"\n",
    "    rep_ax_instr[\"set_title\"] = {\"label\": f\"{label_a[i]} {label_b[i]}{label_c[i]}\"}\n",
    "    create_plot(rep_plot_instr, data=([gru_table,sas_table]*3)[i], label_columns=[main_x_column], x_column=x_column, y_column=y_column,\n",
    "            ax_instructions = rep_ax_instr, label_convert_dict = label_convert_dict, plot_type=\"plot\", plot_kwargs=rep_plot_kwargs)"
   ]
  },
  {
   "cell_type": "markdown",
   "metadata": {
    "id": "Ujb_O4lRHFOj"
   },
   "source": [
    "#### Foursquare TKY"
   ]
  },
  {
   "cell_type": "code",
   "execution_count": null,
   "metadata": {
    "id": "Ipnzr5hKHFOj"
   },
   "outputs": [],
   "source": [
    "subset_selection[\"data_params.name\"] = \"foursquare-tky\"\n",
    "subset_selection.pop(\"model.rec_model.name\",None)"
   ]
  },
  {
   "cell_type": "code",
   "execution_count": null,
   "metadata": {
    "id": "s3miTCLgHFOj"
   },
   "outputs": [],
   "source": [
    "table = generate_table(subset_data(complete_data, subset_selection, subset_keep, merge_columns), rows_labels, column_labels, exp_name = \"april_30\", save_table=True)\n",
    "table = subset_to_equal_pos_neg(table)\n",
    "table"
   ]
  },
  {
   "cell_type": "code",
   "execution_count": null,
   "metadata": {
    "id": "F0VTUisWHFOj"
   },
   "outputs": [],
   "source": [
    "y_column = \"NDCG_@10\"\n",
    "y_label = y_column.replace(\"_\", \"\")\n",
    "\n",
    "ax_instructions = {\"set_xscale\": {\"value\": \"log\"},\n",
    "                   \"set_ylabel\": {\"ylabel\": y_label},\n",
    "                   \"get_xaxis\": {\"__kwargs__\":{},\n",
    "                                 \"set_tick_params\": {\"which\":\"minor\", \"size\":0}},\n",
    "                   \"get_xaxis\": {\"__kwargs__\":{},\n",
    "                                 \"set_tick_params\": {\"which\":\"minor\", \"width\":0}},\n",
    "                   \"legend\": {},\n",
    "                   \"grid\":{}}\n",
    "\n",
    "plot_instructions = {\"subplots\": {\"nrows\": 1, \"ncols\": 1, \"figsize\": (6,4)},\n",
    "                    \"tight_layout\":{},\n",
    "                    \"savefig\": {\"fname\": \"plot.pdf\"},\n",
    "                    \"show\":{}}"
   ]
  },
  {
   "cell_type": "code",
   "execution_count": null,
   "metadata": {
    "id": "ICH7dhdzHFOj"
   },
   "outputs": [],
   "source": [
    "x_column = main_x_column\n",
    "x_label = main_x_label\n",
    "plot_name = super_plot_name+\"_\"+subset_selection[\"data_params.name\"]\n",
    "\n",
    "ax_instructions[\"set_xticks\"] = {\"ticks\": table[x_column].unique().astype(int), \"labels\": table[x_column].unique().astype(int)}\n",
    "ax_instructions[\"set_xlabel\"] = {\"xlabel\": x_label}\n",
    "ax_instructions[\"legend\"] = {\"loc\": \"upper right\"}\n",
    "\n",
    "plot_instructions[\"savefig\"] = {\"fname\": f'../out/img/{plot_name}.pdf'}\n",
    "\n",
    "label_convert_dict = {}\n",
    "\n",
    "create_plot(plot_instructions, data=table, label_columns=[\"model.rec_model.name\"], x_column=x_column, y_column=y_column,\n",
    "            ax_instructions = ax_instructions, label_convert_dict = label_convert_dict)"
   ]
  },
  {
   "cell_type": "code",
   "execution_count": null,
   "metadata": {
    "id": "c2TafYGtHFOk"
   },
   "outputs": [],
   "source": [
    "x_column = \"train_flops\"\n",
    "x_label = \"Training flops\"\n",
    "plot_name = super_plot_name+\"_flops_\"+subset_selection[\"data_params.name\"]\n",
    "\n",
    "ax_instructions.pop(\"set_xticks\",None)\n",
    "ax_instructions[\"set_xlabel\"] = {\"xlabel\": x_label}\n",
    "ax_instructions[\"legend\"] = {\"loc\": \"lower left\"}\n",
    "#ax_instructions[\"set_title\"] = {\"label\": super_title}\n",
    "\n",
    "plot_instructions[\"savefig\"] = {\"fname\": f'../out/img/{plot_name}.pdf'}\n",
    "\n",
    "label_convert_dict = {}\n",
    "\n",
    "create_plot(plot_instructions, data=table, label_columns=[\"model.rec_model.name\"], x_column=x_column, y_column=y_column,\n",
    "            ax_instructions = ax_instructions, label_convert_dict = label_convert_dict)\n"
   ]
  },
  {
   "cell_type": "code",
   "execution_count": null,
   "metadata": {
    "id": "_3xAvr83HFOk"
   },
   "outputs": [],
   "source": [
    "x_column = \"epoch\"\n",
    "x_label = \"Epoch\"\n",
    "y_column = \"val_NDCG_@10/dataloader_idx_1\"\n",
    "y_label = \"NDCG@10\"\n",
    "ax_instructions[\"set_xlabel\"] = {\"xlabel\": x_label}"
   ]
  },
  {
   "cell_type": "markdown",
   "metadata": {
    "id": "RXLpz7WvHFOk"
   },
   "source": [
    "##### SASRec"
   ]
  },
  {
   "cell_type": "code",
   "execution_count": null,
   "metadata": {
    "id": "0LiJ4y5XHFOk"
   },
   "outputs": [],
   "source": [
    "subset_selection[\"model.rec_model.name\"] = \"SASRec\"\n",
    "epoch_table = subset_data(complete_data, subset_selection, subset_keep, merge_columns)\n",
    "epoch_table = subset_to_equal_pos_neg(epoch_table)\n",
    "\n",
    "sas_table = merge_epoch_data(metrics_per_epoch, epoch_table, rows_labels)\n",
    "sas_table = hotfix_table(sas_table, y_column) #HOTFIX\n",
    "sas_table"
   ]
  },
  {
   "cell_type": "code",
   "execution_count": null,
   "metadata": {
    "id": "0_OpPFwoHFOk"
   },
   "outputs": [],
   "source": [
    "subset_selection[\"model.rec_model.name\"] = \"GRU4Rec\"\n",
    "epoch_table = subset_data(complete_data, subset_selection, subset_keep, merge_columns)\n",
    "epoch_table = subset_to_equal_pos_neg(epoch_table)\n",
    "\n",
    "gru_table = merge_epoch_data(metrics_per_epoch, epoch_table, rows_labels)\n",
    "gru_table = hotfix_table(gru_table, y_column) #HOTFIX\n",
    "gru_table"
   ]
  },
  {
   "cell_type": "code",
   "execution_count": null,
   "metadata": {
    "id": "wo78tJCYHFOl"
   },
   "outputs": [],
   "source": [
    "plot_name = \"epochs_\"+super_plot_name+\"_GRU_SAS_\"+subset_selection[\"data_params.name\"]\n",
    "\n",
    "#plot_instructions[\"subplots\"] = {\"nrows\": 3, \"ncols\": 2, \"figsize\": (12,12)}\n",
    "plot_instructions[\"savefig\"] = {\"fname\": f'../out/img/{plot_name}.pdf'}\n",
    "\n",
    "plot_kwargs = {\"markevery\": 0.1}\n",
    "\n",
    "ax_instructions.pop(\"set_xticks\",None)\n",
    "ax_instructions[\"legend\"] = {\"loc\": \"lower right\"}\n",
    "#ax_instructions[\"set_title\"] = {\"label\": super_title}\n",
    "\n",
    "label_convert_dict = {} #x:f\"{x} positive item(s)\" for x in [1,2,3,5,10,20,50,100]}\n",
    "\n",
    "repeated_ax_instructions = [ax_instructions.copy() for _ in range(6)]\n",
    "repeated_ax_instructions[0][\"set_ylim\"] = {\"bottom\":0.3}\n",
    "\n",
    "\n",
    "repeated_ax_instructions[2][\"set_xlim\"] = {\"left\":0,\"right\":10}\n",
    "repeated_ax_instructions[2][\"set_ylim\"] = {\"bottom\":0.2,\"top\":0.45}\n",
    "repeated_ax_instructions[2].pop(\"set_xscale\",None)\n",
    "repeated_ax_instructions[3][\"set_xlim\"] = {\"left\":0,\"right\":10}\n",
    "repeated_ax_instructions[3][\"set_ylim\"] = {\"bottom\":0.15,\"top\":0.33}\n",
    "repeated_ax_instructions[3].pop(\"set_xscale\",None)\n",
    "repeated_ax_instructions[3][\"legend\"] = {\"loc\": \"upper left\"}\n",
    "\n",
    "\n",
    "repeated_ax_instructions[4][\"set_xlim\"] = {\"left\":100,\"right\":600}\n",
    "repeated_ax_instructions[4][\"set_ylim\"] = {\"bottom\":0.61,\"top\":0.77}\n",
    "repeated_ax_instructions[4].pop(\"set_xscale\",None)\n",
    "repeated_ax_instructions[5][\"set_xlim\"] = {\"left\":100,\"right\":600}\n",
    "repeated_ax_instructions[5][\"set_ylim\"] = {\"bottom\":0.48,\"top\":0.8}\n",
    "repeated_ax_instructions[5].pop(\"set_xscale\",None)\n",
    "\n",
    "\n",
    "repeated_plot_kwargs = [plot_kwargs.copy() for _ in range(6)]\n",
    "repeated_plot_kwargs[2][\"markevery\"] = repeated_plot_kwargs[3][\"markevery\"] = 1\n",
    "repeated_plot_kwargs[4][\"markevery\"] = repeated_plot_kwargs[5][\"markevery\"] = 100\n",
    "\n",
    "label_a = [\"(a)\",\"(b)\",\"(c)\",\"(d)\",\"(e)\",\"(f)\"]\n",
    "label_b = [\"GRU\",\"SAS\"]*3\n",
    "label_c = [\" - \"+x if x !=\"\" else x for x in [\"\",\"\",\"start\",\"start\",\"end\",\"end\"]]\n",
    "for i,(rep_ax_instr, rep_plot_kwargs) in enumerate(zip(repeated_ax_instructions,repeated_plot_kwargs)):\n",
    "    rep_plot_instr = deepcopy(plot_instructions.copy())\n",
    "    rep_plot_instr[\"savefig\"][\"fname\"] = plot_instructions[\"savefig\"][\"fname\"].split(\".pdf\")[0]+\"_\"+str(i)+\".pdf\"\n",
    "    rep_ax_instr[\"set_title\"] = {\"label\": f\"{label_a[i]} {label_b[i]}{label_c[i]}\"}\n",
    "    create_plot(rep_plot_instr, data=([gru_table,sas_table]*3)[i], label_columns=[main_x_column], x_column=x_column, y_column=y_column,\n",
    "            ax_instructions = rep_ax_instr, label_convert_dict = label_convert_dict, plot_type=\"plot\", plot_kwargs=rep_plot_kwargs)"
   ]
  },
  {
   "cell_type": "markdown",
   "metadata": {
    "id": "7EtEwe5fHFOl"
   },
   "source": [
    "#### ML-1M"
   ]
  },
  {
   "cell_type": "code",
   "execution_count": null,
   "metadata": {
    "id": "bq83RHNAHFOl"
   },
   "outputs": [],
   "source": [
    "subset_selection[\"data_params.name\"] = \"ml-1m\"\n",
    "subset_selection.pop(\"model.rec_model.name\",None)"
   ]
  },
  {
   "cell_type": "code",
   "execution_count": null,
   "metadata": {
    "id": "W-cS52OCHFOl"
   },
   "outputs": [],
   "source": [
    "table = generate_table(subset_data(complete_data, subset_selection, subset_keep, merge_columns), rows_labels, column_labels, exp_name = \"april_30\", save_table=True)\n",
    "table = subset_to_equal_pos_neg(table)\n",
    "table"
   ]
  },
  {
   "cell_type": "code",
   "execution_count": null,
   "metadata": {
    "id": "F56Ula5iHFOl"
   },
   "outputs": [],
   "source": [
    "x_column = main_x_column\n",
    "x_label = main_x_label\n",
    "y_column = \"NDCG_@10\"\n",
    "y_label = y_column.replace(\"_\", \"\")\n",
    "\n",
    "ax_instructions = {\"set_xscale\": {\"value\": \"log\"},\n",
    "                   \"set_ylabel\": {\"ylabel\": y_label},\n",
    "                   \"get_xaxis\": {\"__kwargs__\":{},\n",
    "                                 \"set_tick_params\": {\"which\":\"minor\", \"size\":0}},\n",
    "                   \"get_xaxis\": {\"__kwargs__\":{},\n",
    "                                 \"set_tick_params\": {\"which\":\"minor\", \"width\":0}},\n",
    "                   \"legend\": {},\n",
    "                   \"grid\":{}}\n",
    "\n",
    "plot_instructions = {\"subplots\": {\"nrows\": 1, \"ncols\": 1, \"figsize\": (6,4)},\n",
    "                    \"tight_layout\":{},\n",
    "                    \"savefig\": {\"fname\": \"plot.pdf\"},\n",
    "                    \"show\":{}}"
   ]
  },
  {
   "cell_type": "code",
   "execution_count": null,
   "metadata": {
    "id": "RjHqbNcIHFOl"
   },
   "outputs": [],
   "source": [
    "plot_name = super_plot_name+\"_\"+subset_selection[\"data_params.name\"]\n",
    "\n",
    "ax_instructions[\"set_xticks\"] = {\"ticks\": table[x_column].unique().astype(int), \"labels\": table[x_column].unique().astype(int)}\n",
    "ax_instructions[\"set_xlabel\"] = {\"xlabel\": x_label}\n",
    "ax_instructions[\"legend\"] = {\"loc\": \"upper right\"}\n",
    "\n",
    "plot_instructions[\"savefig\"] = {\"fname\": f'../out/img/{plot_name}.pdf'}\n",
    "\n",
    "label_convert_dict = {}\n",
    "\n",
    "create_plot(plot_instructions, data=table, label_columns=[\"model.rec_model.name\"], x_column=x_column, y_column=y_column,\n",
    "            ax_instructions = ax_instructions, label_convert_dict = label_convert_dict)"
   ]
  },
  {
   "cell_type": "code",
   "execution_count": null,
   "metadata": {
    "id": "iBX6lcHsHFOm"
   },
   "outputs": [],
   "source": [
    "x_column = \"train_flops\"\n",
    "x_label = \"Training flops\"\n",
    "plot_name = super_plot_name+\"_flops_\"+subset_selection[\"data_params.name\"]\n",
    "\n",
    "ax_instructions.pop(\"set_xticks\",None)\n",
    "ax_instructions[\"set_xlabel\"] = {\"xlabel\": x_label}\n",
    "ax_instructions[\"legend\"] = {\"loc\": \"lower left\"}\n",
    "#ax_instructions[\"set_title\"] = {\"label\": super_title}\n",
    "\n",
    "plot_instructions[\"savefig\"] = {\"fname\": f'../out/img/{plot_name}.pdf'}\n",
    "\n",
    "label_convert_dict = {}\n",
    "\n",
    "create_plot(plot_instructions, data=table, label_columns=[\"model.rec_model.name\"], x_column=x_column, y_column=y_column,\n",
    "            ax_instructions = ax_instructions, label_convert_dict = label_convert_dict)\n"
   ]
  },
  {
   "cell_type": "code",
   "execution_count": null,
   "metadata": {
    "id": "lv-Jqby1HFOm"
   },
   "outputs": [],
   "source": [
    "x_column = \"epoch\"\n",
    "x_label = \"Epoch\"\n",
    "y_column = \"val_NDCG_@10/dataloader_idx_1\"\n",
    "y_label = \"NDCG@10\"\n",
    "ax_instructions[\"set_xlabel\"] = {\"xlabel\": x_label}"
   ]
  },
  {
   "cell_type": "markdown",
   "metadata": {
    "id": "nDT3A5M8HFOm"
   },
   "source": [
    "##### SASRec"
   ]
  },
  {
   "cell_type": "code",
   "execution_count": null,
   "metadata": {
    "id": "_X9th8VaHFOm"
   },
   "outputs": [],
   "source": [
    "subset_selection[\"model.rec_model.name\"] = \"SASRec\"\n",
    "epoch_table = subset_data(complete_data, subset_selection, subset_keep, merge_columns)\n",
    "epoch_table = subset_to_equal_pos_neg(epoch_table)\n",
    "\n",
    "sas_table = merge_epoch_data(metrics_per_epoch, epoch_table, rows_labels)\n",
    "sas_table = hotfix_table(sas_table, y_column) #HOTFIX\n",
    "sas_table"
   ]
  },
  {
   "cell_type": "code",
   "execution_count": null,
   "metadata": {
    "id": "iCQLX2KLHFOm"
   },
   "outputs": [],
   "source": [
    "subset_selection[\"model.rec_model.name\"] = \"GRU4Rec\"\n",
    "epoch_table = subset_data(complete_data, subset_selection, subset_keep, merge_columns)\n",
    "epoch_table = subset_to_equal_pos_neg(epoch_table)\n",
    "\n",
    "gru_table = merge_epoch_data(metrics_per_epoch, epoch_table, rows_labels)\n",
    "gru_table = hotfix_table(gru_table, y_column) #HOTFIX\n",
    "gru_table"
   ]
  },
  {
   "cell_type": "code",
   "execution_count": null,
   "metadata": {
    "id": "YM24JjRKHFOm"
   },
   "outputs": [],
   "source": [
    "plot_name = \"epochs_\"+super_plot_name+\"_GRU_SAS_\"+subset_selection[\"data_params.name\"]\n",
    "\n",
    "#plot_instructions[\"subplots\"] = {\"nrows\": 3, \"ncols\": 2, \"figsize\": (12,12)}\n",
    "plot_instructions[\"savefig\"] = {\"fname\": f'../out/img/{plot_name}.pdf'}\n",
    "\n",
    "plot_kwargs = {\"markevery\": 0.1}\n",
    "\n",
    "ax_instructions.pop(\"set_xticks\",None)\n",
    "ax_instructions[\"legend\"] = {\"loc\": \"upper left\"}\n",
    "#ax_instructions[\"set_title\"] = {\"label\": super_title}\n",
    "\n",
    "label_convert_dict = {} #x:f\"{x} positive item(s)\" for x in [1,2,3,5,10,20,50,100]}\n",
    "\n",
    "repeated_ax_instructions = [ax_instructions.copy() for _ in range(6)]\n",
    "repeated_ax_instructions[2][\"set_xlim\"] = {\"left\":0,\"right\":10}\n",
    "repeated_ax_instructions[2][\"set_ylim\"] = {\"bottom\":0.2,\"top\":0.42}\n",
    "repeated_ax_instructions[2].pop(\"set_xscale\",None)\n",
    "repeated_ax_instructions[3][\"set_xlim\"] = {\"left\":0,\"right\":10}\n",
    "repeated_ax_instructions[3][\"set_ylim\"] = {\"bottom\":0.05,\"top\":0.25}\n",
    "repeated_ax_instructions[3].pop(\"set_xscale\",None)\n",
    "\n",
    "\n",
    "repeated_ax_instructions[4][\"set_xlim\"] = {\"left\":100,\"right\":600}\n",
    "repeated_ax_instructions[4][\"set_ylim\"] = {\"bottom\":0.2,\"top\":0.57}\n",
    "repeated_ax_instructions[4].pop(\"set_xscale\",None)\n",
    "repeated_ax_instructions[4][\"legend\"] = {\"loc\":\"lower right\"}\n",
    "repeated_ax_instructions[5][\"set_xlim\"] = {\"left\":100,\"right\":600}\n",
    "repeated_ax_instructions[5][\"set_ylim\"] = {\"bottom\":0.05,\"top\":0.6}\n",
    "repeated_ax_instructions[5].pop(\"set_xscale\",None)\n",
    "repeated_ax_instructions[5][\"legend\"] = {\"loc\":\"lower right\"}\n",
    "\n",
    "\n",
    "repeated_plot_kwargs = [plot_kwargs.copy() for _ in range(6)]\n",
    "repeated_plot_kwargs[2][\"markevery\"] = repeated_plot_kwargs[3][\"markevery\"] = 1\n",
    "repeated_plot_kwargs[4][\"markevery\"] = repeated_plot_kwargs[5][\"markevery\"] = 100\n",
    "\n",
    "label_a = [\"(a)\",\"(b)\",\"(c)\",\"(d)\",\"(e)\",\"(f)\"]\n",
    "label_b = [\"GRU\",\"SAS\"]*3\n",
    "label_c = [\" - \"+x if x !=\"\" else x for x in [\"\",\"\",\"start\",\"start\",\"end\",\"end\"]]\n",
    "for i,(rep_ax_instr, rep_plot_kwargs) in enumerate(zip(repeated_ax_instructions,repeated_plot_kwargs)):\n",
    "    rep_plot_instr = deepcopy(plot_instructions.copy())\n",
    "    rep_plot_instr[\"savefig\"][\"fname\"] = plot_instructions[\"savefig\"][\"fname\"].split(\".pdf\")[0]+\"_\"+str(i)+\".pdf\"\n",
    "    rep_ax_instr[\"set_title\"] = {\"label\": f\"{label_a[i]} {label_b[i]}{label_c[i]}\"}\n",
    "    create_plot(rep_plot_instr, data=([gru_table,sas_table]*3)[i], label_columns=[main_x_column], x_column=x_column, y_column=y_column,\n",
    "            ax_instructions = rep_ax_instr, label_convert_dict = label_convert_dict, plot_type=\"plot\", plot_kwargs=rep_plot_kwargs)"
   ]
  },
  {
   "cell_type": "code",
   "execution_count": null,
   "metadata": {
    "id": "iYuT8O3sHFOn"
   },
   "outputs": [],
   "source": []
  }
 ],
 "metadata": {
  "colab": {
   "provenance": []
  },
  "kernelspec": {
   "display_name": "rec_svd",
   "language": "python",
   "name": "python3"
  },
  "language_info": {
   "codemirror_mode": {
    "name": "ipython",
    "version": 3
   },
   "file_extension": ".py",
   "mimetype": "text/x-python",
   "name": "python",
   "nbconvert_exporter": "python",
   "pygments_lexer": "ipython3",
   "version": "3.12.3"
  }
 },
 "nbformat": 4,
 "nbformat_minor": 0
}
