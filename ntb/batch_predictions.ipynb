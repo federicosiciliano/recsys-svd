{
 "cells": [
  {
   "cell_type": "markdown",
   "metadata": {},
   "source": [
    "# Preparation stuff"
   ]
  },
  {
   "cell_type": "markdown",
   "metadata": {},
   "source": [
    "## Connect to Drive"
   ]
  },
  {
   "cell_type": "code",
   "execution_count": 23,
   "metadata": {},
   "outputs": [],
   "source": [
    "connect_to_drive = False"
   ]
  },
  {
   "cell_type": "code",
   "execution_count": 24,
   "metadata": {},
   "outputs": [],
   "source": [
    "#Run command and authorize by popup --> other window\n",
    "if connect_to_drive:\n",
    "    from google.colab import drive\n",
    "    drive.mount('/content/gdrive', force_remount=True)"
   ]
  },
  {
   "cell_type": "markdown",
   "metadata": {},
   "source": [
    "## Install packages"
   ]
  },
  {
   "cell_type": "code",
   "execution_count": 25,
   "metadata": {},
   "outputs": [],
   "source": [
    "if connect_to_drive:\n",
    "    #Install FS code\n",
    "    #!pip install  --upgrade --no-deps --force-reinstall git+https://github.com/federicosiciliano/easy_lightning.git@fedsic\n",
    "    !pip install  --upgrade --no-deps --force-reinstall git+https://github.com/PokeResearchLab/easy_lightning.git\n",
    "\n",
    "    !pip install pytorch_lightning"
   ]
  },
  {
   "cell_type": "markdown",
   "metadata": {},
   "source": [
    "## IMPORTS"
   ]
  },
  {
   "cell_type": "code",
   "execution_count": 26,
   "metadata": {},
   "outputs": [],
   "source": [
    "#Put all imports here\n",
    "import numpy as np\n",
    "import matplotlib.pyplot as plt\n",
    "#from copy import deepcopy\n",
    "#import pickle\n",
    "import os\n",
    "import sys\n",
    "#import cv2\n",
    "import torch\n",
    "import csv\n",
    "from copy import deepcopy"
   ]
  },
  {
   "cell_type": "markdown",
   "metadata": {},
   "source": [
    "## Define paths"
   ]
  },
  {
   "cell_type": "code",
   "execution_count": 27,
   "metadata": {},
   "outputs": [],
   "source": [
    "#every path should start from the project folder:\n",
    "project_folder = \"../\"\n",
    "if connect_to_drive:\n",
    "    project_folder = \"/content/gdrive/Shareddrives/<SharedDriveName>\" #Name of SharedDrive folder\n",
    "    #project_folder = \"/content/gdrive/MyDrive/<MyDriveName>\" #Name of MyDrive folder\n",
    "\n",
    "#Config folder should contain hyperparameters configurations\n",
    "cfg_folder = os.path.join(project_folder,\"cfg\")\n",
    "\n",
    "#Data folder should contain raw and preprocessed data\n",
    "data_folder = os.path.join(project_folder,\"data\")\n",
    "raw_data_folder = os.path.join(data_folder,\"raw\")\n",
    "processed_data_folder = os.path.join(data_folder,\"processed\")\n",
    "\n",
    "#Source folder should contain all the (essential) source code\n",
    "source_folder = os.path.join(project_folder,\"src\")\n",
    "\n",
    "#The out folder should contain all outputs: models, results, plots, etc.\n",
    "out_folder = os.path.join(project_folder,\"out\")\n",
    "img_folder = os.path.join(out_folder,\"img\")"
   ]
  },
  {
   "cell_type": "markdown",
   "metadata": {},
   "source": [
    "## Import own code"
   ]
  },
  {
   "cell_type": "code",
   "execution_count": 28,
   "metadata": {},
   "outputs": [],
   "source": [
    "#To import from src:\n",
    "\n",
    "#attach the source folder to the start of sys.path\n",
    "sys.path.insert(0, project_folder)\n",
    "os.environ['PYTHONPATH'] = project_folder #for raytune workers\n",
    "\n",
    "#import from src directory\n",
    "from src.module import *\n",
    "\n",
    "import easy_exp, easy_rec, easy_torch #easy_data"
   ]
  },
  {
   "cell_type": "markdown",
   "metadata": {},
   "source": [
    "# MAIN"
   ]
  },
  {
   "cell_type": "markdown",
   "metadata": {},
   "source": [
    "## Train"
   ]
  },
  {
   "cell_type": "markdown",
   "metadata": {},
   "source": [
    "### Data"
   ]
  },
  {
   "cell_type": "code",
   "execution_count": 29,
   "metadata": {},
   "outputs": [],
   "source": [
    "cfg = easy_exp.cfg.load_configuration(\"config_rec\")"
   ]
  },
  {
   "cell_type": "code",
   "execution_count": 30,
   "metadata": {},
   "outputs": [],
   "source": [
    "exp_id = 'Cxjc96JKlpQDLgf1'\n",
    "exp_json_path = os.path.join(out_folder,\"exp\",cfg[\"__exp__\"][\"name\"],f\"{exp_id}.json\")\n",
    "# load json\n",
    "with open(exp_json_path, \"r\") as f:\n",
    "    exp_cfg = json.load(f)"
   ]
  },
  {
   "cell_type": "code",
   "execution_count": 31,
   "metadata": {},
   "outputs": [],
   "source": [
    "# merge the two configurations\n",
    "cfg = easy_exp.cfg.merge_dicts(cfg, exp_cfg, preference=1, merge_lists=True)"
   ]
  },
  {
   "cell_type": "code",
   "execution_count": 32,
   "metadata": {},
   "outputs": [
    {
     "data": {
      "text/plain": [
       "0"
      ]
     },
     "execution_count": 32,
     "metadata": {},
     "output_type": "execute_result"
    }
   ],
   "source": [
    "cfg[\"model.trainer_params\"][\"logger\"][\"params\"].pop(\"version\")"
   ]
  },
  {
   "cell_type": "code",
   "execution_count": 33,
   "metadata": {},
   "outputs": [],
   "source": [
    "# def check_dict_diff(d1,d2):\n",
    "#     for k,v in d1.items():\n",
    "#         if k in d2 and d2[k]!=v:\n",
    "#             if isinstance(v,dict):\n",
    "#                 check_dict_diff(v,d2[k])\n",
    "#             else:\n",
    "#                 print(f\"Diff in {k}: {cfg[k]} vs {v}\")\n",
    "#             #cfg[k] = v"
   ]
  },
  {
   "cell_type": "code",
   "execution_count": 34,
   "metadata": {},
   "outputs": [],
   "source": [
    "#---> for _ in cfg.sweep(\"data_params.name\"):\n",
    "#---> for _ in cfg.sweep(\"model.rec_model.emb_size\"):"
   ]
  },
  {
   "cell_type": "code",
   "execution_count": 35,
   "metadata": {},
   "outputs": [
    {
     "name": "stdout",
     "output_type": "stream",
     "text": [
      "Experiment already found: True ----> The experiment id is: Cxjc96JKlpQDLgf1\n"
     ]
    }
   ],
   "source": [
    "exp_found, experiment_id = easy_exp.exp.get_set_experiment_id(cfg)\n",
    "print(\"Experiment already found:\", exp_found, \"----> The experiment id is:\", experiment_id)\n",
    "\n",
    "if not exp_found: raise Exception(\"Experiment not found\")\n",
    "if experiment_id != exp_id: raise Exception(\"Experiment id mismatch\")\n",
    "\n",
    "# if exp_found and if_exp_found == \"skip\":\n",
    "#     #print(\"Skipping experiment\")\n",
    "#     return\n",
    "\n",
    "# Save experiment (done here cause Early stopping with Tune schedulers may not run anything after training)\n",
    "# easy_exp.exp.save_experiment(cfg)"
   ]
  },
  {
   "cell_type": "code",
   "execution_count": 36,
   "metadata": {},
   "outputs": [
    {
     "name": "stdout",
     "output_type": "stream",
     "text": [
      "Ratings data already exists. Skip pre-processing\n",
      "Filtering by minimum number of users per item: 10\n",
      "Filtering by minimum number of items per user: 10\n",
      "Densifying index\n",
      "Splitting: leave_n_out\n"
     ]
    }
   ],
   "source": [
    "data, maps = easy_rec.preparation.prepare_rec_data(cfg)"
   ]
  },
  {
   "cell_type": "code",
   "execution_count": 37,
   "metadata": {},
   "outputs": [],
   "source": [
    "loaders = easy_rec.preparation.prepare_rec_dataloaders(cfg, data, maps)"
   ]
  },
  {
   "cell_type": "code",
   "execution_count": 38,
   "metadata": {},
   "outputs": [
    {
     "name": "stderr",
     "output_type": "stream",
     "text": [
      "Seed set to 42\n",
      "/home/caldia/recsys-svd/rec_svd/lib/python3.12/site-packages/torch/nn/modules/transformer.py:379: UserWarning: enable_nested_tensor is True, but self.use_nested_tensor is False because encoder_layer.norm_first was True\n",
      "  warnings.warn(\n"
     ]
    }
   ],
   "source": [
    "main_module = easy_rec.preparation.prepare_rec_model(cfg, maps)"
   ]
  },
  {
   "cell_type": "markdown",
   "metadata": {},
   "source": [
    "### Decomposition"
   ]
  },
  {
   "cell_type": "code",
   "execution_count": 39,
   "metadata": {},
   "outputs": [
    {
     "name": "stdout",
     "output_type": "stream",
     "text": [
      "SVD Warning: unused kwargs dict_keys(['svd_params', 'cutoff', 'freeze_emb', 'invert_order', 'u', 'knee'])\n",
      "Embedding Warning: unused kwargs dict_keys(['method', 'svd_params', 'use_diag', 'u', 's', 'v'])\n",
      "NO CUTOFF\n"
     ]
    }
   ],
   "source": [
    "prepare_embeddings_based_on_init(cfg, main_module, processed_data_folder)"
   ]
  },
  {
   "cell_type": "code",
   "execution_count": 40,
   "metadata": {},
   "outputs": [
    {
     "name": "stderr",
     "output_type": "stream",
     "text": [
      "Seed set to 42\n",
      "Seed set to 42\n",
      "Seed set to 42\n",
      "GPU available: True (cuda), used: True\n",
      "TPU available: False, using: 0 TPU cores\n",
      "HPU available: False, using: 0 HPUs\n",
      "Seed set to 42\n",
      "Seed set to 42\n",
      "Seed set to 42\n",
      "Seed set to 42\n",
      "Seed set to 42\n",
      "Seed set to 42\n",
      "Seed set to 42\n",
      "Seed set to 42\n",
      "Seed set to 42\n",
      "Seed set to 42\n",
      "Seed set to 42\n",
      "Seed set to 42\n",
      "Seed set to 42\n",
      "Seed set to 42\n",
      "Seed set to 42\n",
      "Seed set to 42\n",
      "Seed set to 42\n",
      "Seed set to 42\n",
      "Seed set to 42\n",
      "Seed set to 42\n",
      "Seed set to 42\n",
      "Seed set to 42\n",
      "Seed set to 42\n",
      "Seed set to 42\n",
      "Seed set to 42\n",
      "Seed set to 42\n",
      "Seed set to 42\n"
     ]
    }
   ],
   "source": [
    "trainer = easy_torch.preparation.complete_prepare_trainer(cfg, experiment_id, additional_module=easy_rec)#, raytune=raytune)\n",
    "\n",
    "metrics_list = cfg[\"model\"][\"metrics\"].copy()\n",
    "cfg[\"model\"][\"metrics\"] = {}\n",
    "for metric_name in metrics_list:\n",
    "    cfg[\"model\"][\"metrics\"][metric_name] = {'batch_metric' : True}\n",
    "del cfg[\"model\"][\"metrics\"][\"MAP\"]\n",
    "del cfg[\"model\"][\"metrics\"][\"F1\"]\n",
    "\n",
    "model, model_params = easy_torch.preparation.complete_prepare_model(cfg, main_module, additional_module=easy_rec, return_model_params=True)"
   ]
  },
  {
   "cell_type": "code",
   "execution_count": 41,
   "metadata": {},
   "outputs": [],
   "source": [
    "model_path = os.path.join(out_folder, \"models\", cfg[\"__exp__\"][\"name\"], experiment_id, \"last.ckpt\")\n",
    "model = easy_torch.process.load_model(cfg[\"model\"], model_path, main_module=main_module, map_location=torch.device('cuda'))\n",
    "model.custom_log = lambda x, y: None\n",
    "model.optimizer = model_params[\"optimizer\"]\n",
    "model.loss = model_params[\"loss\"]\n",
    "model.metrics = model_params[\"metrics\"]"
   ]
  },
  {
   "cell_type": "code",
   "execution_count": 42,
   "metadata": {},
   "outputs": [
    {
     "name": "stderr",
     "output_type": "stream",
     "text": [
      "Seed set to 42\n",
      "LOCAL_RANK: 0 - CUDA_VISIBLE_DEVICES: [0,1]\n"
     ]
    },
    {
     "data": {
      "application/vnd.jupyter.widget-view+json": {
       "model_id": "6879b7289d04479db639e40f24cd7c2a",
       "version_major": 2,
       "version_minor": 0
      },
      "text/plain": [
       "Testing: |          | 0/? [00:00<?, ?it/s]"
      ]
     },
     "metadata": {},
     "output_type": "display_data"
    },
    {
     "data": {
      "text/html": [
       "<pre style=\"white-space:pre;overflow-x:auto;line-height:normal;font-family:Menlo,'DejaVu Sans Mono',consolas,'Courier New',monospace\">┏━━━━━━━━━━━━━━━━━━━━━━━━━━━┳━━━━━━━━━━━━━━━━━━━━━━━━━━━┓\n",
       "┃<span style=\"font-weight: bold\">        Test metric        </span>┃<span style=\"font-weight: bold\">       DataLoader 0        </span>┃\n",
       "┡━━━━━━━━━━━━━━━━━━━━━━━━━━━╇━━━━━━━━━━━━━━━━━━━━━━━━━━━┩\n",
       "│<span style=\"color: #008080; text-decoration-color: #008080\">         test_loss         </span>│<span style=\"color: #800080; text-decoration-color: #800080\">    0.3519110679626465     </span>│\n",
       "└───────────────────────────┴───────────────────────────┘\n",
       "</pre>\n"
      ],
      "text/plain": [
       "┏━━━━━━━━━━━━━━━━━━━━━━━━━━━┳━━━━━━━━━━━━━━━━━━━━━━━━━━━┓\n",
       "┃\u001b[1m \u001b[0m\u001b[1m       Test metric       \u001b[0m\u001b[1m \u001b[0m┃\u001b[1m \u001b[0m\u001b[1m      DataLoader 0       \u001b[0m\u001b[1m \u001b[0m┃\n",
       "┡━━━━━━━━━━━━━━━━━━━━━━━━━━━╇━━━━━━━━━━━━━━━━━━━━━━━━━━━┩\n",
       "│\u001b[36m \u001b[0m\u001b[36m        test_loss        \u001b[0m\u001b[36m \u001b[0m│\u001b[35m \u001b[0m\u001b[35m   0.3519110679626465    \u001b[0m\u001b[35m \u001b[0m│\n",
       "└───────────────────────────┴───────────────────────────┘\n"
      ]
     },
     "metadata": {},
     "output_type": "display_data"
    }
   ],
   "source": [
    "easy_torch.process.test_model(trainer, model, loaders)"
   ]
  },
  {
   "cell_type": "code",
   "execution_count": null,
   "metadata": {},
   "outputs": [],
   "source": []
  }
 ],
 "metadata": {
  "kernelspec": {
   "display_name": "rec_svd",
   "language": "python",
   "name": "python3"
  },
  "language_info": {
   "codemirror_mode": {
    "name": "ipython",
    "version": 3
   },
   "file_extension": ".py",
   "mimetype": "text/x-python",
   "name": "python",
   "nbconvert_exporter": "python",
   "pygments_lexer": "ipython3",
   "version": "3.12.3"
  }
 },
 "nbformat": 4,
 "nbformat_minor": 2
}
