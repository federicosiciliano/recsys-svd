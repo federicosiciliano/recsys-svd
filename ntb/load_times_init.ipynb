{
 "cells": [
  {
   "cell_type": "code",
   "execution_count": 1,
   "metadata": {},
   "outputs": [],
   "source": [
    "import os\n",
    "import json\n",
    "import numpy as np"
   ]
  },
  {
   "cell_type": "code",
   "execution_count": 2,
   "metadata": {},
   "outputs": [],
   "source": [
    "init_folder = \"../data/processed/init-time\"\n",
    "exp_folder = \"../out/exp/init-time\""
   ]
  },
  {
   "cell_type": "code",
   "execution_count": 3,
   "metadata": {},
   "outputs": [],
   "source": [
    "times_per_id = {}\n",
    "config_per_id = {}\n",
    "for filename in os.listdir(init_folder):\n",
    "    app = np.load(os.path.join(init_folder, filename))\n",
    "    app_id = filename.split(\".\")[0]\n",
    "    times_per_id[app_id] = app[\"time\"]\n",
    "\n",
    "    exp_json_file = os.path.join(exp_folder, app_id + \".json\")\n",
    "    with open(exp_json_file) as f:\n",
    "        exp = json.load(f)\n",
    "    config_per_id[app_id] = (exp[\"data_params\"][\"name\"],exp[\"init\"][\"method\"])\n"
   ]
  },
  {
   "cell_type": "code",
   "execution_count": 4,
   "metadata": {},
   "outputs": [
    {
     "data": {
      "text/plain": [
       "{'weNGHnCe42EN7unY': ('behance', 'svd'),\n",
       " 'tiTSsMOgBVj2eo1i': ('bookcrossing', 'leporid'),\n",
       " 'wdeHppwzh4z5pxLh': ('ml-1m', 'svd'),\n",
       " 'ftvW51DGWfMRKSuo': ('bookcrossing', 'svd'),\n",
       " '5QFe0WTlMahHCchy': ('behance', 'leporid'),\n",
       " 'lbB8yIGSayLAXGDy': ('ml-1m', 'leporid')}"
      ]
     },
     "execution_count": 4,
     "metadata": {},
     "output_type": "execute_result"
    }
   ],
   "source": [
    "config_per_id"
   ]
  },
  {
   "cell_type": "code",
   "execution_count": 5,
   "metadata": {},
   "outputs": [
    {
     "name": "stdout",
     "output_type": "stream",
     "text": [
      "weNGHnCe42EN7unY ('behance', 'svd') 250.35534000396729\n",
      "tiTSsMOgBVj2eo1i ('bookcrossing', 'leporid') 1771.0551025867462\n",
      "wdeHppwzh4z5pxLh ('ml-1m', 'svd') 25.113851308822632\n",
      "ftvW51DGWfMRKSuo ('bookcrossing', 'svd') 159.76127243041992\n",
      "5QFe0WTlMahHCchy ('behance', 'leporid') 1869.041799545288\n",
      "lbB8yIGSayLAXGDy ('ml-1m', 'leporid') 22.787022590637207\n"
     ]
    }
   ],
   "source": [
    "for exp_id in times_per_id:\n",
    "    print(exp_id, config_per_id[exp_id], times_per_id[exp_id])"
   ]
  },
  {
   "cell_type": "code",
   "execution_count": null,
   "metadata": {},
   "outputs": [],
   "source": [
    "# load the experiment configs"
   ]
  },
  {
   "cell_type": "code",
   "execution_count": 6,
   "metadata": {},
   "outputs": [
    {
     "data": {
      "text/plain": [
       "{'weNGHnCe42EN7unY': array(250.35534),\n",
       " 'tiTSsMOgBVj2eo1i': array(1771.05510259),\n",
       " 'wdeHppwzh4z5pxLh': array(25.11385131),\n",
       " 'ftvW51DGWfMRKSuo': array(159.76127243),\n",
       " '5QFe0WTlMahHCchy': array(1869.04179955),\n",
       " 'lbB8yIGSayLAXGDy': array(22.78702259)}"
      ]
     },
     "execution_count": 6,
     "metadata": {},
     "output_type": "execute_result"
    }
   ],
   "source": [
    "times_per_id"
   ]
  },
  {
   "cell_type": "code",
   "execution_count": null,
   "metadata": {},
   "outputs": [],
   "source": []
  }
 ],
 "metadata": {
  "kernelspec": {
   "display_name": "rec_svd",
   "language": "python",
   "name": "python3"
  },
  "language_info": {
   "codemirror_mode": {
    "name": "ipython",
    "version": 3
   },
   "file_extension": ".py",
   "mimetype": "text/x-python",
   "name": "python",
   "nbconvert_exporter": "python",
   "pygments_lexer": "ipython3",
   "version": "3.12.3"
  }
 },
 "nbformat": 4,
 "nbformat_minor": 2
}
