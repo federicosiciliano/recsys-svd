{
 "cells": [
  {
   "cell_type": "markdown",
   "metadata": {},
   "source": [
    "# Preparation"
   ]
  },
  {
   "cell_type": "markdown",
   "metadata": {},
   "source": [
    "### Imports"
   ]
  },
  {
   "cell_type": "code",
   "execution_count": 163,
   "metadata": {},
   "outputs": [],
   "source": [
    "import matplotlib.pyplot as plt\n",
    "import numpy as np\n",
    "import pandas as pd\n",
    "import json\n",
    "import os\n",
    "from matplotlib.ticker import FormatStrFormatter\n",
    "import itertools as it\n",
    "from copy import deepcopy"
   ]
  },
  {
   "cell_type": "markdown",
   "metadata": {},
   "source": [
    "### Exp"
   ]
  },
  {
   "cell_type": "code",
   "execution_count": 164,
   "metadata": {},
   "outputs": [],
   "source": [
    "def flatten_dict(d, parent_key='', sep='.'):\n",
    "    items = []\n",
    "    for k, v in d.items():\n",
    "        new_key = parent_key + sep + k if parent_key else k\n",
    "        if isinstance(v, dict):\n",
    "            items.extend(flatten_dict(v, new_key, sep=sep).items())\n",
    "        else:\n",
    "            items.append((new_key, v))\n",
    "    return dict(items)\n",
    "\n",
    "def read_json(file_path):\n",
    "    with open(file_path, 'r') as json_file:\n",
    "        data = json.load(json_file)\n",
    "    return data"
   ]
  },
  {
   "cell_type": "code",
   "execution_count": null,
   "metadata": {},
   "outputs": [],
   "source": [
    "def load_all_configurations(exp_name:str='3_giu', folder_name:str= '../out/exp/'):\n",
    "    experiments = {}\n",
    "    for single_config in os.listdir(os.path.join(os.getcwd(),folder_name,exp_name)):\n",
    "        exp_id = single_config.replace('.json', '')\n",
    "        data = read_json(os.path.join(os.getcwd(),folder_name,exp_name,single_config))\n",
    "        experiments[exp_id] = flatten_dict(data)\n",
    "    return pd.DataFrame.from_dict(dict(sorted(experiments.items())), \"index\") #sorted is not actually needed"
   ]
  },
  {
   "cell_type": "code",
   "execution_count": 165,
   "metadata": {},
   "outputs": [],
   "source": [
    "def load_all_configurations_pruning(exp_name:str='3_giu', folder_name:str= '../out/exp/'):\n",
    "    experiments = {}\n",
    "    for single_config in os.listdir(os.path.join(os.getcwd(),folder_name,exp_name)):\n",
    "        if single_config == 'WawGcW33HROmuUH1.json':\n",
    "            exp_id = single_config.replace('.json', '')\n",
    "            data = read_json(os.path.join(os.getcwd(),folder_name,exp_name,single_config))\n",
    "            experiments[exp_id] = flatten_dict(data)\n",
    "    return pd.DataFrame.from_dict(dict(sorted(experiments.items())), \"index\") #sorted is not actually needed"
   ]
  },
  {
   "cell_type": "code",
   "execution_count": null,
   "metadata": {},
   "outputs": [],
   "source": [
    "def load_metrics(exp_name:str='3_giu', folder_name:str= '../out/log/'):\n",
    "    results = {}\n",
    "    exp_log_folder = os.path.join(os.getcwd(),folder_name,exp_name)\n",
    "    for exp_id in os.listdir(exp_log_folder):\n",
    "        metrics_filepath = os.path.join(exp_log_folder,exp_id,'lightning_logs/version_0/metrics.csv')\n",
    "        data = pd.read_csv(metrics_filepath)\n",
    "        results[exp_id] = data\n",
    "    return dict(sorted(results.items()))"
   ]
  },
  {
   "cell_type": "code",
   "execution_count": 166,
   "metadata": {},
   "outputs": [],
   "source": [
    "######## load metrics for the pruning experiment\n",
    "\n",
    "def load_metrics_pruning(exp_name:str='3_giu', folder_name:str= '../out/log/'):\n",
    "    results = {}\n",
    "    exp_log_folder = os.path.join(os.getcwd(),folder_name,exp_name)\n",
    "    for exp_id in os.listdir(exp_log_folder):\n",
    "        if exp_id == 'WawGcW33HROmuUH1':\n",
    "            metrics_filepath = os.path.join(exp_log_folder,exp_id,'lightning_logs/version_3/metrics.csv')\n",
    "            data = pd.read_csv(metrics_filepath)\n",
    "            results[exp_id] = data\n",
    "    return dict(sorted(results.items()))"
   ]
  },
  {
   "cell_type": "code",
   "execution_count": 167,
   "metadata": {},
   "outputs": [],
   "source": [
    "def get_metrics_given_best_val(metrics_per_epoch, metrics_names, metrics_prefix = \"test\", metrics_dataloader_idx=1, val_prefix = \"test\", val_metric=\"NDCG@10\", val_dataloader_idx=0, fix_rec_at_k=False):\n",
    "    if fix_rec_at_k:\n",
    "        val_metric =val_metric.replace('@','_@')\n",
    "        metrics_names = [metric.replace('@','_@') for metric in metrics_names]\n",
    "    val_key = f\"{val_prefix}_{val_metric}\"\n",
    "   \n",
    "    metric_keys = [f\"{metrics_prefix}_{metric}\" for metric in metrics_names]\n",
    "    \n",
    "    best_metrics = {}\n",
    "    for exp_id, metrics in metrics_per_epoch.items():\n",
    "        if exp_id == 'WawGcW33HROmuUH1':\n",
    "\n",
    "            best_val_row = 0\n",
    "            best_metrics[exp_id] = {metric_name: metrics[metric_key][best_val_row] for metric_name, metric_key in zip(metrics_names,metric_keys)}\n",
    "    return pd.DataFrame.from_dict(dict(sorted(best_metrics.items())), \"index\") #sorted is not actually needed"
   ]
  },
  {
   "cell_type": "code",
   "execution_count": 168,
   "metadata": {},
   "outputs": [],
   "source": [
    "def hotfix_table(table, col, value=0.5):\n",
    "    for exp_id in table.index.get_level_values(0).unique():\n",
    "        exp_loc = table.index.get_level_values(0) == exp_id\n",
    "        vals = table.loc[exp_loc][col][1:-1].values\n",
    "        mean_vals = (table.loc[exp_loc][col][:-2].values+table.loc[exp_loc][col][2:].values)/2\n",
    "        over_threshold = np.abs(vals-mean_vals)>value\n",
    "        sel_app = exp_loc\n",
    "        app = np.concatenate((np.array([False]),over_threshold,np.array([False])))\n",
    "        sel_app[sel_app] = app\n",
    "        table.loc[sel_app,col] = mean_vals[over_threshold]\n",
    "    return table"
   ]
  },
  {
   "cell_type": "code",
   "execution_count": 169,
   "metadata": {},
   "outputs": [],
   "source": [
    "columns_for_diffs = ['duration', 'emissions', 'emissions_rate', 'cpu_power', 'gpu_power',\n",
    "                    'ram_power', 'cpu_energy', 'gpu_energy', 'ram_energy',\n",
    "                    'energy_consumed']\n",
    "columns_that_are_same = ['project_name', 'run_id', 'country_name',\n",
    "    'country_iso_code', 'region', 'cloud_provider', 'cloud_region', 'os',\n",
    "    'python_version', 'codecarbon_version', 'cpu_count', 'cpu_model',\n",
    "    'gpu_count', 'gpu_model', 'longitude', 'latitude', 'ram_total_size',\n",
    "    'tracking_mode', 'on_cloud', 'pue']\n",
    "columns_that_are_different = ['timestamp']\n",
    "\n",
    "def load_emissions(exp_name:str='3_giu', folder_name:str= '../out/log/'):\n",
    "    emissions = {}\n",
    "    exp_log_folder = os.path.join(os.getcwd(),folder_name,exp_name)\n",
    "    for exp_id in os.listdir(exp_log_folder):\n",
    "        if exp_id == 'WawGcW33HROmuUH1':\n",
    "            emissions_filepath = os.path.join(exp_log_folder,exp_id,'emissions.csv')\n",
    "            if not os.path.exists(emissions_filepath): continue\n",
    "            data = pd.read_csv(emissions_filepath)\n",
    "    \n",
    "            new_data = {}\n",
    "            for column in columns_for_diffs:\n",
    "                #TODO: generalize to more splits / rows of emissions\n",
    "                new_data[f\"train_{column}\"] = data.iloc[0][column]\n",
    "                new_data[f\"test_{column}\"] = data.iloc[1][column] - data.iloc[0][column]\n",
    "            for column in columns_that_are_same:\n",
    "                new_data[f\"{column}\"] = data.iloc[0][column]\n",
    "            for column in columns_that_are_different:\n",
    "                new_data[f\"train_{column}\"] = data.iloc[0][column]\n",
    "                new_data[f\"test_{column}\"] = data.iloc[1][column]\n",
    "            emissions[exp_id] = new_data\n",
    "\n",
    "    return pd.DataFrame.from_dict(dict(sorted(emissions.items())), \"index\") #sorted is not actually needed"
   ]
  },
  {
   "cell_type": "code",
   "execution_count": 170,
   "metadata": {},
   "outputs": [],
   "source": [
    "modifiers = {\"\":1, \"K\":1e3, \"M\":1e6, \"G\":1e9, \"T\":1e12, \"P\":1e15}\n",
    "strings_to_search = {\"num_params\":\"params per GPU:\",\n",
    "                     \"flops\": \"fwd flops per GPU:\",\n",
    "                     \"latency\": \"fwd latency:\",\n",
    "                     \"FLOPS\": \"fwd FLOPS per GPU = fwd flops per GPU / fwd latency:\"}\n",
    "\n",
    "def extract_flops_info(complete_string, string_to_search):\n",
    "    if string_to_search in complete_string:\n",
    "        value = complete_string.split(string_to_search)[1].split(\"\\n\")[0].strip()\n",
    "    else: value = \"nan\"\n",
    "    measure = \"\"\n",
    "    if \" \" in value: value, measure = value.split(\" \")\n",
    "    scale = measure[0] if len(measure)>0 else \"\"\n",
    "    if scale not in modifiers:\n",
    "        scale = \"\"\n",
    "        measure = \" \" + measure\n",
    "    unit = \"\" if len(measure)==1 else measure[1:]\n",
    "    return float(value)*modifiers[scale], unit\n",
    "\n",
    "def load_flops(exp_name:str='3_giu', folder_name:str= '../out/log/', split_keys = [\"train\", \"test\"]):\n",
    "    flops = {}\n",
    "    exp_log_folder = os.path.join(os.getcwd(),folder_name,exp_name)\n",
    "    for exp_id in os.listdir(exp_log_folder):\n",
    "        new_data = {}\n",
    "        for split_key in split_keys:\n",
    "            flops_filepath = os.path.join(exp_log_folder,exp_id,f'{split_key}_flops.txt')\n",
    "            if not os.path.exists(flops_filepath): continue\n",
    "            #load flops_filepath txt\n",
    "            with open(flops_filepath, 'r') as file:\n",
    "                data = file.read()\n",
    "            \n",
    "            for measure_name,string_to_search in strings_to_search.items():\n",
    "                value, unit = extract_flops_info(data, string_to_search)\n",
    "                measure_key = f\"{split_key}_{measure_name}\"\n",
    "                #if unit != \"\": measure_key += f\" ({unit})\"\n",
    "                new_data[measure_key] = value\n",
    "            \n",
    "        flops[exp_id] = new_data\n",
    "\n",
    "    return pd.DataFrame.from_dict(dict(sorted(flops.items())), \"index\") #sorted is not actually needed"
   ]
  },
  {
   "cell_type": "code",
   "execution_count": 171,
   "metadata": {},
   "outputs": [],
   "source": [
    "## Add emissions and flops info to metrics_per_epoch\n",
    "def add_info_single_df(df, exp_data, subset_col, split_name, column_labels):\n",
    "    if subset_col not in df.columns:\n",
    "        split_subset = np.zeros(len(df), dtype=bool)\n",
    "        split_subset[-1] = True\n",
    "    else:\n",
    "        split_subset = ~df[subset_col].isna()\n",
    "    num_split = sum(split_subset)\n",
    "    for label in column_labels:\n",
    "        split_label = f\"{split_name}_{label}\"\n",
    "        df.loc[split_subset,split_label] = np.linspace(exp_data[split_label]/num_split,exp_data[split_label],num_split)\n",
    "    \n",
    "\n",
    "def add_info_to_metrics_per_epoch(metrics_per_epoch, complete_data, column_labels, split_names = [\"train\", \"test\"], repeat_for = [\"val_loss/dataloader_idx_0\",None]):\n",
    "    for exp_id,df in metrics_per_epoch.items():\n",
    "        for split_name,repeat_col in zip(split_names,repeat_for):\n",
    "            add_info_single_df(df, complete_data.loc[exp_id], f\"{split_name}_loss\", split_name, column_labels)\n",
    "            if repeat_col is not None:\n",
    "                add_info_single_df(df, complete_data.loc[exp_id], repeat_col, split_name, column_labels)\n",
    "        metrics_per_epoch[exp_id] = df"
   ]
  },
  {
   "cell_type": "markdown",
   "metadata": {},
   "source": [
    "### Table utils"
   ]
  },
  {
   "cell_type": "code",
   "execution_count": 172,
   "metadata": {},
   "outputs": [],
   "source": [
    "def subset_data(complete_data, subset_selection={}, subset_keep=[], merge_columns={}):\n",
    "    subset_data = complete_data\n",
    "    for label, value in subset_selection.items():\n",
    "        subset_data = subset_data[subset_data[label] == value]\n",
    "\n",
    "    for condition1, condition2 in subset_keep:\n",
    "        for label, value in condition1.items():\n",
    "            subset_data2 = subset_data[subset_data[label] == value]\n",
    "        indices = subset_data2.index\n",
    "        for label, value in condition2.items():\n",
    "            subset_data2 = subset_data2[subset_data2[label] == value]\n",
    "        indices2 = subset_data2.index\n",
    "        #remove for subset_data idx not in indices2\n",
    "        indices_to_remove = [idx for idx in indices if idx not in indices2]\n",
    "        subset_data = subset_data.drop(indices_to_remove)\n",
    "        \n",
    "    for col_name, cols in merge_columns.items():\n",
    "        subset_data[col_name] = subset_data.loc[:,cols].apply(lambda row: '_'.join([str(x) for x in row if pd.notnull(x)]), axis=1)\n",
    "        subset_data = subset_data.drop(columns=cols)\n",
    "    \n",
    "    return subset_data\n",
    "\n",
    "def generate_table(subset_data,\n",
    "                   label_convert_dict,\n",
    "                   rows_labels, column_labels,\n",
    "                   pivot_agg = lambda x: x,\n",
    "                   table_name=\"results\", save_table=False, round_at=4,\n",
    "                   exp_name:str='3_giu', folder_name:str= '../out/results/',):\n",
    "\n",
    "    subset_data = subset_data[rows_labels + column_labels]\n",
    "\n",
    "    table = pd.pivot_table(subset_data, index=rows_labels, values=column_labels, dropna=False, aggfunc=pivot_agg)\n",
    "\n",
    "    # Drop if all column_labels are nans\n",
    "    drop_row = table[column_labels].isnull().all(axis=1)\n",
    "    table = table[~drop_row]\n",
    "\n",
    "    table.reset_index(inplace=True)\n",
    "\n",
    "    table = table.round(round_at)\n",
    "\n",
    "    table['svd_type'] = table['svd_type'].map(label_convert_dict)\n",
    "\n",
    "    if save_table:\n",
    "        results_path = os.path.join(folder_name,exp_name)\n",
    "        if not os.path.exists(results_path):\n",
    "            os.makedirs(results_path)\n",
    "        table.to_csv(os.path.join(results_path,f'{table_name}.csv'), index=False)\n",
    "    return table"
   ]
  },
  {
   "cell_type": "markdown",
   "metadata": {},
   "source": [
    "### Plot utils"
   ]
  },
  {
   "cell_type": "code",
   "execution_count": 173,
   "metadata": {},
   "outputs": [],
   "source": [
    "def to_color_blind(color):\n",
    "    if color == 'red':\n",
    "        return '#e41a1c'\n",
    "    elif color == 'blue':\n",
    "        return '#377eb8'\n",
    "    elif color == 'orange':\n",
    "        return '#ff7f00'\n",
    "    elif color == 'green':\n",
    "        return '#4daf4a'\n",
    "    elif color == 'brown':\n",
    "        return '#a65628'\n",
    "    elif color == 'grey':\n",
    "        return '#999999'\n",
    "    elif color == 'yellow':\n",
    "        return '#dede00'\n",
    "    elif color == 'pink':\n",
    "        return '#f781bf'\n",
    "    elif color == 'purple':\n",
    "        return '#984ea3'\n",
    "    else:\n",
    "        raise NotImplementedError(\"color not available\")\n",
    "\n",
    "def obtain_markers(number_of_markers):\n",
    "    list_of_markers = ['o', 'v', 's', 'p', 'P', '*', 'X', '+', 'D', 'x']\n",
    "    return list_of_markers[:number_of_markers]\n",
    "\n",
    "def obtain_color(number_of_colors):\n",
    "    all = ['#e41a1c', '#377eb8','#ff7f00','#4daf4a','#a65628',\n",
    "        '#999999','#dede00','#f781bf','#984ea3']\n",
    "    return all[:number_of_colors]"
   ]
  },
  {
   "cell_type": "code",
   "execution_count": 174,
   "metadata": {},
   "outputs": [],
   "source": [
    "def create_plot(plot_instructions,\n",
    "                **kwargs):\n",
    "    final_fig, final_ax = plt.subplots(**plot_instructions[\"subplots\"])\n",
    "    \n",
    "    # If final_ax is iterable\n",
    "    if hasattr(final_ax, '__iter__'):\n",
    "        for i,ax in enumerate(final_ax.flatten()):\n",
    "            single_plot(ax, **{k:v[i] if isinstance(v, list) or isinstance(v, tuple) else v for k,v in kwargs.items()})\n",
    "    else:\n",
    "        single_plot(final_ax, **kwargs)\n",
    "\n",
    "    for plt_func, plt_kwargs in plot_instructions.items():\n",
    "        if plt_func != \"subplots\":\n",
    "            run_plot_func(plt, plt_func, plt_kwargs)\n",
    "\n",
    "def single_plot(ax,\n",
    "                data,\n",
    "                label_columns: list,\n",
    "                x_column: str,\n",
    "                y_column: str,\n",
    "                plot_type = \"plot\",\n",
    "                plot_kwargs = {},\n",
    "                ax_instructions: dict = {},\n",
    "                label_convert_dict: dict = {}):\n",
    "    labels = []\n",
    "    for col in label_columns:\n",
    "        labels.append(data[col].unique())\n",
    "    labels = list(it.product(*labels))\n",
    "    plot_labels = [x[0] if len(x) == 1 else x for x in labels]\n",
    "    plot_labels = [label_convert_dict.get(x, x) for x in plot_labels]\n",
    "    labels = [x[1] for x in sorted(zip(plot_labels,labels))]\n",
    "    plot_labels = sorted(plot_labels)\n",
    "\n",
    "    colors = obtain_color(len(labels))\n",
    "    markers = obtain_markers(len(labels))\n",
    "        \n",
    "    for i, values in enumerate(labels):\n",
    "        subset_data = data\n",
    "        for col, value in zip(label_columns, values):\n",
    "            subset_data = subset_data[subset_data[col] == value]\n",
    "        \n",
    "        x_values = subset_data[x_column]\n",
    "        y_values = subset_data[y_column]\n",
    "        getattr(ax,plot_type)(x_values, y_values, label=plot_labels[i], color=colors[i], marker=markers[i], **plot_kwargs)\n",
    "    \n",
    "    for ax_func, ax_kwargs in ax_instructions.items():\n",
    "        run_plot_func(ax, ax_func, ax_kwargs.copy())\n",
    "\n",
    "def run_plot_func(obj, func, kwargs):\n",
    "    other_func_instructions = None\n",
    "    if \"__kwargs__\" in kwargs:\n",
    "        func_kwargs = kwargs.pop(\"__kwargs__\")\n",
    "        kwargs, other_func_instructions = func_kwargs, kwargs\n",
    "    \n",
    "    app = getattr(obj, func)(**kwargs)\n",
    "    if other_func_instructions is not None:\n",
    "        for func, kwargs in other_func_instructions.items():\n",
    "            run_plot_func(app, func, kwargs)\n",
    "    \n",
    "    # for index, (model, data) in enumerate(results.items()):\n",
    "    #     ablation_values = list(data.keys())\n",
    "    #     y_values = list(data.values())\n",
    "    #     plt.plot(ablation_values, y_values, label=model, color=colors[index], marker=markers[index])\n",
    "    # \n",
    "    # plt.xticks(ablation_values, ablation_values)\n",
    "    # plt.xlabel(names_to_labels[ablation_type])\n",
    "    # plt.ylabel(metric)\n",
    "    # plt.title(names_to_labels[dataset_name])\n",
    "    # plt.legend()\n",
    "    # plt.show()"
   ]
  },
  {
   "cell_type": "code",
   "execution_count": 175,
   "metadata": {},
   "outputs": [],
   "source": [
    "def merge_epoch_data(metrics_per_epoch, table, table_columns = [], epoch_column_not_na = \"test_loss\"):\n",
    "    subset_metrics = {}\n",
    "    for exp_id in table.index:\n",
    "        subset_metrics[exp_id] = metrics_per_epoch[exp_id]\n",
    "    \n",
    "        subset_metrics[exp_id] = subset_metrics[exp_id].loc[~subset_metrics[exp_id][epoch_column_not_na].isna()]\n",
    "        \n",
    "        for col in table_columns:\n",
    "            subset_metrics[exp_id].loc[:,col] = table.loc[exp_id,col]\n",
    "    \n",
    "    #concat all dataframes by row\n",
    "    subset_metrics = pd.concat(subset_metrics)\n",
    "    \n",
    "    return subset_metrics"
   ]
  },
  {
   "cell_type": "markdown",
   "metadata": {},
   "source": [
    "### Important vars"
   ]
  },
  {
   "cell_type": "code",
   "execution_count": 176,
   "metadata": {},
   "outputs": [],
   "source": [
    "names_to_labels = {'ml-1m' : 'MovieLens 1M', 'ml-100k' : 'MovieLens 100k', 'amazon_beauty' : 'Amazon Beauty', 'foursquare-tky' : 'Foursquare TKY', 'foursquare-nyc' : 'Foursquare NYC',\n",
    "                   'emb_size' : 'Embedding Size', 'lookback' : 'Input sequence length', 'carbon_emissions' : r'CO\\textsubscript{2}-eq', 'model_size' : 'Model Size',\n",
    "                   'ml-20m': 'MovieLens 20M'}"
   ]
  },
  {
   "cell_type": "code",
   "execution_count": 177,
   "metadata": {},
   "outputs": [],
   "source": [
    "all_datasets = sorted(['ml-1m', 'ml-100k', 'amazon_beauty', 'foursquare-tky', 'foursquare-nyc'])\n",
    "all_models= sorted(['SASRec','NARM', 'GRU4Rec', 'BERT4Rec', 'CORE'])\n",
    "metrics_names = [\"Precision\", \"Recall\", \"NDCG\", \"MAP\"]\n",
    "metrics_ks = [5, 10, 20]\n",
    "all_metrics_names = [f\"{metric}@{k}\" for metric in metrics_names for k in metrics_ks]"
   ]
  },
  {
   "cell_type": "markdown",
   "metadata": {},
   "source": [
    "# MAIN"
   ]
  },
  {
   "cell_type": "markdown",
   "metadata": {},
   "source": [
    "## Load all experiments"
   ]
  },
  {
   "cell_type": "markdown",
   "metadata": {},
   "source": [
    "### Exp configs"
   ]
  },
  {
   "cell_type": "code",
   "execution_count": 178,
   "metadata": {},
   "outputs": [],
   "source": [
    "exp_name = \"3_giu\""
   ]
  },
  {
   "cell_type": "code",
   "execution_count": 179,
   "metadata": {},
   "outputs": [],
   "source": [
    "all_exps = load_all_configurations_pruning(exp_name)"
   ]
  },
  {
   "cell_type": "code",
   "execution_count": 180,
   "metadata": {},
   "outputs": [
    {
     "data": {
      "text/html": [
       "<div>\n",
       "<style scoped>\n",
       "    .dataframe tbody tr th:only-of-type {\n",
       "        vertical-align: middle;\n",
       "    }\n",
       "\n",
       "    .dataframe tbody tr th {\n",
       "        vertical-align: top;\n",
       "    }\n",
       "\n",
       "    .dataframe thead th {\n",
       "        text-align: right;\n",
       "    }\n",
       "</style>\n",
       "<table border=\"1\" class=\"dataframe\">\n",
       "  <thead>\n",
       "    <tr style=\"text-align: right;\">\n",
       "      <th></th>\n",
       "      <th>data_params.collator_params.lookback</th>\n",
       "      <th>data_params.collator_params.lookforward</th>\n",
       "      <th>data_params.collator_params.num_items</th>\n",
       "      <th>data_params.collator_params.num_negatives.test</th>\n",
       "      <th>data_params.collator_params.num_negatives.train</th>\n",
       "      <th>data_params.collator_params.num_negatives.val</th>\n",
       "      <th>data_params.collator_params.out_seq_len.test</th>\n",
       "      <th>data_params.collator_params.out_seq_len.train</th>\n",
       "      <th>data_params.collator_params.out_seq_len.val</th>\n",
       "      <th>data_params.collator_params.padding_value</th>\n",
       "      <th>...</th>\n",
       "      <th>model.rec_model.emb_size</th>\n",
       "      <th>model.rec_model.lookback</th>\n",
       "      <th>model.rec_model.name</th>\n",
       "      <th>model.rec_model.num_blocks</th>\n",
       "      <th>model.rec_model.num_heads</th>\n",
       "      <th>model.rec_model.num_items</th>\n",
       "      <th>model.rec_model.num_users</th>\n",
       "      <th>model.trainer_params.callbacks</th>\n",
       "      <th>model.trainer_params.max_epochs</th>\n",
       "      <th>model.useSVD</th>\n",
       "    </tr>\n",
       "  </thead>\n",
       "  <tbody>\n",
       "    <tr>\n",
       "      <th>WawGcW33HROmuUH1</th>\n",
       "      <td>200</td>\n",
       "      <td>1</td>\n",
       "      <td>3416</td>\n",
       "      <td>100</td>\n",
       "      <td>1</td>\n",
       "      <td>1</td>\n",
       "      <td>1</td>\n",
       "      <td>None</td>\n",
       "      <td>1</td>\n",
       "      <td>0</td>\n",
       "      <td>...</td>\n",
       "      <td>128</td>\n",
       "      <td>200</td>\n",
       "      <td>SASRec</td>\n",
       "      <td>1</td>\n",
       "      <td>1</td>\n",
       "      <td>3416</td>\n",
       "      <td>6040</td>\n",
       "      <td>[{'ModelCheckpoint': {'mode': 'min', 'monitor'...</td>\n",
       "      <td>600</td>\n",
       "      <td>True</td>\n",
       "    </tr>\n",
       "  </tbody>\n",
       "</table>\n",
       "<p>1 rows × 42 columns</p>\n",
       "</div>"
      ],
      "text/plain": [
       "                  data_params.collator_params.lookback  \\\n",
       "WawGcW33HROmuUH1                                   200   \n",
       "\n",
       "                  data_params.collator_params.lookforward  \\\n",
       "WawGcW33HROmuUH1                                        1   \n",
       "\n",
       "                  data_params.collator_params.num_items  \\\n",
       "WawGcW33HROmuUH1                                   3416   \n",
       "\n",
       "                  data_params.collator_params.num_negatives.test  \\\n",
       "WawGcW33HROmuUH1                                             100   \n",
       "\n",
       "                  data_params.collator_params.num_negatives.train  \\\n",
       "WawGcW33HROmuUH1                                                1   \n",
       "\n",
       "                  data_params.collator_params.num_negatives.val  \\\n",
       "WawGcW33HROmuUH1                                              1   \n",
       "\n",
       "                  data_params.collator_params.out_seq_len.test  \\\n",
       "WawGcW33HROmuUH1                                             1   \n",
       "\n",
       "                 data_params.collator_params.out_seq_len.train  \\\n",
       "WawGcW33HROmuUH1                                          None   \n",
       "\n",
       "                  data_params.collator_params.out_seq_len.val  \\\n",
       "WawGcW33HROmuUH1                                            1   \n",
       "\n",
       "                  data_params.collator_params.padding_value  ...  \\\n",
       "WawGcW33HROmuUH1                                          0  ...   \n",
       "\n",
       "                 model.rec_model.emb_size  model.rec_model.lookback  \\\n",
       "WawGcW33HROmuUH1                      128                       200   \n",
       "\n",
       "                 model.rec_model.name model.rec_model.num_blocks  \\\n",
       "WawGcW33HROmuUH1               SASRec                          1   \n",
       "\n",
       "                 model.rec_model.num_heads  model.rec_model.num_items  \\\n",
       "WawGcW33HROmuUH1                         1                       3416   \n",
       "\n",
       "                  model.rec_model.num_users  \\\n",
       "WawGcW33HROmuUH1                       6040   \n",
       "\n",
       "                                     model.trainer_params.callbacks  \\\n",
       "WawGcW33HROmuUH1  [{'ModelCheckpoint': {'mode': 'min', 'monitor'...   \n",
       "\n",
       "                  model.trainer_params.max_epochs model.useSVD  \n",
       "WawGcW33HROmuUH1                              600         True  \n",
       "\n",
       "[1 rows x 42 columns]"
      ]
     },
     "execution_count": 180,
     "metadata": {},
     "output_type": "execute_result"
    }
   ],
   "source": [
    "all_exps"
   ]
  },
  {
   "cell_type": "markdown",
   "metadata": {},
   "source": [
    "### Load exp metrics"
   ]
  },
  {
   "cell_type": "code",
   "execution_count": 181,
   "metadata": {},
   "outputs": [
    {
     "data": {
      "text/plain": [
       "{'WawGcW33HROmuUH1':    epoch  step  test_F1_@10  test_F1_@20  test_F1_@5  test_MAP_@10  \\\n",
       " 0      0     0      0.09666     0.067764    0.126043      0.076558   \n",
       " \n",
       "    test_MAP_@20  test_MAP_@5  test_MRR_@10  test_MRR_@20  ...  test_NDCG_@10  \\\n",
       " 0      0.059033     0.093642      0.228742      0.240963  ...       0.297911   \n",
       " \n",
       "    test_NDCG_@20  test_NDCG_@5  test_Precision_@10  test_Precision_@20  \\\n",
       " 0       0.342671      0.246232             0.05245            0.035099   \n",
       " \n",
       "    test_Precision_@5  test_Recall_@10  test_Recall_@20  test_Recall_@5  \\\n",
       " 0           0.072914         0.524503         0.701987         0.36457   \n",
       " \n",
       "    test_loss  \n",
       " 0   0.597348  \n",
       " \n",
       " [1 rows x 21 columns]}"
      ]
     },
     "execution_count": 181,
     "metadata": {},
     "output_type": "execute_result"
    }
   ],
   "source": [
    "########## load metrics for pruning\n",
    "metrics_per_epoch = load_metrics_pruning(exp_name)\n",
    "metrics_per_epoch"
   ]
  },
  {
   "cell_type": "code",
   "execution_count": 182,
   "metadata": {},
   "outputs": [
    {
     "data": {
      "text/html": [
       "<div>\n",
       "<style scoped>\n",
       "    .dataframe tbody tr th:only-of-type {\n",
       "        vertical-align: middle;\n",
       "    }\n",
       "\n",
       "    .dataframe tbody tr th {\n",
       "        vertical-align: top;\n",
       "    }\n",
       "\n",
       "    .dataframe thead th {\n",
       "        text-align: right;\n",
       "    }\n",
       "</style>\n",
       "<table border=\"1\" class=\"dataframe\">\n",
       "  <thead>\n",
       "    <tr style=\"text-align: right;\">\n",
       "      <th></th>\n",
       "      <th>Precision_@5</th>\n",
       "      <th>Precision_@10</th>\n",
       "      <th>Precision_@20</th>\n",
       "      <th>Recall_@5</th>\n",
       "      <th>Recall_@10</th>\n",
       "      <th>Recall_@20</th>\n",
       "      <th>NDCG_@5</th>\n",
       "      <th>NDCG_@10</th>\n",
       "      <th>NDCG_@20</th>\n",
       "      <th>MAP_@5</th>\n",
       "      <th>MAP_@10</th>\n",
       "      <th>MAP_@20</th>\n",
       "    </tr>\n",
       "  </thead>\n",
       "  <tbody>\n",
       "    <tr>\n",
       "      <th>WawGcW33HROmuUH1</th>\n",
       "      <td>0.072914</td>\n",
       "      <td>0.05245</td>\n",
       "      <td>0.035099</td>\n",
       "      <td>0.36457</td>\n",
       "      <td>0.524503</td>\n",
       "      <td>0.701987</td>\n",
       "      <td>0.246232</td>\n",
       "      <td>0.297911</td>\n",
       "      <td>0.342671</td>\n",
       "      <td>0.093642</td>\n",
       "      <td>0.076558</td>\n",
       "      <td>0.059033</td>\n",
       "    </tr>\n",
       "  </tbody>\n",
       "</table>\n",
       "</div>"
      ],
      "text/plain": [
       "                  Precision_@5  Precision_@10  Precision_@20  Recall_@5  \\\n",
       "WawGcW33HROmuUH1      0.072914        0.05245       0.035099    0.36457   \n",
       "\n",
       "                  Recall_@10  Recall_@20   NDCG_@5  NDCG_@10  NDCG_@20  \\\n",
       "WawGcW33HROmuUH1    0.524503    0.701987  0.246232  0.297911  0.342671   \n",
       "\n",
       "                    MAP_@5   MAP_@10   MAP_@20  \n",
       "WawGcW33HROmuUH1  0.093642  0.076558  0.059033  "
      ]
     },
     "execution_count": 182,
     "metadata": {},
     "output_type": "execute_result"
    }
   ],
   "source": [
    "best_metrics = get_metrics_given_best_val(metrics_per_epoch, all_metrics_names, fix_rec_at_k=True)\n",
    "best_metrics"
   ]
  },
  {
   "cell_type": "code",
   "execution_count": 183,
   "metadata": {},
   "outputs": [
    {
     "data": {
      "text/html": [
       "<div>\n",
       "<style scoped>\n",
       "    .dataframe tbody tr th:only-of-type {\n",
       "        vertical-align: middle;\n",
       "    }\n",
       "\n",
       "    .dataframe tbody tr th {\n",
       "        vertical-align: top;\n",
       "    }\n",
       "\n",
       "    .dataframe thead th {\n",
       "        text-align: right;\n",
       "    }\n",
       "</style>\n",
       "<table border=\"1\" class=\"dataframe\">\n",
       "  <thead>\n",
       "    <tr style=\"text-align: right;\">\n",
       "      <th></th>\n",
       "      <th>train_duration</th>\n",
       "      <th>test_duration</th>\n",
       "      <th>train_emissions</th>\n",
       "      <th>test_emissions</th>\n",
       "      <th>train_emissions_rate</th>\n",
       "      <th>test_emissions_rate</th>\n",
       "      <th>train_cpu_power</th>\n",
       "      <th>test_cpu_power</th>\n",
       "      <th>train_gpu_power</th>\n",
       "      <th>test_gpu_power</th>\n",
       "      <th>...</th>\n",
       "      <th>gpu_count</th>\n",
       "      <th>gpu_model</th>\n",
       "      <th>longitude</th>\n",
       "      <th>latitude</th>\n",
       "      <th>ram_total_size</th>\n",
       "      <th>tracking_mode</th>\n",
       "      <th>on_cloud</th>\n",
       "      <th>pue</th>\n",
       "      <th>train_timestamp</th>\n",
       "      <th>test_timestamp</th>\n",
       "    </tr>\n",
       "  </thead>\n",
       "  <tbody>\n",
       "    <tr>\n",
       "      <th>WawGcW33HROmuUH1</th>\n",
       "      <td>2157.993973</td>\n",
       "      <td>1.161582</td>\n",
       "      <td>0.081368</td>\n",
       "      <td>0.00003</td>\n",
       "      <td>0.000038</td>\n",
       "      <td>-6.296820e-09</td>\n",
       "      <td>95.0</td>\n",
       "      <td>0.0</td>\n",
       "      <td>224.789394</td>\n",
       "      <td>-45.451318</td>\n",
       "      <td>...</td>\n",
       "      <td>3.0</td>\n",
       "      <td>3 x NVIDIA RTX A4000</td>\n",
       "      <td>8.5588</td>\n",
       "      <td>40.7243</td>\n",
       "      <td>62.646286</td>\n",
       "      <td>process</td>\n",
       "      <td>N</td>\n",
       "      <td>1.0</td>\n",
       "      <td>2024-06-03T21:10:58</td>\n",
       "      <td>2024-06-03T21:11:00</td>\n",
       "    </tr>\n",
       "  </tbody>\n",
       "</table>\n",
       "<p>1 rows × 42 columns</p>\n",
       "</div>"
      ],
      "text/plain": [
       "                  train_duration  test_duration  train_emissions  \\\n",
       "WawGcW33HROmuUH1     2157.993973       1.161582         0.081368   \n",
       "\n",
       "                  test_emissions  train_emissions_rate  test_emissions_rate  \\\n",
       "WawGcW33HROmuUH1         0.00003              0.000038        -6.296820e-09   \n",
       "\n",
       "                  train_cpu_power  test_cpu_power  train_gpu_power  \\\n",
       "WawGcW33HROmuUH1             95.0             0.0       224.789394   \n",
       "\n",
       "                  test_gpu_power  ...  gpu_count             gpu_model  \\\n",
       "WawGcW33HROmuUH1      -45.451318  ...        3.0  3 x NVIDIA RTX A4000   \n",
       "\n",
       "                  longitude  latitude  ram_total_size  tracking_mode  \\\n",
       "WawGcW33HROmuUH1     8.5588   40.7243       62.646286        process   \n",
       "\n",
       "                  on_cloud  pue      train_timestamp       test_timestamp  \n",
       "WawGcW33HROmuUH1         N  1.0  2024-06-03T21:10:58  2024-06-03T21:11:00  \n",
       "\n",
       "[1 rows x 42 columns]"
      ]
     },
     "execution_count": 183,
     "metadata": {},
     "output_type": "execute_result"
    }
   ],
   "source": [
    "emissions = load_emissions(exp_name)\n",
    "emissions"
   ]
  },
  {
   "cell_type": "code",
   "execution_count": null,
   "metadata": {},
   "outputs": [],
   "source": [
    "# all_flops = load_flops(exp_name)\n",
    "# all_flops"
   ]
  },
  {
   "cell_type": "code",
   "execution_count": 184,
   "metadata": {},
   "outputs": [
    {
     "data": {
      "text/html": [
       "<div>\n",
       "<style scoped>\n",
       "    .dataframe tbody tr th:only-of-type {\n",
       "        vertical-align: middle;\n",
       "    }\n",
       "\n",
       "    .dataframe tbody tr th {\n",
       "        vertical-align: top;\n",
       "    }\n",
       "\n",
       "    .dataframe thead th {\n",
       "        text-align: right;\n",
       "    }\n",
       "</style>\n",
       "<table border=\"1\" class=\"dataframe\">\n",
       "  <thead>\n",
       "    <tr style=\"text-align: right;\">\n",
       "      <th></th>\n",
       "      <th>data_params.collator_params.lookback</th>\n",
       "      <th>data_params.collator_params.lookforward</th>\n",
       "      <th>data_params.collator_params.num_items</th>\n",
       "      <th>data_params.collator_params.num_negatives.test</th>\n",
       "      <th>data_params.collator_params.num_negatives.train</th>\n",
       "      <th>data_params.collator_params.num_negatives.val</th>\n",
       "      <th>data_params.collator_params.out_seq_len.test</th>\n",
       "      <th>data_params.collator_params.out_seq_len.train</th>\n",
       "      <th>data_params.collator_params.out_seq_len.val</th>\n",
       "      <th>data_params.collator_params.padding_value</th>\n",
       "      <th>...</th>\n",
       "      <th>gpu_count</th>\n",
       "      <th>gpu_model</th>\n",
       "      <th>longitude</th>\n",
       "      <th>latitude</th>\n",
       "      <th>ram_total_size</th>\n",
       "      <th>tracking_mode</th>\n",
       "      <th>on_cloud</th>\n",
       "      <th>pue</th>\n",
       "      <th>train_timestamp</th>\n",
       "      <th>test_timestamp</th>\n",
       "    </tr>\n",
       "  </thead>\n",
       "  <tbody>\n",
       "    <tr>\n",
       "      <th>WawGcW33HROmuUH1</th>\n",
       "      <td>200</td>\n",
       "      <td>1</td>\n",
       "      <td>3416</td>\n",
       "      <td>100</td>\n",
       "      <td>1</td>\n",
       "      <td>1</td>\n",
       "      <td>1</td>\n",
       "      <td>None</td>\n",
       "      <td>1</td>\n",
       "      <td>0</td>\n",
       "      <td>...</td>\n",
       "      <td>3.0</td>\n",
       "      <td>3 x NVIDIA RTX A4000</td>\n",
       "      <td>8.5588</td>\n",
       "      <td>40.7243</td>\n",
       "      <td>62.646286</td>\n",
       "      <td>process</td>\n",
       "      <td>N</td>\n",
       "      <td>1.0</td>\n",
       "      <td>2024-06-03T21:10:58</td>\n",
       "      <td>2024-06-03T21:11:00</td>\n",
       "    </tr>\n",
       "  </tbody>\n",
       "</table>\n",
       "<p>1 rows × 96 columns</p>\n",
       "</div>"
      ],
      "text/plain": [
       "                  data_params.collator_params.lookback  \\\n",
       "WawGcW33HROmuUH1                                   200   \n",
       "\n",
       "                  data_params.collator_params.lookforward  \\\n",
       "WawGcW33HROmuUH1                                        1   \n",
       "\n",
       "                  data_params.collator_params.num_items  \\\n",
       "WawGcW33HROmuUH1                                   3416   \n",
       "\n",
       "                  data_params.collator_params.num_negatives.test  \\\n",
       "WawGcW33HROmuUH1                                             100   \n",
       "\n",
       "                  data_params.collator_params.num_negatives.train  \\\n",
       "WawGcW33HROmuUH1                                                1   \n",
       "\n",
       "                  data_params.collator_params.num_negatives.val  \\\n",
       "WawGcW33HROmuUH1                                              1   \n",
       "\n",
       "                  data_params.collator_params.out_seq_len.test  \\\n",
       "WawGcW33HROmuUH1                                             1   \n",
       "\n",
       "                 data_params.collator_params.out_seq_len.train  \\\n",
       "WawGcW33HROmuUH1                                          None   \n",
       "\n",
       "                  data_params.collator_params.out_seq_len.val  \\\n",
       "WawGcW33HROmuUH1                                            1   \n",
       "\n",
       "                  data_params.collator_params.padding_value  ... gpu_count  \\\n",
       "WawGcW33HROmuUH1                                          0  ...       3.0   \n",
       "\n",
       "                             gpu_model longitude latitude ram_total_size  \\\n",
       "WawGcW33HROmuUH1  3 x NVIDIA RTX A4000    8.5588  40.7243      62.646286   \n",
       "\n",
       "                  tracking_mode  on_cloud  pue      train_timestamp  \\\n",
       "WawGcW33HROmuUH1        process         N  1.0  2024-06-03T21:10:58   \n",
       "\n",
       "                       test_timestamp  \n",
       "WawGcW33HROmuUH1  2024-06-03T21:11:00  \n",
       "\n",
       "[1 rows x 96 columns]"
      ]
     },
     "execution_count": 184,
     "metadata": {},
     "output_type": "execute_result"
    }
   ],
   "source": [
    "complete_data = all_exps.join([best_metrics, emissions], how='inner') #all_flops\n",
    "#join[all_exps, best_metrics, emissions, all_flops], axis=1)\n",
    "metrics_per_epoch = {exp_id: metrics_per_epoch[exp_id] for exp_id in complete_data.index}\n",
    "complete_data"
   ]
  },
  {
   "cell_type": "code",
   "execution_count": 185,
   "metadata": {},
   "outputs": [
    {
     "data": {
      "text/plain": [
       "{'WawGcW33HROmuUH1':    epoch  step  test_F1_@10  test_F1_@20  test_F1_@5  test_MAP_@10  \\\n",
       " 0      0     0      0.09666     0.067764    0.126043      0.076558   \n",
       " \n",
       "    test_MAP_@20  test_MAP_@5  test_MRR_@10  test_MRR_@20  ...  test_duration  \\\n",
       " 0      0.059033     0.093642      0.228742      0.240963  ...       1.161582   \n",
       " \n",
       "    test_emissions  test_emissions_rate  test_cpu_power  test_gpu_power  \\\n",
       " 0         0.00003        -6.296820e-09             0.0      -45.451318   \n",
       " \n",
       "    test_ram_power  test_cpu_energy  test_gpu_energy  test_ram_energy  \\\n",
       " 0        0.000455         0.000031         0.000058     1.896585e-07   \n",
       " \n",
       "    test_energy_consumed  \n",
       " 0              0.000089  \n",
       " \n",
       " [1 rows x 41 columns]}"
      ]
     },
     "execution_count": 185,
     "metadata": {},
     "output_type": "execute_result"
    }
   ],
   "source": [
    "column_labels = ['duration', 'emissions', 'emissions_rate', 'cpu_power','gpu_power', 'ram_power', 'cpu_energy', 'gpu_energy', 'ram_energy', 'energy_consumed'] #, 'flops', 'latency', 'FLOPS']\n",
    "add_info_to_metrics_per_epoch(metrics_per_epoch, complete_data, column_labels)\n",
    "metrics_per_epoch"
   ]
  },
  {
   "cell_type": "markdown",
   "metadata": {},
   "source": [
    "## Table generation"
   ]
  },
  {
   "cell_type": "code",
   "execution_count": null,
   "metadata": {},
   "outputs": [],
   "source": [
    "#for col in sorted(complete_data.columns): print(col)"
   ]
  },
  {
   "cell_type": "code",
   "execution_count": 186,
   "metadata": {},
   "outputs": [],
   "source": [
    "rows_labels = [\"svd_type\"] #\"data_params.name\",\"model.rec_model.name\",  \"model.trainer_params.max_epochs\"\n",
    "metrics_names = [\"Precision\", \"Recall\", \"NDCG\", \"MAP\"]\n",
    "metrics_ks = [5, 10, 20]\n",
    "column_labels = sorted([f\"{metric}_@{k}\" for metric in metrics_names for k in metrics_ks])\n",
    "subset_selection = {\"model.rec_model.emb_size\":128}\n",
    "subset_keep = []\n",
    "#merge_columns = {\"svd_type\": [\"model.useSVD\",\"model.freeze_emb\"]}\n",
    "#label_convert_dict = {\"False_False\": \"No SVD\", \"True_False\": \"SVD\", \"True_True\": \"SVD freeze\"}\n",
    "merge_columns = {\"svd_type\": [\"model.useSVD\",\"model.freeze_emb\"]}\n",
    "\n",
    "label_convert_dict = {\"False_False\": \"No SVD\", \"True_False\": \"SVD\", \"True_True\": \"SVD freeze\"}\n"
   ]
  },
  {
   "cell_type": "code",
   "execution_count": 187,
   "metadata": {},
   "outputs": [
    {
     "data": {
      "text/html": [
       "<div>\n",
       "<style scoped>\n",
       "    .dataframe tbody tr th:only-of-type {\n",
       "        vertical-align: middle;\n",
       "    }\n",
       "\n",
       "    .dataframe tbody tr th {\n",
       "        vertical-align: top;\n",
       "    }\n",
       "\n",
       "    .dataframe thead th {\n",
       "        text-align: right;\n",
       "    }\n",
       "</style>\n",
       "<table border=\"1\" class=\"dataframe\">\n",
       "  <thead>\n",
       "    <tr style=\"text-align: right;\">\n",
       "      <th></th>\n",
       "      <th>svd_type</th>\n",
       "      <th>MAP_@10</th>\n",
       "      <th>MAP_@20</th>\n",
       "      <th>MAP_@5</th>\n",
       "      <th>NDCG_@10</th>\n",
       "      <th>NDCG_@20</th>\n",
       "      <th>NDCG_@5</th>\n",
       "      <th>Precision_@10</th>\n",
       "      <th>Precision_@20</th>\n",
       "      <th>Precision_@5</th>\n",
       "      <th>Recall_@10</th>\n",
       "      <th>Recall_@20</th>\n",
       "      <th>Recall_@5</th>\n",
       "    </tr>\n",
       "  </thead>\n",
       "  <tbody>\n",
       "    <tr>\n",
       "      <th>0</th>\n",
       "      <td>SVD</td>\n",
       "      <td>0.0766</td>\n",
       "      <td>0.059</td>\n",
       "      <td>0.0936</td>\n",
       "      <td>0.2979</td>\n",
       "      <td>0.3427</td>\n",
       "      <td>0.2462</td>\n",
       "      <td>0.0525</td>\n",
       "      <td>0.0351</td>\n",
       "      <td>0.0729</td>\n",
       "      <td>0.5245</td>\n",
       "      <td>0.702</td>\n",
       "      <td>0.3646</td>\n",
       "    </tr>\n",
       "  </tbody>\n",
       "</table>\n",
       "</div>"
      ],
      "text/plain": [
       "  svd_type  MAP_@10  MAP_@20  MAP_@5  NDCG_@10  NDCG_@20  NDCG_@5  \\\n",
       "0      SVD   0.0766    0.059  0.0936    0.2979    0.3427   0.2462   \n",
       "\n",
       "   Precision_@10  Precision_@20  Precision_@5  Recall_@10  Recall_@20  \\\n",
       "0         0.0525         0.0351        0.0729      0.5245       0.702   \n",
       "\n",
       "   Recall_@5  \n",
       "0     0.3646  "
      ]
     },
     "execution_count": 187,
     "metadata": {},
     "output_type": "execute_result"
    }
   ],
   "source": [
    "table = generate_table(subset_data(complete_data, subset_selection, subset_keep, merge_columns), label_convert_dict, rows_labels, column_labels, exp_name = \"april_30\", save_table=True) #, pivot_agg=list)\n",
    "\n",
    "table"
   ]
  },
  {
   "cell_type": "code",
   "execution_count": null,
   "metadata": {},
   "outputs": [],
   "source": [
    "# # To check which rows are duplicated\n",
    "# df = complete_data.loc[(complete_data[\"model.rec_model.name\"]==\"SASRec\") & (complete_data[\"data_params.name\"]==\"ml-1m\")]\n",
    "# #Find columns in df with different values\n",
    "# columns_with_different_values = []\n",
    "# for column in df.columns:\n",
    "#     if len(df[column].apply(lambda x: str(x)).unique()) > 1:\n",
    "#         columns_with_different_values.append(column)\n",
    "# print(columns_with_different_values)\n",
    "# complete_data.loc[(complete_data[\"model.rec_model.name\"]==\"SASRec\") & (complete_data[\"data_params.name\"]==\"ml-1m\")][columns_with_different_values]"
   ]
  },
  {
   "cell_type": "markdown",
   "metadata": {},
   "source": [
    "## Plot"
   ]
  },
  {
   "cell_type": "code",
   "execution_count": null,
   "metadata": {},
   "outputs": [],
   "source": [
    "main_rows_labels = [\"svd_type\"]\n",
    "metrics_names = [\"Precision\", \"Recall\", \"NDCG\", \"MAP\"]\n",
    "metrics_ks = [5, 10, 20]\n",
    "column_labels = sorted([f\"{metric}_@{k}\" for metric in metrics_names for k in metrics_ks])\n",
    "subset_keep = []\n",
    "\n",
    "#label_convert_dict = {\"False_False\": \"No SVD\", \"True_False\": \"SVD\", \"True_True\": \"SVD freeze\"}\n",
    "\n",
    "label_convert_dict = {\"False_False\": \"No SVD\", \"True_False\": \"SVD\", \"True_True\": \"SVD freeze\"}\n",
    "merge_columns = {\"svd_type\": [\"model.useSVD\",\"model.freeze_emb\"]}"
   ]
  },
  {
   "cell_type": "markdown",
   "metadata": {},
   "source": [
    "### Embedding size"
   ]
  },
  {
   "cell_type": "code",
   "execution_count": null,
   "metadata": {},
   "outputs": [],
   "source": [
    "main_x_column = \"model.rec_model.emb_size\"\n",
    "main_x_label = \"Embedding Size\"\n",
    "super_plot_name = \"emb_size_NDCG@10\"\n",
    "super_title = \"Performance with varying embedding size\""
   ]
  },
  {
   "cell_type": "code",
   "execution_count": null,
   "metadata": {},
   "outputs": [],
   "source": [
    "rows_label_to_add = [main_x_column]\n",
    "rows_labels = main_rows_labels + rows_label_to_add\n",
    "\n",
    "subset_selection = {}"
   ]
  },
  {
   "cell_type": "code",
   "execution_count": null,
   "metadata": {},
   "outputs": [],
   "source": [
    "table = generate_table(subset_data(complete_data, subset_selection, subset_keep, merge_columns), label_convert_dict, rows_labels, column_labels, exp_name = \"april_30\", save_table=True)\n",
    "table"
   ]
  },
  {
   "cell_type": "code",
   "execution_count": null,
   "metadata": {},
   "outputs": [],
   "source": [
    "y_column = \"NDCG_@10\"\n",
    "y_label = y_column.replace(\"_\", \"\")\n",
    "\n",
    "ax_instructions = {\"set_xscale\": {\"value\": \"log\"},\n",
    "                   \"set_ylabel\": {\"ylabel\": y_label},\n",
    "                   \"get_xaxis\": {\"__kwargs__\":{},\n",
    "                                 \"set_tick_params\": {\"which\":\"minor\", \"size\":0}},\n",
    "                   \"get_xaxis\": {\"__kwargs__\":{},\n",
    "                                 \"set_tick_params\": {\"which\":\"minor\", \"width\":0}},\n",
    "                   \"legend\": {},\n",
    "                   \"grid\":{}}\n",
    "\n",
    "plot_instructions = {\"subplots\": {\"nrows\": 1, \"ncols\": 1, \"figsize\": (6,4)},\n",
    "                    \"tight_layout\":{},\n",
    "                    \"savefig\": {\"fname\": \"plot.pdf\"},\n",
    "                    \"show\":{}}"
   ]
  },
  {
   "cell_type": "code",
   "execution_count": null,
   "metadata": {},
   "outputs": [],
   "source": [
    "x_column = main_x_column\n",
    "x_label = main_x_label\n",
    "plot_name = super_plot_name#+\"_\"+subset_selection[\"data_params.name\"]\n",
    "\n",
    "ax_instructions[\"set_xticks\"] = {\"ticks\": table[x_column].unique().astype(int), \"labels\": table[x_column].unique().astype(int)}\n",
    "ax_instructions[\"set_xlabel\"] = {\"xlabel\": x_label}\n",
    "ax_instructions[\"legend\"] = {\"loc\": \"center right\"}\n",
    "\n",
    "plot_instructions[\"savefig\"] = {\"fname\": f'../out/img/{plot_name}.pdf'}\n",
    "\n",
    "label_convert_dict = {\"False_False\": \"No SVD\", \"True_False\": \"SVD\", \"True_True\": \"SVD + freeze\"}\n",
    "#label_convert_dict = {\"False_False\": \"No SVD\", \"True_False\": \"SVD\", \"True_True\": \"SVD freeze\", \"True_False_64.0\":\"SVD + cutoff\", \"True_True_64.0\":\"SVD freeze+cutoff\"}\n",
    "\n",
    "\n",
    "create_plot(plot_instructions, data=table, label_columns=[\"svd_type\"], x_column=x_column, y_column=y_column,\n",
    "            ax_instructions = ax_instructions, label_convert_dict = label_convert_dict)"
   ]
  },
  {
   "cell_type": "code",
   "execution_count": null,
   "metadata": {},
   "outputs": [],
   "source": [
    "x_column = \"epoch\"\n",
    "x_label = \"Epoch\"\n",
    "y_column = \"test_NDCG_@10\"\n",
    "y_label = \"NDCG@10\"\n",
    "ax_instructions[\"set_xlabel\"] = {\"xlabel\": x_label}"
   ]
  },
  {
   "cell_type": "markdown",
   "metadata": {},
   "source": [
    "### Emb size = 64"
   ]
  },
  {
   "cell_type": "code",
   "execution_count": null,
   "metadata": {},
   "outputs": [],
   "source": [
    "subset_selection = {\"model.rec_model.emb_size\":128}"
   ]
  },
  {
   "cell_type": "code",
   "execution_count": null,
   "metadata": {},
   "outputs": [],
   "source": [
    "epoch_table = subset_data(complete_data, subset_selection, subset_keep, merge_columns)\n",
    "sas_table = merge_epoch_data(metrics_per_epoch, epoch_table, rows_labels)\n",
    "#sas_table = hotfix_table(sas_table, y_column) #HOTFIX\n",
    "sas_table"
   ]
  },
  {
   "cell_type": "code",
   "execution_count": null,
   "metadata": {},
   "outputs": [],
   "source": [
    "plot_name = \"epochs_weightpruning_128_NDCG@10\"#+super_plot_name#+subset_selection[\"data_params.name\"]\n",
    "\n",
    "#plot_instructions[\"subplots\"] = {\"nrows\": 3, \"ncols\": 2, \"figsize\": (12,12)}\n",
    "plot_instructions[\"savefig\"] = {\"fname\": f'../out/img/{plot_name}.pdf'}\n",
    "\n",
    "plot_kwargs = {\"markevery\": 0.1}\n",
    "\n",
    "ax_instructions.pop(\"set_xticks\",None)\n",
    "ax_instructions[\"legend\"] = {\"loc\": \"center right\"}\n",
    "#ax_instructions[\"set_title\"] = {\"label\": super_title}\n",
    "\n",
    "#label_convert_dict = {\"False_False\": \"No SVD\", \"True_False\": \"SVD\", \"True_True\": \"SVD + freeze\"}\n",
    "label_convert_dict = {\"False_False\": \"No SVD\", \"True_False\": \"SVD\", \"True_True\": \"SVD freeze\", \"True_False_64.0\":\"SVD + cutoff\", \"True_True_64.0\":\"SVD freeze+cutoff\"}\n",
    "\n",
    "repeated_ax_instructions = [ax_instructions.copy() for _ in range(4)]\n",
    "#repeated_ax_instructions[0][\"set_ylim\"] = {\"bottom\":0.525}\n",
    "repeated_ax_instructions[0][\"legend\"] = {\"loc\": \"center right\"}\n",
    "\n",
    "repeated_ax_instructions[1][\"set_xlim\"] = {\"left\":0,\"right\":10}\n",
    "#repeated_ax_instructions[1][\"set_ylim\"] = {\"bottom\":0.34,\"top\":0.65}\n",
    "repeated_ax_instructions[1].pop(\"set_xscale\",None)\n",
    "repeated_ax_instructions[1][\"legend\"] = {\"loc\": \"center right\"}\n",
    "\n",
    "repeated_ax_instructions[2][\"set_xlim\"] = {\"left\":0,\"right\":600}\n",
    "#repeated_ax_instructions[2][\"set_ylim\"] = {\"bottom\":0.64,\"top\":0.69}\n",
    "repeated_ax_instructions[2].pop(\"set_xscale\",None)\n",
    "\n",
    "repeated_ax_instructions[3][\"set_xlim\"] = {\"left\":400,\"right\":600}\n",
    "#repeated_ax_instructions[2][\"set_ylim\"] = {\"bottom\":0.64,\"top\":0.69}\n",
    "repeated_ax_instructions[3].pop(\"set_xscale\",None)\n",
    "\n",
    "\n",
    "repeated_plot_kwargs = [plot_kwargs.copy() for _ in range(6)]\n",
    "repeated_plot_kwargs[1][\"markevery\"] = 1\n",
    "repeated_plot_kwargs[2][\"markevery\"] = 100\n",
    "repeated_plot_kwargs[3][\"markevery\"] = 50\n",
    "\n",
    "for i,(rep_ax_instr, rep_plot_kwargs) in enumerate(zip(repeated_ax_instructions,repeated_plot_kwargs)):\n",
    "    rep_plot_instr = deepcopy(plot_instructions.copy())\n",
    "    rep_plot_instr[\"savefig\"][\"fname\"] = plot_instructions[\"savefig\"][\"fname\"].split(\".pdf\")[0]+\"_\"+str(i)+\".png\"\n",
    "    create_plot(rep_plot_instr, data=([sas_table]*4)[i], label_columns=[\"svd_type\"], x_column=x_column, y_column=y_column,\n",
    "            ax_instructions = rep_ax_instr, label_convert_dict = label_convert_dict, plot_type=\"plot\", plot_kwargs=rep_plot_kwargs)"
   ]
  },
  {
   "cell_type": "markdown",
   "metadata": {},
   "source": [
    "#### FINE?"
   ]
  },
  {
   "cell_type": "code",
   "execution_count": null,
   "metadata": {},
   "outputs": [],
   "source": [
    "y_column"
   ]
  },
  {
   "cell_type": "markdown",
   "metadata": {},
   "source": [
    "#### Foursquare TKY"
   ]
  },
  {
   "cell_type": "code",
   "execution_count": null,
   "metadata": {},
   "outputs": [],
   "source": [
    "subset_selection[\"data_params.name\"] = \"foursquare-tky\"\n",
    "subset_selection.pop(\"model.rec_model.name\",None)"
   ]
  },
  {
   "cell_type": "code",
   "execution_count": null,
   "metadata": {},
   "outputs": [],
   "source": [
    "table = generate_table(subset_data(complete_data, subset_selection, subset_keep, merge_columns), rows_labels, column_labels, exp_name = \"april_30\", save_table=True)\n",
    "table"
   ]
  },
  {
   "cell_type": "code",
   "execution_count": null,
   "metadata": {},
   "outputs": [],
   "source": [
    "y_column = \"NDCG_@10\"\n",
    "y_label = y_column.replace(\"_\", \"\")\n",
    "\n",
    "ax_instructions = {\"set_xscale\": {\"value\": \"log\"},\n",
    "                   \"set_ylabel\": {\"ylabel\": y_label},\n",
    "                   \"get_xaxis\": {\"__kwargs__\":{},\n",
    "                                 \"set_tick_params\": {\"which\":\"minor\", \"size\":0}},\n",
    "                   \"get_xaxis\": {\"__kwargs__\":{},\n",
    "                                 \"set_tick_params\": {\"which\":\"minor\", \"width\":0}},\n",
    "                   \"legend\": {},\n",
    "                   \"grid\":{}}\n",
    "\n",
    "plot_instructions = {\"subplots\": {\"nrows\": 1, \"ncols\": 1, \"figsize\": (6,4)},\n",
    "                    \"tight_layout\":{},\n",
    "                    \"savefig\": {\"fname\": \"plot.pdf\"},\n",
    "                    \"show\":{}}"
   ]
  },
  {
   "cell_type": "code",
   "execution_count": null,
   "metadata": {},
   "outputs": [],
   "source": [
    "x_column = main_x_column\n",
    "x_label = main_x_label\n",
    "plot_name = super_plot_name+\"_\"+subset_selection[\"data_params.name\"]\n",
    "\n",
    "ax_instructions[\"set_xticks\"] = {\"ticks\": table[x_column].unique().astype(int), \"labels\": table[x_column].unique().astype(int)}\n",
    "ax_instructions[\"set_xlabel\"] = {\"xlabel\": x_label}\n",
    "ax_instructions[\"legend\"] = {\"loc\": \"upper right\"}\n",
    "\n",
    "plot_instructions[\"savefig\"] = {\"fname\": f'../out/img/{plot_name}.pdf'}\n",
    "\n",
    "label_convert_dict = {}\n",
    "\n",
    "create_plot(plot_instructions, data=table, label_columns=[\"model.rec_model.name\"], x_column=x_column, y_column=y_column,\n",
    "            ax_instructions = ax_instructions, label_convert_dict = label_convert_dict)"
   ]
  },
  {
   "cell_type": "code",
   "execution_count": null,
   "metadata": {},
   "outputs": [],
   "source": [
    "x_column = \"train_flops\"\n",
    "x_label = \"Training flops\"\n",
    "plot_name = super_plot_name+\"_flops_\"+subset_selection[\"data_params.name\"]\n",
    "\n",
    "ax_instructions.pop(\"set_xticks\",None)\n",
    "ax_instructions[\"set_xlabel\"] = {\"xlabel\": x_label}\n",
    "ax_instructions[\"legend\"] = {\"loc\": \"lower left\"}\n",
    "#ax_instructions[\"set_title\"] = {\"label\": super_title}\n",
    "\n",
    "plot_instructions[\"savefig\"] = {\"fname\": f'../out/img/{plot_name}.pdf'}\n",
    "\n",
    "label_convert_dict = {}\n",
    "\n",
    "create_plot(plot_instructions, data=table, label_columns=[\"model.rec_model.name\"], x_column=x_column, y_column=y_column,\n",
    "            ax_instructions = ax_instructions, label_convert_dict = label_convert_dict)\n"
   ]
  },
  {
   "cell_type": "code",
   "execution_count": null,
   "metadata": {},
   "outputs": [],
   "source": [
    "x_column = \"epoch\"\n",
    "x_label = \"Epoch\"\n",
    "y_column = \"val_NDCG_@10/dataloader_idx_1\"\n",
    "y_label = \"NDCG@10\"\n",
    "ax_instructions[\"set_xlabel\"] = {\"xlabel\": x_label}"
   ]
  },
  {
   "cell_type": "markdown",
   "metadata": {},
   "source": [
    "##### SASRec"
   ]
  },
  {
   "cell_type": "code",
   "execution_count": null,
   "metadata": {},
   "outputs": [],
   "source": [
    "subset_selection[\"model.rec_model.name\"] = \"SASRec\"\n",
    "epoch_table = subset_data(complete_data, subset_selection, subset_keep, merge_columns)\n",
    "\n",
    "sas_table = merge_epoch_data(metrics_per_epoch, epoch_table, rows_labels)\n",
    "sas_table = hotfix_table(sas_table, y_column) #HOTFIX\n",
    "sas_table"
   ]
  },
  {
   "cell_type": "code",
   "execution_count": null,
   "metadata": {},
   "outputs": [],
   "source": [
    "subset_selection[\"model.rec_model.name\"] = \"GRU4Rec\"\n",
    "epoch_table = subset_data(complete_data, subset_selection, subset_keep, merge_columns)\n",
    "\n",
    "gru_table = merge_epoch_data(metrics_per_epoch, epoch_table, rows_labels)\n",
    "gru_table = hotfix_table(gru_table, y_column) #HOTFIX\n",
    "gru_table"
   ]
  },
  {
   "cell_type": "code",
   "execution_count": null,
   "metadata": {},
   "outputs": [],
   "source": [
    "plot_name = \"epochs_\"+super_plot_name+\"_GRU_SAS_\"+subset_selection[\"data_params.name\"]\n",
    "\n",
    "#plot_instructions[\"subplots\"] = {\"nrows\": 3, \"ncols\": 2, \"figsize\": (12,12)}\n",
    "plot_instructions[\"savefig\"] = {\"fname\": f'../out/img/{plot_name}.pdf'}\n",
    "\n",
    "plot_kwargs = {\"markevery\": 0.1}\n",
    "\n",
    "ax_instructions.pop(\"set_xticks\",None)\n",
    "ax_instructions[\"legend\"] = {\"loc\": \"lower right\"}\n",
    "#ax_instructions[\"set_title\"] = {\"label\": super_title}\n",
    "\n",
    "label_convert_dict = {} #x:f\"{x} positive item(s)\" for x in [1,2,3,5,10,20,50,100]}\n",
    "\n",
    "repeated_ax_instructions = [ax_instructions.copy() for _ in range(6)]\n",
    "repeated_ax_instructions[0][\"set_ylim\"] = {\"bottom\":0.25}\n",
    "repeated_ax_instructions[0][\"legend\"] = {\"loc\": \"upper left\"}\n",
    "repeated_ax_instructions[1][\"legend\"] = {\"loc\": \"upper left\"}\n",
    "\n",
    "\n",
    "repeated_ax_instructions[2][\"set_xlim\"] = {\"left\":0,\"right\":10}\n",
    "repeated_ax_instructions[2][\"set_ylim\"] = {\"bottom\":0.18,\"top\":0.43}\n",
    "repeated_ax_instructions[2].pop(\"set_xscale\",None)\n",
    "repeated_ax_instructions[3][\"set_xlim\"] = {\"left\":0,\"right\":10}\n",
    "repeated_ax_instructions[3][\"set_ylim\"] = {\"bottom\":0.125,\"top\":0.26}\n",
    "repeated_ax_instructions[3].pop(\"set_xscale\",None)\n",
    "\n",
    "\n",
    "repeated_ax_instructions[4][\"set_xlim\"] = {\"left\":100,\"right\":600}\n",
    "repeated_ax_instructions[4][\"set_ylim\"] = {\"bottom\":0.35,\"top\":0.77}\n",
    "repeated_ax_instructions[4].pop(\"set_xscale\",None)\n",
    "repeated_ax_instructions[5][\"set_xlim\"] = {\"left\":100,\"right\":600}\n",
    "repeated_ax_instructions[5][\"set_ylim\"] = {\"bottom\":0.45,\"top\":0.80}\n",
    "repeated_ax_instructions[5].pop(\"set_xscale\",None)\n",
    "\n",
    "\n",
    "repeated_plot_kwargs = [plot_kwargs.copy() for _ in range(6)]\n",
    "repeated_plot_kwargs[2][\"markevery\"] = repeated_plot_kwargs[3][\"markevery\"] = 1\n",
    "repeated_plot_kwargs[4][\"markevery\"] = repeated_plot_kwargs[5][\"markevery\"] = 100\n",
    "\n",
    "label_a = [\"(a)\",\"(b)\",\"(c)\",\"(d)\",\"(e)\",\"(f)\"]\n",
    "label_b = [\"GRU\",\"SAS\"]*3\n",
    "label_c = [\" - \"+x if x !=\"\" else x for x in [\"\",\"\",\"start\",\"start\",\"end\",\"end\"]]\n",
    "for i,(rep_ax_instr, rep_plot_kwargs) in enumerate(zip(repeated_ax_instructions,repeated_plot_kwargs)):\n",
    "    rep_plot_instr = deepcopy(plot_instructions.copy())\n",
    "    rep_plot_instr[\"savefig\"][\"fname\"] = plot_instructions[\"savefig\"][\"fname\"].split(\".pdf\")[0]+\"_\"+str(i)+\".pdf\"\n",
    "    rep_ax_instr[\"set_title\"] = {\"label\": f\"{label_a[i]} {label_b[i]}{label_c[i]}\"}\n",
    "    create_plot(rep_plot_instr, data=([gru_table,sas_table]*3)[i], label_columns=[main_x_column], x_column=x_column, y_column=y_column,\n",
    "            ax_instructions = rep_ax_instr, label_convert_dict = label_convert_dict, plot_type=\"plot\", plot_kwargs=rep_plot_kwargs)"
   ]
  },
  {
   "cell_type": "markdown",
   "metadata": {},
   "source": [
    "#### ML-1M"
   ]
  },
  {
   "cell_type": "code",
   "execution_count": null,
   "metadata": {},
   "outputs": [],
   "source": [
    "subset_selection[\"data_params.name\"] = \"ml-1m\"\n",
    "subset_selection.pop(\"model.rec_model.name\",None)"
   ]
  },
  {
   "cell_type": "code",
   "execution_count": null,
   "metadata": {},
   "outputs": [],
   "source": [
    "table = generate_table(subset_data(complete_data, subset_selection, subset_keep, merge_columns), rows_labels, column_labels, exp_name = \"april_30\", save_table=True)\n",
    "table"
   ]
  },
  {
   "cell_type": "code",
   "execution_count": null,
   "metadata": {},
   "outputs": [],
   "source": [
    "x_column = main_x_column\n",
    "x_label = main_x_label\n",
    "y_column = \"NDCG_@10\"\n",
    "y_label = y_column.replace(\"_\", \"\")\n",
    "\n",
    "ax_instructions = {\"set_xscale\": {\"value\": \"log\"},\n",
    "                   \"set_ylabel\": {\"ylabel\": y_label},\n",
    "                   \"get_xaxis\": {\"__kwargs__\":{},\n",
    "                                 \"set_tick_params\": {\"which\":\"minor\", \"size\":0}},\n",
    "                   \"get_xaxis\": {\"__kwargs__\":{},\n",
    "                                 \"set_tick_params\": {\"which\":\"minor\", \"width\":0}},\n",
    "                   \"legend\": {},\n",
    "                   \"grid\":{}}\n",
    "\n",
    "plot_instructions = {\"subplots\": {\"nrows\": 1, \"ncols\": 1, \"figsize\": (6,4)},\n",
    "                    \"tight_layout\":{},\n",
    "                    \"savefig\": {\"fname\": \"plot.pdf\"},\n",
    "                    \"show\":{}}"
   ]
  },
  {
   "cell_type": "code",
   "execution_count": null,
   "metadata": {},
   "outputs": [],
   "source": [
    "plot_name = super_plot_name+\"_\"+subset_selection[\"data_params.name\"]\n",
    "\n",
    "ax_instructions[\"set_xticks\"] = {\"ticks\": table[x_column].unique().astype(int), \"labels\": table[x_column].unique().astype(int)}\n",
    "ax_instructions[\"set_xlabel\"] = {\"xlabel\": x_label}\n",
    "ax_instructions[\"legend\"] = {\"loc\": \"upper right\"}\n",
    "\n",
    "plot_instructions[\"savefig\"] = {\"fname\": f'../out/img/{plot_name}.pdf'}\n",
    "\n",
    "label_convert_dict = {}\n",
    "\n",
    "create_plot(plot_instructions, data=table, label_columns=[\"model.rec_model.name\"], x_column=x_column, y_column=y_column,\n",
    "            ax_instructions = ax_instructions, label_convert_dict = label_convert_dict)"
   ]
  },
  {
   "cell_type": "code",
   "execution_count": null,
   "metadata": {},
   "outputs": [],
   "source": [
    "x_column = \"train_flops\"\n",
    "x_label = \"Training flops\"\n",
    "plot_name = super_plot_name+\"_flops_\"+subset_selection[\"data_params.name\"]\n",
    "\n",
    "ax_instructions.pop(\"set_xticks\",None)\n",
    "ax_instructions[\"set_xlabel\"] = {\"xlabel\": x_label}\n",
    "ax_instructions[\"legend\"] = {\"loc\": \"lower left\"}\n",
    "#ax_instructions[\"set_title\"] = {\"label\": super_title}\n",
    "\n",
    "plot_instructions[\"savefig\"] = {\"fname\": f'../out/img/{plot_name}.pdf'}\n",
    "\n",
    "label_convert_dict = {}\n",
    "\n",
    "create_plot(plot_instructions, data=table, label_columns=[\"model.rec_model.name\"], x_column=x_column, y_column=y_column,\n",
    "            ax_instructions = ax_instructions, label_convert_dict = label_convert_dict)\n"
   ]
  },
  {
   "cell_type": "code",
   "execution_count": null,
   "metadata": {},
   "outputs": [],
   "source": [
    "x_column = \"epoch\"\n",
    "x_label = \"Epoch\"\n",
    "y_column = \"val_NDCG_@10/dataloader_idx_1\"\n",
    "y_label = \"NDCG@10\"\n",
    "ax_instructions[\"set_xlabel\"] = {\"xlabel\": x_label}"
   ]
  },
  {
   "cell_type": "markdown",
   "metadata": {},
   "source": [
    "##### SASRec"
   ]
  },
  {
   "cell_type": "code",
   "execution_count": null,
   "metadata": {},
   "outputs": [],
   "source": [
    "subset_selection[\"model.rec_model.name\"] = \"SASRec\"\n",
    "epoch_table = subset_data(complete_data, subset_selection, subset_keep, merge_columns)\n",
    "\n",
    "sas_table = merge_epoch_data(metrics_per_epoch, epoch_table, rows_labels)\n",
    "sas_table = hotfix_table(sas_table, y_column) #HOTFIX\n",
    "sas_table"
   ]
  },
  {
   "cell_type": "code",
   "execution_count": null,
   "metadata": {},
   "outputs": [],
   "source": [
    "subset_selection[\"model.rec_model.name\"] = \"GRU4Rec\"\n",
    "epoch_table = subset_data(complete_data, subset_selection, subset_keep, merge_columns)\n",
    "\n",
    "gru_table = merge_epoch_data(metrics_per_epoch, epoch_table, rows_labels)\n",
    "gru_table = hotfix_table(gru_table, y_column) #HOTFIX\n",
    "gru_table"
   ]
  },
  {
   "cell_type": "code",
   "execution_count": null,
   "metadata": {},
   "outputs": [],
   "source": [
    "plot_name = \"epochs_\"+super_plot_name+\"_GRU_SAS_\"+subset_selection[\"data_params.name\"]\n",
    "\n",
    "#plot_instructions[\"subplots\"] = {\"nrows\": 3, \"ncols\": 2, \"figsize\": (12,12)}\n",
    "plot_instructions[\"savefig\"] = {\"fname\": f'../out/img/{plot_name}.pdf'}\n",
    "\n",
    "plot_kwargs = {\"markevery\": 0.1}\n",
    "\n",
    "ax_instructions.pop(\"set_xticks\",None)\n",
    "ax_instructions[\"legend\"] = {\"loc\": \"upper left\"}\n",
    "#ax_instructions[\"set_title\"] = {\"label\": super_title}\n",
    "\n",
    "label_convert_dict = {} #x:f\"{x} positive item(s)\" for x in [1,2,3,5,10,20,50,100]}\n",
    "\n",
    "repeated_ax_instructions = [ax_instructions.copy() for _ in range(6)]\n",
    "repeated_ax_instructions[2][\"set_xlim\"] = {\"left\":0,\"right\":10}\n",
    "repeated_ax_instructions[2][\"set_ylim\"] = {\"bottom\":0.18,\"top\":0.41}\n",
    "repeated_ax_instructions[2].pop(\"set_xscale\",None)\n",
    "repeated_ax_instructions[3][\"set_xlim\"] = {\"left\":0,\"right\":10}\n",
    "repeated_ax_instructions[3][\"set_ylim\"] = {\"bottom\":0.05,\"top\":0.25}\n",
    "repeated_ax_instructions[3].pop(\"set_xscale\",None)\n",
    "\n",
    "\n",
    "repeated_ax_instructions[4][\"set_xlim\"] = {\"left\":100,\"right\":600}\n",
    "repeated_ax_instructions[4][\"set_ylim\"] = {\"bottom\":0.2,\"top\":0.605}\n",
    "repeated_ax_instructions[4].pop(\"set_xscale\",None)\n",
    "repeated_ax_instructions[5][\"set_xlim\"] = {\"left\":100,\"right\":600}\n",
    "repeated_ax_instructions[5][\"set_ylim\"] = {\"bottom\":0.2,\"top\":0.60}\n",
    "repeated_ax_instructions[5].pop(\"set_xscale\",None)\n",
    "\n",
    "\n",
    "repeated_plot_kwargs = [plot_kwargs.copy() for _ in range(6)]\n",
    "repeated_plot_kwargs[2][\"markevery\"] = repeated_plot_kwargs[3][\"markevery\"] = 1\n",
    "repeated_plot_kwargs[4][\"markevery\"] = repeated_plot_kwargs[5][\"markevery\"] = 100\n",
    "\n",
    "label_a = [\"(a)\",\"(b)\",\"(c)\",\"(d)\",\"(e)\",\"(f)\"]\n",
    "label_b = [\"GRU\",\"SAS\"]*3\n",
    "label_c = [\" - \"+x if x !=\"\" else x for x in [\"\",\"\",\"start\",\"start\",\"end\",\"end\"]]\n",
    "for i,(rep_ax_instr, rep_plot_kwargs) in enumerate(zip(repeated_ax_instructions,repeated_plot_kwargs)):\n",
    "    rep_plot_instr = deepcopy(plot_instructions.copy())\n",
    "    rep_plot_instr[\"savefig\"][\"fname\"] = plot_instructions[\"savefig\"][\"fname\"].split(\".pdf\")[0]+\"_\"+str(i)+\".pdf\"\n",
    "    rep_ax_instr[\"set_title\"] = {\"label\": f\"{label_a[i]} {label_b[i]}{label_c[i]}\"}\n",
    "    create_plot(rep_plot_instr, data=([gru_table,sas_table]*3)[i], label_columns=[main_x_column], x_column=x_column, y_column=y_column,\n",
    "            ax_instructions = rep_ax_instr, label_convert_dict = label_convert_dict, plot_type=\"plot\", plot_kwargs=rep_plot_kwargs)"
   ]
  },
  {
   "cell_type": "code",
   "execution_count": null,
   "metadata": {},
   "outputs": [],
   "source": []
  },
  {
   "cell_type": "markdown",
   "metadata": {},
   "source": [
    "### Num negatives"
   ]
  },
  {
   "cell_type": "code",
   "execution_count": null,
   "metadata": {},
   "outputs": [],
   "source": [
    "main_x_column = \"data_params.collator_params.num_negatives.train\"\n",
    "main_x_label = \"Number of negative items\"\n",
    "super_plot_name = \"negatives_NDCG@10\"\n",
    "super_title = \"Performance with varying number of negative items\""
   ]
  },
  {
   "cell_type": "code",
   "execution_count": null,
   "metadata": {},
   "outputs": [],
   "source": [
    "rows_label_to_add = [main_x_column]\n",
    "rows_labels = main_rows_labels + rows_label_to_add\n",
    "\n",
    "subset_selection = {\"data_params.collator_params.simultaneous_lookforward\":1}"
   ]
  },
  {
   "cell_type": "markdown",
   "metadata": {},
   "source": [
    "#### Amazon-beauty"
   ]
  },
  {
   "cell_type": "code",
   "execution_count": null,
   "metadata": {},
   "outputs": [],
   "source": [
    "subset_selection[\"data_params.name\"] = \"amazon_beauty\"\n",
    "subset_selection.pop(\"model.rec_model.name\",None)"
   ]
  },
  {
   "cell_type": "code",
   "execution_count": null,
   "metadata": {},
   "outputs": [],
   "source": [
    "table = generate_table(subset_data(complete_data, subset_selection, subset_keep, merge_columns), rows_labels, column_labels, exp_name = \"april_30\", save_table=True)\n",
    "table"
   ]
  },
  {
   "cell_type": "code",
   "execution_count": null,
   "metadata": {},
   "outputs": [],
   "source": [
    "y_column = \"NDCG_@10\"\n",
    "y_label = y_column.replace(\"_\", \"\")\n",
    "\n",
    "ax_instructions = {\"set_xscale\": {\"value\": \"log\"},\n",
    "                   \"set_ylabel\": {\"ylabel\": y_label},\n",
    "                   \"get_xaxis\": {\"__kwargs__\":{},\n",
    "                                 \"set_tick_params\": {\"which\":\"minor\", \"size\":0}},\n",
    "                   \"get_xaxis\": {\"__kwargs__\":{},\n",
    "                                 \"set_tick_params\": {\"which\":\"minor\", \"width\":0}},\n",
    "                   \"legend\": {},\n",
    "                   \"grid\":{}}\n",
    "\n",
    "plot_instructions = {\"subplots\": {\"nrows\": 1, \"ncols\": 1, \"figsize\": (6,4)},\n",
    "                    \"tight_layout\":{},\n",
    "                    \"savefig\": {\"fname\": \"plot.pdf\"},\n",
    "                    \"show\":{}}"
   ]
  },
  {
   "cell_type": "code",
   "execution_count": null,
   "metadata": {},
   "outputs": [],
   "source": [
    "x_column = main_x_column\n",
    "x_label = main_x_label\n",
    "plot_name = super_plot_name+\"_\"+subset_selection[\"data_params.name\"]\n",
    "\n",
    "ax_instructions[\"set_xticks\"] = {\"ticks\": table[x_column].unique().astype(int), \"labels\": table[x_column].unique().astype(int)}\n",
    "ax_instructions[\"set_xlabel\"] = {\"xlabel\": x_label}\n",
    "ax_instructions[\"legend\"] = {\"loc\": \"upper right\"}\n",
    "\n",
    "plot_instructions[\"savefig\"] = {\"fname\": f'../out/img/{plot_name}.pdf'}\n",
    "\n",
    "label_convert_dict = {}\n",
    "\n",
    "create_plot(plot_instructions, data=table, label_columns=[\"model.rec_model.name\"], x_column=x_column, y_column=y_column,\n",
    "            ax_instructions = ax_instructions, label_convert_dict = label_convert_dict)"
   ]
  },
  {
   "cell_type": "code",
   "execution_count": null,
   "metadata": {},
   "outputs": [],
   "source": [
    "x_column = \"train_flops\"\n",
    "x_label = \"Training flops\"\n",
    "plot_name = super_plot_name+\"_flops_\"+subset_selection[\"data_params.name\"]\n",
    "\n",
    "ax_instructions.pop(\"set_xticks\",None)\n",
    "ax_instructions[\"set_xlabel\"] = {\"xlabel\": x_label}\n",
    "ax_instructions[\"legend\"] = {\"loc\": \"lower left\"}\n",
    "#ax_instructions[\"set_title\"] = {\"label\": super_title}\n",
    "\n",
    "plot_instructions[\"savefig\"] = {\"fname\": f'../out/img/{plot_name}.pdf'}\n",
    "\n",
    "label_convert_dict = {}\n",
    "\n",
    "create_plot(plot_instructions, data=table, label_columns=[\"model.rec_model.name\"], x_column=x_column, y_column=y_column,\n",
    "            ax_instructions = ax_instructions, label_convert_dict = label_convert_dict)\n"
   ]
  },
  {
   "cell_type": "code",
   "execution_count": null,
   "metadata": {},
   "outputs": [],
   "source": [
    "x_column = \"epoch\"\n",
    "x_label = \"Epoch\"\n",
    "y_column = \"val_NDCG_@10/dataloader_idx_1\"\n",
    "y_label = \"NDCG@10\"\n",
    "ax_instructions[\"set_xlabel\"] = {\"xlabel\": x_label}"
   ]
  },
  {
   "cell_type": "markdown",
   "metadata": {},
   "source": [
    "##### SASRec"
   ]
  },
  {
   "cell_type": "code",
   "execution_count": null,
   "metadata": {},
   "outputs": [],
   "source": [
    "subset_selection[\"model.rec_model.name\"] = \"SASRec\"\n",
    "epoch_table = subset_data(complete_data, subset_selection, subset_keep, merge_columns)\n",
    "\n",
    "sas_table = merge_epoch_data(metrics_per_epoch, epoch_table, rows_labels)\n",
    "sas_table = hotfix_table(sas_table, y_column) #HOTFIX\n",
    "sas_table"
   ]
  },
  {
   "cell_type": "code",
   "execution_count": null,
   "metadata": {},
   "outputs": [],
   "source": [
    "subset_selection[\"model.rec_model.name\"] = \"GRU4Rec\"\n",
    "epoch_table = subset_data(complete_data, subset_selection, subset_keep, merge_columns)\n",
    "\n",
    "gru_table = merge_epoch_data(metrics_per_epoch, epoch_table, rows_labels)\n",
    "gru_table = hotfix_table(gru_table, y_column) #HOTFIX\n",
    "gru_table"
   ]
  },
  {
   "cell_type": "code",
   "execution_count": null,
   "metadata": {},
   "outputs": [],
   "source": [
    "plot_name = \"epochs_\"+super_plot_name+\"_GRU_SAS_\"+subset_selection[\"data_params.name\"]\n",
    "\n",
    "#plot_instructions[\"subplots\"] = {\"nrows\": 3, \"ncols\": 2, \"figsize\": (12,12)}\n",
    "plot_instructions[\"savefig\"] = {\"fname\": f'../out/img/{plot_name}.pdf'}\n",
    "\n",
    "plot_kwargs = {\"markevery\": 0.1}\n",
    "\n",
    "ax_instructions.pop(\"set_xticks\",None)\n",
    "ax_instructions[\"legend\"] = {\"loc\": \"lower right\"}\n",
    "#ax_instructions[\"set_title\"] = {\"label\": super_title}\n",
    "\n",
    "label_convert_dict = {} #x:f\"{x} positive item(s)\" for x in [1,2,3,5,10,20,50,100]}\n",
    "\n",
    "repeated_ax_instructions = [ax_instructions.copy() for _ in range(6)]\n",
    "#repeated_ax_instructions[0][\"set_ylim\"] = {\"bottom\":0.525}\n",
    "\n",
    "repeated_ax_instructions[2][\"set_xlim\"] = {\"left\":0,\"right\":10}\n",
    "repeated_ax_instructions[2][\"set_ylim\"] = {\"bottom\":0.28,\"top\":0.65}\n",
    "repeated_ax_instructions[2].pop(\"set_xscale\",None)\n",
    "repeated_ax_instructions[3][\"set_xlim\"] = {\"left\":0,\"right\":10}\n",
    "repeated_ax_instructions[3][\"set_ylim\"] = {\"bottom\":0.14,\"top\":0.35}\n",
    "repeated_ax_instructions[3][\"legend\"] = {\"loc\": \"lower left\"}\n",
    "repeated_ax_instructions[3].pop(\"set_xscale\",None)\n",
    "\n",
    "\n",
    "repeated_ax_instructions[4][\"set_xlim\"] = {\"left\":100,\"right\":600}\n",
    "repeated_ax_instructions[4][\"set_ylim\"] = {\"bottom\":0.67,\"top\":0.695}\n",
    "repeated_ax_instructions[4].pop(\"set_xscale\",None)\n",
    "repeated_ax_instructions[5][\"set_xlim\"] = {\"left\":100,\"right\":600}\n",
    "repeated_ax_instructions[5][\"set_ylim\"] = {\"bottom\":0.6,\"top\":0.7}\n",
    "repeated_ax_instructions[5].pop(\"set_xscale\",None)\n",
    "\n",
    "\n",
    "repeated_plot_kwargs = [plot_kwargs.copy() for _ in range(6)]\n",
    "repeated_plot_kwargs[2][\"markevery\"] = repeated_plot_kwargs[3][\"markevery\"] = 1\n",
    "repeated_plot_kwargs[4][\"markevery\"] = repeated_plot_kwargs[5][\"markevery\"] = 100\n",
    "\n",
    "label_a = [\"(a)\",\"(b)\",\"(c)\",\"(d)\",\"(e)\",\"(f)\"]\n",
    "label_b = [\"GRU\",\"SAS\"]*3\n",
    "label_c = [\" - \"+x if x !=\"\" else x for x in [\"\",\"\",\"start\",\"start\",\"end\",\"end\"]]\n",
    "for i,(rep_ax_instr, rep_plot_kwargs) in enumerate(zip(repeated_ax_instructions,repeated_plot_kwargs)):\n",
    "    rep_plot_instr = deepcopy(plot_instructions.copy())\n",
    "    rep_plot_instr[\"savefig\"][\"fname\"] = plot_instructions[\"savefig\"][\"fname\"].split(\".pdf\")[0]+\"_\"+str(i)+\".pdf\"\n",
    "    rep_ax_instr[\"set_title\"] = {\"label\": f\"{label_a[i]} {label_b[i]}{label_c[i]}\"}\n",
    "    create_plot(rep_plot_instr, data=([gru_table,sas_table]*3)[i], label_columns=[main_x_column], x_column=x_column, y_column=y_column,\n",
    "            ax_instructions = rep_ax_instr, label_convert_dict = label_convert_dict, plot_type=\"plot\", plot_kwargs=rep_plot_kwargs)"
   ]
  },
  {
   "cell_type": "markdown",
   "metadata": {},
   "source": [
    "#### Foursquare TKY"
   ]
  },
  {
   "cell_type": "code",
   "execution_count": null,
   "metadata": {},
   "outputs": [],
   "source": [
    "subset_selection[\"data_params.name\"] = \"foursquare-tky\"\n",
    "subset_selection.pop(\"model.rec_model.name\",None)"
   ]
  },
  {
   "cell_type": "code",
   "execution_count": null,
   "metadata": {},
   "outputs": [],
   "source": [
    "table = generate_table(subset_data(complete_data, subset_selection, subset_keep, merge_columns), rows_labels, column_labels, exp_name = \"april_30\", save_table=True)\n",
    "table"
   ]
  },
  {
   "cell_type": "code",
   "execution_count": null,
   "metadata": {},
   "outputs": [],
   "source": [
    "y_column = \"NDCG_@10\"\n",
    "y_label = y_column.replace(\"_\", \"\")\n",
    "\n",
    "ax_instructions = {\"set_xscale\": {\"value\": \"log\"},\n",
    "                   \"set_ylabel\": {\"ylabel\": y_label},\n",
    "                   \"get_xaxis\": {\"__kwargs__\":{},\n",
    "                                 \"set_tick_params\": {\"which\":\"minor\", \"size\":0}},\n",
    "                   \"get_xaxis\": {\"__kwargs__\":{},\n",
    "                                 \"set_tick_params\": {\"which\":\"minor\", \"width\":0}},\n",
    "                   \"legend\": {},\n",
    "                   \"grid\":{}}\n",
    "\n",
    "plot_instructions = {\"subplots\": {\"nrows\": 1, \"ncols\": 1, \"figsize\": (6,4)},\n",
    "                    \"tight_layout\":{},\n",
    "                    \"savefig\": {\"fname\": \"plot.pdf\"},\n",
    "                    \"show\":{}}"
   ]
  },
  {
   "cell_type": "code",
   "execution_count": null,
   "metadata": {},
   "outputs": [],
   "source": [
    "x_column = main_x_column\n",
    "x_label = main_x_label\n",
    "plot_name = super_plot_name+\"_\"+subset_selection[\"data_params.name\"]\n",
    "\n",
    "ax_instructions[\"set_xticks\"] = {\"ticks\": table[x_column].unique().astype(int), \"labels\": table[x_column].unique().astype(int)}\n",
    "ax_instructions[\"set_xlabel\"] = {\"xlabel\": x_label}\n",
    "ax_instructions[\"legend\"] = {\"loc\": \"center right\"}\n",
    "\n",
    "plot_instructions[\"savefig\"] = {\"fname\": f'../out/img/{plot_name}.pdf'}\n",
    "\n",
    "label_convert_dict = {}\n",
    "\n",
    "create_plot(plot_instructions, data=table, label_columns=[\"model.rec_model.name\"], x_column=x_column, y_column=y_column,\n",
    "            ax_instructions = ax_instructions, label_convert_dict = label_convert_dict)"
   ]
  },
  {
   "cell_type": "code",
   "execution_count": null,
   "metadata": {},
   "outputs": [],
   "source": [
    "x_column = \"train_flops\"\n",
    "x_label = \"Training flops\"\n",
    "plot_name = super_plot_name+\"_flops_\"+subset_selection[\"data_params.name\"]\n",
    "\n",
    "ax_instructions.pop(\"set_xticks\",None)\n",
    "ax_instructions[\"set_xlabel\"] = {\"xlabel\": x_label}\n",
    "ax_instructions[\"legend\"] = {\"loc\": \"lower left\"}\n",
    "#ax_instructions[\"set_title\"] = {\"label\": super_title}\n",
    "\n",
    "plot_instructions[\"savefig\"] = {\"fname\": f'../out/img/{plot_name}.pdf'}\n",
    "\n",
    "label_convert_dict = {}\n",
    "\n",
    "create_plot(plot_instructions, data=table, label_columns=[\"model.rec_model.name\"], x_column=x_column, y_column=y_column,\n",
    "            ax_instructions = ax_instructions, label_convert_dict = label_convert_dict)\n"
   ]
  },
  {
   "cell_type": "code",
   "execution_count": null,
   "metadata": {},
   "outputs": [],
   "source": [
    "x_column = \"epoch\"\n",
    "x_label = \"Epoch\"\n",
    "y_column = \"val_NDCG_@10/dataloader_idx_1\"\n",
    "y_label = \"NDCG@10\"\n",
    "ax_instructions[\"set_xlabel\"] = {\"xlabel\": x_label}"
   ]
  },
  {
   "cell_type": "markdown",
   "metadata": {},
   "source": [
    "##### SASRec"
   ]
  },
  {
   "cell_type": "code",
   "execution_count": null,
   "metadata": {},
   "outputs": [],
   "source": [
    "subset_selection[\"model.rec_model.name\"] = \"SASRec\"\n",
    "epoch_table = subset_data(complete_data, subset_selection, subset_keep, merge_columns)\n",
    "\n",
    "sas_table = merge_epoch_data(metrics_per_epoch, epoch_table, rows_labels)\n",
    "sas_table = hotfix_table(sas_table, y_column) #HOTFIX\n",
    "sas_table"
   ]
  },
  {
   "cell_type": "code",
   "execution_count": null,
   "metadata": {},
   "outputs": [],
   "source": [
    "subset_selection[\"model.rec_model.name\"] = \"GRU4Rec\"\n",
    "epoch_table = subset_data(complete_data, subset_selection, subset_keep, merge_columns)\n",
    "\n",
    "gru_table = merge_epoch_data(metrics_per_epoch, epoch_table, rows_labels)\n",
    "gru_table = hotfix_table(gru_table, y_column) #HOTFIX\n",
    "gru_table"
   ]
  },
  {
   "cell_type": "code",
   "execution_count": null,
   "metadata": {},
   "outputs": [],
   "source": [
    "plot_name = \"epochs_\"+super_plot_name+\"_GRU_SAS_\"+subset_selection[\"data_params.name\"]\n",
    "\n",
    "#plot_instructions[\"subplots\"] = {\"nrows\": 3, \"ncols\": 2, \"figsize\": (12,12)}\n",
    "plot_instructions[\"savefig\"] = {\"fname\": f'../out/img/{plot_name}.pdf'}\n",
    "\n",
    "plot_kwargs = {\"markevery\": 0.1}\n",
    "\n",
    "ax_instructions.pop(\"set_xticks\",None)\n",
    "ax_instructions[\"legend\"] = {\"loc\": \"lower right\"}\n",
    "#ax_instructions[\"set_title\"] = {\"label\": super_title}\n",
    "\n",
    "label_convert_dict = {} #x:f\"{x} positive item(s)\" for x in [1,2,3,5,10,20,50,100]}\n",
    "\n",
    "repeated_ax_instructions = [ax_instructions.copy() for _ in range(6)]\n",
    "repeated_ax_instructions[0][\"set_ylim\"] = {\"bottom\":0.25}\n",
    "repeated_ax_instructions[0][\"legend\"] = {\"loc\": \"upper left\"}\n",
    "repeated_ax_instructions[1][\"legend\"] = {\"loc\": \"upper left\"}\n",
    "\n",
    "\n",
    "repeated_ax_instructions[2][\"set_xlim\"] = {\"left\":0,\"right\":10}\n",
    "repeated_ax_instructions[2][\"set_ylim\"] = {\"bottom\":0.16,\"top\":0.43}\n",
    "repeated_ax_instructions[2].pop(\"set_xscale\",None)\n",
    "repeated_ax_instructions[3][\"set_xlim\"] = {\"left\":0,\"right\":10}\n",
    "repeated_ax_instructions[3][\"set_ylim\"] = {\"bottom\":0.05,\"top\":0.26}\n",
    "repeated_ax_instructions[3].pop(\"set_xscale\",None)\n",
    "\n",
    "\n",
    "repeated_ax_instructions[4][\"set_xlim\"] = {\"left\":100,\"right\":600}\n",
    "repeated_ax_instructions[4][\"set_ylim\"] = {\"bottom\":0.5,\"top\":0.77}\n",
    "repeated_ax_instructions[4].pop(\"set_xscale\",None)\n",
    "repeated_ax_instructions[5][\"set_xlim\"] = {\"left\":100,\"right\":600}\n",
    "repeated_ax_instructions[5][\"set_ylim\"] = {\"bottom\":0.55,\"top\":0.82}\n",
    "repeated_ax_instructions[5].pop(\"set_xscale\",None)\n",
    "\n",
    "\n",
    "repeated_plot_kwargs = [plot_kwargs.copy() for _ in range(6)]\n",
    "repeated_plot_kwargs[2][\"markevery\"] = repeated_plot_kwargs[3][\"markevery\"] = 1\n",
    "repeated_plot_kwargs[4][\"markevery\"] = repeated_plot_kwargs[5][\"markevery\"] = 100\n",
    "\n",
    "label_a = [\"(a)\",\"(b)\",\"(c)\",\"(d)\",\"(e)\",\"(f)\"]\n",
    "label_b = [\"GRU\",\"SAS\"]*3\n",
    "label_c = [\" - \"+x if x !=\"\" else x for x in [\"\",\"\",\"start\",\"start\",\"end\",\"end\"]]\n",
    "for i,(rep_ax_instr, rep_plot_kwargs) in enumerate(zip(repeated_ax_instructions,repeated_plot_kwargs)):\n",
    "    rep_plot_instr = deepcopy(plot_instructions.copy())\n",
    "    rep_plot_instr[\"savefig\"][\"fname\"] = plot_instructions[\"savefig\"][\"fname\"].split(\".pdf\")[0]+\"_\"+str(i)+\".pdf\"\n",
    "    rep_ax_instr[\"set_title\"] = {\"label\": f\"{label_a[i]} {label_b[i]}{label_c[i]}\"}\n",
    "    create_plot(rep_plot_instr, data=([gru_table,sas_table]*3)[i], label_columns=[main_x_column], x_column=x_column, y_column=y_column,\n",
    "            ax_instructions = rep_ax_instr, label_convert_dict = label_convert_dict, plot_type=\"plot\", plot_kwargs=rep_plot_kwargs)"
   ]
  },
  {
   "cell_type": "markdown",
   "metadata": {},
   "source": [
    "#### ML-1M"
   ]
  },
  {
   "cell_type": "code",
   "execution_count": null,
   "metadata": {},
   "outputs": [],
   "source": [
    "subset_selection[\"data_params.name\"] = \"ml-1m\"\n",
    "subset_selection.pop(\"model.rec_model.name\",None)"
   ]
  },
  {
   "cell_type": "code",
   "execution_count": null,
   "metadata": {},
   "outputs": [],
   "source": [
    "table = generate_table(subset_data(complete_data, subset_selection, subset_keep, merge_columns), rows_labels, column_labels, exp_name = \"april_30\", save_table=True)\n",
    "table"
   ]
  },
  {
   "cell_type": "code",
   "execution_count": null,
   "metadata": {},
   "outputs": [],
   "source": [
    "x_column = main_x_column\n",
    "x_label = main_x_label\n",
    "y_column = \"NDCG_@10\"\n",
    "y_label = y_column.replace(\"_\", \"\")\n",
    "\n",
    "ax_instructions = {\"set_xscale\": {\"value\": \"log\"},\n",
    "                   \"set_ylabel\": {\"ylabel\": y_label},\n",
    "                   \"get_xaxis\": {\"__kwargs__\":{},\n",
    "                                 \"set_tick_params\": {\"which\":\"minor\", \"size\":0}},\n",
    "                   \"get_xaxis\": {\"__kwargs__\":{},\n",
    "                                 \"set_tick_params\": {\"which\":\"minor\", \"width\":0}},\n",
    "                   \"legend\": {},\n",
    "                   \"grid\":{}}\n",
    "\n",
    "plot_instructions = {\"subplots\": {\"nrows\": 1, \"ncols\": 1, \"figsize\": (6,4)},\n",
    "                    \"tight_layout\":{},\n",
    "                    \"savefig\": {\"fname\": \"plot.pdf\"},\n",
    "                    \"show\":{}}"
   ]
  },
  {
   "cell_type": "code",
   "execution_count": null,
   "metadata": {},
   "outputs": [],
   "source": [
    "plot_name = super_plot_name+\"_\"+subset_selection[\"data_params.name\"]\n",
    "\n",
    "ax_instructions[\"set_xticks\"] = {\"ticks\": table[x_column].unique().astype(int), \"labels\": table[x_column].unique().astype(int)}\n",
    "ax_instructions[\"set_xlabel\"] = {\"xlabel\": x_label}\n",
    "ax_instructions[\"legend\"] = {\"loc\": \"upper right\"}\n",
    "\n",
    "plot_instructions[\"savefig\"] = {\"fname\": f'../out/img/{plot_name}.pdf'}\n",
    "\n",
    "label_convert_dict = {}\n",
    "\n",
    "create_plot(plot_instructions, data=table, label_columns=[\"model.rec_model.name\"], x_column=x_column, y_column=y_column,\n",
    "            ax_instructions = ax_instructions, label_convert_dict = label_convert_dict)"
   ]
  },
  {
   "cell_type": "code",
   "execution_count": null,
   "metadata": {},
   "outputs": [],
   "source": [
    "x_column = \"train_flops\"\n",
    "x_label = \"Training flops\"\n",
    "plot_name = super_plot_name+\"_flops_\"+subset_selection[\"data_params.name\"]\n",
    "\n",
    "ax_instructions.pop(\"set_xticks\",None)\n",
    "ax_instructions[\"set_xlabel\"] = {\"xlabel\": x_label}\n",
    "ax_instructions[\"legend\"] = {\"loc\": \"lower left\"}\n",
    "#ax_instructions[\"set_title\"] = {\"label\": super_title}\n",
    "\n",
    "plot_instructions[\"savefig\"] = {\"fname\": f'../out/img/{plot_name}.pdf'}\n",
    "\n",
    "label_convert_dict = {}\n",
    "\n",
    "create_plot(plot_instructions, data=table, label_columns=[\"model.rec_model.name\"], x_column=x_column, y_column=y_column,\n",
    "            ax_instructions = ax_instructions, label_convert_dict = label_convert_dict)\n"
   ]
  },
  {
   "cell_type": "code",
   "execution_count": null,
   "metadata": {},
   "outputs": [],
   "source": [
    "x_column = \"epoch\"\n",
    "x_label = \"Epoch\"\n",
    "y_column = \"val_NDCG_@10/dataloader_idx_1\"\n",
    "y_label = \"NDCG@10\"\n",
    "ax_instructions[\"set_xlabel\"] = {\"xlabel\": x_label}"
   ]
  },
  {
   "cell_type": "markdown",
   "metadata": {},
   "source": [
    "##### SASRec"
   ]
  },
  {
   "cell_type": "code",
   "execution_count": null,
   "metadata": {},
   "outputs": [],
   "source": [
    "subset_selection[\"model.rec_model.name\"] = \"SASRec\"\n",
    "epoch_table = subset_data(complete_data, subset_selection, subset_keep, merge_columns)\n",
    "\n",
    "sas_table = merge_epoch_data(metrics_per_epoch, epoch_table, rows_labels)\n",
    "sas_table = hotfix_table(sas_table, y_column) #HOTFIX\n",
    "sas_table"
   ]
  },
  {
   "cell_type": "code",
   "execution_count": null,
   "metadata": {},
   "outputs": [],
   "source": [
    "subset_selection[\"model.rec_model.name\"] = \"GRU4Rec\"\n",
    "epoch_table = subset_data(complete_data, subset_selection, subset_keep, merge_columns)\n",
    "\n",
    "gru_table = merge_epoch_data(metrics_per_epoch, epoch_table, rows_labels)\n",
    "gru_table = hotfix_table(gru_table, y_column) #HOTFIX\n",
    "gru_table"
   ]
  },
  {
   "cell_type": "code",
   "execution_count": null,
   "metadata": {},
   "outputs": [],
   "source": [
    "plot_name = \"epochs_\"+super_plot_name+\"_GRU_SAS_\"+subset_selection[\"data_params.name\"]\n",
    "\n",
    "#plot_instructions[\"subplots\"] = {\"nrows\": 3, \"ncols\": 2, \"figsize\": (12,12)}\n",
    "plot_instructions[\"savefig\"] = {\"fname\": f'../out/img/{plot_name}.pdf'}\n",
    "\n",
    "plot_kwargs = {\"markevery\": 0.1}\n",
    "\n",
    "ax_instructions.pop(\"set_xticks\",None)\n",
    "ax_instructions[\"legend\"] = {\"loc\": \"upper left\"}\n",
    "#ax_instructions[\"set_title\"] = {\"label\": super_title}\n",
    "\n",
    "label_convert_dict = {} #x:f\"{x} positive item(s)\" for x in [1,2,3,5,10,20,50,100]}\n",
    "\n",
    "repeated_ax_instructions = [ax_instructions.copy() for _ in range(6)]\n",
    "repeated_ax_instructions[2][\"set_xlim\"] = {\"left\":0,\"right\":10}\n",
    "repeated_ax_instructions[2][\"set_ylim\"] = {\"bottom\":0.225,\"top\":0.4}\n",
    "repeated_ax_instructions[2].pop(\"set_xscale\",None)\n",
    "repeated_ax_instructions[3][\"set_xlim\"] = {\"left\":0,\"right\":10}\n",
    "repeated_ax_instructions[3][\"set_ylim\"] = {\"bottom\":0.03,\"top\":0.25}\n",
    "repeated_ax_instructions[3].pop(\"set_xscale\",None)\n",
    "\n",
    "\n",
    "repeated_ax_instructions[4][\"set_xlim\"] = {\"left\":100,\"right\":600}\n",
    "repeated_ax_instructions[4][\"set_ylim\"] = {\"bottom\":0.54,\"top\":0.605}\n",
    "repeated_ax_instructions[4].pop(\"set_xscale\",None)\n",
    "repeated_ax_instructions[5][\"set_xlim\"] = {\"left\":100,\"right\":600}\n",
    "repeated_ax_instructions[5][\"set_ylim\"] = {\"bottom\":0.4,\"top\":0.62}\n",
    "repeated_ax_instructions[5].pop(\"set_xscale\",None)\n",
    "\n",
    "\n",
    "repeated_plot_kwargs = [plot_kwargs.copy() for _ in range(6)]\n",
    "repeated_plot_kwargs[2][\"markevery\"] = repeated_plot_kwargs[3][\"markevery\"] = 1\n",
    "repeated_plot_kwargs[4][\"markevery\"] = repeated_plot_kwargs[5][\"markevery\"] = 100\n",
    "\n",
    "label_a = [\"(a)\",\"(b)\",\"(c)\",\"(d)\",\"(e)\",\"(f)\"]\n",
    "label_b = [\"GRU\",\"SAS\"]*3\n",
    "label_c = [\" - \"+x if x !=\"\" else x for x in [\"\",\"\",\"start\",\"start\",\"end\",\"end\"]]\n",
    "for i,(rep_ax_instr, rep_plot_kwargs) in enumerate(zip(repeated_ax_instructions,repeated_plot_kwargs)):\n",
    "    rep_plot_instr = deepcopy(plot_instructions.copy())\n",
    "    rep_plot_instr[\"savefig\"][\"fname\"] = plot_instructions[\"savefig\"][\"fname\"].split(\".pdf\")[0]+\"_\"+str(i)+\".pdf\"\n",
    "    rep_ax_instr[\"set_title\"] = {\"label\": f\"{label_a[i]} {label_b[i]}{label_c[i]}\"}\n",
    "    create_plot(rep_plot_instr, data=([gru_table,sas_table]*3)[i], label_columns=[main_x_column], x_column=x_column, y_column=y_column,\n",
    "            ax_instructions = rep_ax_instr, label_convert_dict = label_convert_dict, plot_type=\"plot\", plot_kwargs=rep_plot_kwargs)"
   ]
  },
  {
   "cell_type": "markdown",
   "metadata": {},
   "source": [
    "### Num positives/negatives"
   ]
  },
  {
   "cell_type": "code",
   "execution_count": null,
   "metadata": {},
   "outputs": [],
   "source": [
    "main_x_column = \"num_pos_neg\"\n",
    "main_x_label = \"Number of positive/negative items\"\n",
    "super_plot_name = \"pos_neg_NDCG@10\"\n",
    "super_title = \"Performance with varying number of positive/negative items\""
   ]
  },
  {
   "cell_type": "code",
   "execution_count": null,
   "metadata": {},
   "outputs": [],
   "source": [
    "rows_label_to_add = [main_x_column]\n",
    "rows_labels = main_rows_labels + rows_label_to_add\n",
    "\n",
    "subset_selection = {}\n",
    "merge_columns = {\"num_pos_neg\":[\"data_params.collator_params.simultaneous_lookforward\",\n",
    "                                \"data_params.collator_params.num_negatives.train\"]}"
   ]
  },
  {
   "cell_type": "code",
   "execution_count": null,
   "metadata": {},
   "outputs": [],
   "source": [
    "def subset_to_equal_pos_neg(table):\n",
    "    def eq_pos_neg(x):\n",
    "        p,n = x.split(\"_\")\n",
    "        if p==n: return True\n",
    "        else: return False\n",
    "    def comb_pos_neg(x):\n",
    "        p,n = x.split(\"_\")\n",
    "        return int(p)\n",
    "    table = table.loc[table[\"num_pos_neg\"].apply(eq_pos_neg)]\n",
    "    table[\"num_pos_neg\"] = table[\"num_pos_neg\"].apply(comb_pos_neg)\n",
    "    # sort by number of positive items\n",
    "    table = table.sort_values(\"num_pos_neg\")\n",
    "    return table"
   ]
  },
  {
   "cell_type": "markdown",
   "metadata": {},
   "source": [
    "#### Amazon-beauty"
   ]
  },
  {
   "cell_type": "code",
   "execution_count": null,
   "metadata": {},
   "outputs": [],
   "source": [
    "subset_selection[\"data_params.name\"] = \"amazon_beauty\"\n",
    "subset_selection.pop(\"model.rec_model.name\",None)"
   ]
  },
  {
   "cell_type": "code",
   "execution_count": null,
   "metadata": {},
   "outputs": [],
   "source": [
    "table = generate_table(subset_data(complete_data, subset_selection, subset_keep, merge_columns), rows_labels, column_labels, exp_name = \"april_30\", save_table=True)\n",
    "table = subset_to_equal_pos_neg(table)\n",
    "table"
   ]
  },
  {
   "cell_type": "code",
   "execution_count": null,
   "metadata": {},
   "outputs": [],
   "source": [
    "y_column = \"NDCG_@10\"\n",
    "y_label = y_column.replace(\"_\", \"\")\n",
    "\n",
    "ax_instructions = {\"set_xscale\": {\"value\": \"log\"},\n",
    "                   \"set_ylabel\": {\"ylabel\": y_label},\n",
    "                   \"get_xaxis\": {\"__kwargs__\":{},\n",
    "                                 \"set_tick_params\": {\"which\":\"minor\", \"size\":0}},\n",
    "                   \"get_xaxis\": {\"__kwargs__\":{},\n",
    "                                 \"set_tick_params\": {\"which\":\"minor\", \"width\":0}},\n",
    "                   \"legend\": {},\n",
    "                   \"grid\":{}}\n",
    "\n",
    "plot_instructions = {\"subplots\": {\"nrows\": 1, \"ncols\": 1, \"figsize\": (6,4)},\n",
    "                    \"tight_layout\":{},\n",
    "                    \"savefig\": {\"fname\": \"plot.pdf\"},\n",
    "                    \"show\":{}}"
   ]
  },
  {
   "cell_type": "code",
   "execution_count": null,
   "metadata": {},
   "outputs": [],
   "source": [
    "x_column = main_x_column\n",
    "x_label = main_x_label\n",
    "plot_name = super_plot_name+\"_\"+subset_selection[\"data_params.name\"]\n",
    "\n",
    "ax_instructions[\"set_xticks\"] = {\"ticks\": table[x_column].unique().astype(int), \"labels\": table[x_column].unique().astype(int)}\n",
    "ax_instructions[\"set_xlabel\"] = {\"xlabel\": x_label}\n",
    "ax_instructions[\"legend\"] = {\"loc\": \"upper right\"}\n",
    "\n",
    "plot_instructions[\"savefig\"] = {\"fname\": f'../out/img/{plot_name}.pdf'}\n",
    "\n",
    "label_convert_dict = {}\n",
    "\n",
    "create_plot(plot_instructions, data=table, label_columns=[\"model.rec_model.name\"], x_column=x_column, y_column=y_column,\n",
    "            ax_instructions = ax_instructions, label_convert_dict = label_convert_dict)"
   ]
  },
  {
   "cell_type": "code",
   "execution_count": null,
   "metadata": {},
   "outputs": [],
   "source": [
    "x_column = \"train_flops\"\n",
    "x_label = \"Training flops\"\n",
    "plot_name = super_plot_name+\"_flops_\"+subset_selection[\"data_params.name\"]\n",
    "\n",
    "ax_instructions.pop(\"set_xticks\",None)\n",
    "ax_instructions[\"set_xlabel\"] = {\"xlabel\": x_label}\n",
    "ax_instructions[\"legend\"] = {\"loc\": \"lower left\"}\n",
    "#ax_instructions[\"set_title\"] = {\"label\": super_title}\n",
    "\n",
    "plot_instructions[\"savefig\"] = {\"fname\": f'../out/img/{plot_name}.pdf'}\n",
    "\n",
    "label_convert_dict = {}\n",
    "\n",
    "create_plot(plot_instructions, data=table, label_columns=[\"model.rec_model.name\"], x_column=x_column, y_column=y_column,\n",
    "            ax_instructions = ax_instructions, label_convert_dict = label_convert_dict)\n"
   ]
  },
  {
   "cell_type": "code",
   "execution_count": null,
   "metadata": {},
   "outputs": [],
   "source": [
    "x_column = \"epoch\"\n",
    "x_label = \"Epoch\"\n",
    "y_column = \"val_NDCG_@10/dataloader_idx_1\"\n",
    "y_label = \"NDCG@10\"\n",
    "ax_instructions[\"set_xlabel\"] = {\"xlabel\": x_label}"
   ]
  },
  {
   "cell_type": "markdown",
   "metadata": {},
   "source": [
    "##### SASRec"
   ]
  },
  {
   "cell_type": "code",
   "execution_count": null,
   "metadata": {},
   "outputs": [],
   "source": [
    "subset_selection[\"model.rec_model.name\"] = \"SASRec\"\n",
    "epoch_table = subset_data(complete_data, subset_selection, subset_keep, merge_columns)\n",
    "epoch_table = subset_to_equal_pos_neg(epoch_table)\n",
    "\n",
    "sas_table = merge_epoch_data(metrics_per_epoch, epoch_table, rows_labels)\n",
    "sas_table = hotfix_table(sas_table, y_column) #HOTFIX\n",
    "sas_table"
   ]
  },
  {
   "cell_type": "code",
   "execution_count": null,
   "metadata": {},
   "outputs": [],
   "source": [
    "subset_selection[\"model.rec_model.name\"] = \"GRU4Rec\"\n",
    "epoch_table = subset_data(complete_data, subset_selection, subset_keep, merge_columns)\n",
    "epoch_table = subset_to_equal_pos_neg(epoch_table)\n",
    "\n",
    "gru_table = merge_epoch_data(metrics_per_epoch, epoch_table, rows_labels)\n",
    "gru_table = hotfix_table(gru_table, y_column) #HOTFIX\n",
    "gru_table"
   ]
  },
  {
   "cell_type": "code",
   "execution_count": null,
   "metadata": {},
   "outputs": [],
   "source": [
    "plot_name = \"epochs_\"+super_plot_name+\"_GRU_SAS_\"+subset_selection[\"data_params.name\"]\n",
    "\n",
    "#plot_instructions[\"subplots\"] = {\"nrows\": 3, \"ncols\": 2, \"figsize\": (12,12)}\n",
    "plot_instructions[\"savefig\"] = {\"fname\": f'../out/img/{plot_name}.pdf'}\n",
    "\n",
    "plot_kwargs = {\"markevery\": 0.1}\n",
    "\n",
    "ax_instructions.pop(\"set_xticks\",None)\n",
    "ax_instructions[\"legend\"] = {\"loc\": \"lower right\"}\n",
    "#ax_instructions[\"set_title\"] = {\"label\": super_title}\n",
    "\n",
    "label_convert_dict = {} #x:f\"{x} positive item(s)\" for x in [1,2,3,5,10,20,50,100]}\n",
    "\n",
    "repeated_ax_instructions = [ax_instructions.copy() for _ in range(6)]\n",
    "#repeated_ax_instructions[0][\"set_ylim\"] = {\"bottom\":0.525}\n",
    "repeated_ax_instructions[1][\"legend\"] = {\"loc\": \"upper left\"}\n",
    "\n",
    "repeated_ax_instructions[2][\"set_xlim\"] = {\"left\":0,\"right\":10}\n",
    "repeated_ax_instructions[2][\"set_ylim\"] = {\"bottom\":0.28,\"top\":0.65}\n",
    "repeated_ax_instructions[2].pop(\"set_xscale\",None)\n",
    "repeated_ax_instructions[3][\"set_xlim\"] = {\"left\":0,\"right\":10}\n",
    "repeated_ax_instructions[3][\"set_ylim\"] = {\"bottom\":0.17,\"top\":0.35}\n",
    "repeated_ax_instructions[3][\"legend\"] = {\"loc\": \"lower left\"}\n",
    "repeated_ax_instructions[3].pop(\"set_xscale\",None)\n",
    "\n",
    "\n",
    "repeated_ax_instructions[4][\"set_xlim\"] = {\"left\":100,\"right\":600}\n",
    "repeated_ax_instructions[4][\"set_ylim\"] = {\"bottom\":0.55,\"top\":0.7}\n",
    "repeated_ax_instructions[4].pop(\"set_xscale\",None)\n",
    "repeated_ax_instructions[4][\"legend\"] = {\"loc\": \"lower left\"}\n",
    "repeated_ax_instructions[5][\"set_xlim\"] = {\"left\":100,\"right\":600}\n",
    "repeated_ax_instructions[5][\"set_ylim\"] = {\"bottom\":0.35,\"top\":0.7}\n",
    "repeated_ax_instructions[5].pop(\"set_xscale\",None)\n",
    "repeated_ax_instructions[5][\"legend\"] = {\"loc\": \"lower left\"}\n",
    "\n",
    "\n",
    "repeated_plot_kwargs = [plot_kwargs.copy() for _ in range(6)]\n",
    "repeated_plot_kwargs[2][\"markevery\"] = repeated_plot_kwargs[3][\"markevery\"] = 1\n",
    "repeated_plot_kwargs[4][\"markevery\"] = repeated_plot_kwargs[5][\"markevery\"] = 100\n",
    "\n",
    "label_a = [\"(a)\",\"(b)\",\"(c)\",\"(d)\",\"(e)\",\"(f)\"]\n",
    "label_b = [\"GRU\",\"SAS\"]*3\n",
    "label_c = [\" - \"+x if x !=\"\" else x for x in [\"\",\"\",\"start\",\"start\",\"end\",\"end\"]]\n",
    "for i,(rep_ax_instr, rep_plot_kwargs) in enumerate(zip(repeated_ax_instructions,repeated_plot_kwargs)):\n",
    "    rep_plot_instr = deepcopy(plot_instructions.copy())\n",
    "    rep_plot_instr[\"savefig\"][\"fname\"] = plot_instructions[\"savefig\"][\"fname\"].split(\".pdf\")[0]+\"_\"+str(i)+\".pdf\"\n",
    "    rep_ax_instr[\"set_title\"] = {\"label\": f\"{label_a[i]} {label_b[i]}{label_c[i]}\"}\n",
    "    create_plot(rep_plot_instr, data=([gru_table,sas_table]*3)[i], label_columns=[main_x_column], x_column=x_column, y_column=y_column,\n",
    "            ax_instructions = rep_ax_instr, label_convert_dict = label_convert_dict, plot_type=\"plot\", plot_kwargs=rep_plot_kwargs)"
   ]
  },
  {
   "cell_type": "markdown",
   "metadata": {},
   "source": [
    "#### Foursquare TKY"
   ]
  },
  {
   "cell_type": "code",
   "execution_count": null,
   "metadata": {},
   "outputs": [],
   "source": [
    "subset_selection[\"data_params.name\"] = \"foursquare-tky\"\n",
    "subset_selection.pop(\"model.rec_model.name\",None)"
   ]
  },
  {
   "cell_type": "code",
   "execution_count": null,
   "metadata": {},
   "outputs": [],
   "source": [
    "table = generate_table(subset_data(complete_data, subset_selection, subset_keep, merge_columns), rows_labels, column_labels, exp_name = \"april_30\", save_table=True)\n",
    "table = subset_to_equal_pos_neg(table)\n",
    "table"
   ]
  },
  {
   "cell_type": "code",
   "execution_count": null,
   "metadata": {},
   "outputs": [],
   "source": [
    "y_column = \"NDCG_@10\"\n",
    "y_label = y_column.replace(\"_\", \"\")\n",
    "\n",
    "ax_instructions = {\"set_xscale\": {\"value\": \"log\"},\n",
    "                   \"set_ylabel\": {\"ylabel\": y_label},\n",
    "                   \"get_xaxis\": {\"__kwargs__\":{},\n",
    "                                 \"set_tick_params\": {\"which\":\"minor\", \"size\":0}},\n",
    "                   \"get_xaxis\": {\"__kwargs__\":{},\n",
    "                                 \"set_tick_params\": {\"which\":\"minor\", \"width\":0}},\n",
    "                   \"legend\": {},\n",
    "                   \"grid\":{}}\n",
    "\n",
    "plot_instructions = {\"subplots\": {\"nrows\": 1, \"ncols\": 1, \"figsize\": (6,4)},\n",
    "                    \"tight_layout\":{},\n",
    "                    \"savefig\": {\"fname\": \"plot.pdf\"},\n",
    "                    \"show\":{}}"
   ]
  },
  {
   "cell_type": "code",
   "execution_count": null,
   "metadata": {},
   "outputs": [],
   "source": [
    "x_column = main_x_column\n",
    "x_label = main_x_label\n",
    "plot_name = super_plot_name+\"_\"+subset_selection[\"data_params.name\"]\n",
    "\n",
    "ax_instructions[\"set_xticks\"] = {\"ticks\": table[x_column].unique().astype(int), \"labels\": table[x_column].unique().astype(int)}\n",
    "ax_instructions[\"set_xlabel\"] = {\"xlabel\": x_label}\n",
    "ax_instructions[\"legend\"] = {\"loc\": \"upper right\"}\n",
    "\n",
    "plot_instructions[\"savefig\"] = {\"fname\": f'../out/img/{plot_name}.pdf'}\n",
    "\n",
    "label_convert_dict = {}\n",
    "\n",
    "create_plot(plot_instructions, data=table, label_columns=[\"model.rec_model.name\"], x_column=x_column, y_column=y_column,\n",
    "            ax_instructions = ax_instructions, label_convert_dict = label_convert_dict)"
   ]
  },
  {
   "cell_type": "code",
   "execution_count": null,
   "metadata": {},
   "outputs": [],
   "source": [
    "x_column = \"train_flops\"\n",
    "x_label = \"Training flops\"\n",
    "plot_name = super_plot_name+\"_flops_\"+subset_selection[\"data_params.name\"]\n",
    "\n",
    "ax_instructions.pop(\"set_xticks\",None)\n",
    "ax_instructions[\"set_xlabel\"] = {\"xlabel\": x_label}\n",
    "ax_instructions[\"legend\"] = {\"loc\": \"lower left\"}\n",
    "#ax_instructions[\"set_title\"] = {\"label\": super_title}\n",
    "\n",
    "plot_instructions[\"savefig\"] = {\"fname\": f'../out/img/{plot_name}.pdf'}\n",
    "\n",
    "label_convert_dict = {}\n",
    "\n",
    "create_plot(plot_instructions, data=table, label_columns=[\"model.rec_model.name\"], x_column=x_column, y_column=y_column,\n",
    "            ax_instructions = ax_instructions, label_convert_dict = label_convert_dict)\n"
   ]
  },
  {
   "cell_type": "code",
   "execution_count": null,
   "metadata": {},
   "outputs": [],
   "source": [
    "x_column = \"epoch\"\n",
    "x_label = \"Epoch\"\n",
    "y_column = \"val_NDCG_@10/dataloader_idx_1\"\n",
    "y_label = \"NDCG@10\"\n",
    "ax_instructions[\"set_xlabel\"] = {\"xlabel\": x_label}"
   ]
  },
  {
   "cell_type": "markdown",
   "metadata": {},
   "source": [
    "##### SASRec"
   ]
  },
  {
   "cell_type": "code",
   "execution_count": null,
   "metadata": {},
   "outputs": [],
   "source": [
    "subset_selection[\"model.rec_model.name\"] = \"SASRec\"\n",
    "epoch_table = subset_data(complete_data, subset_selection, subset_keep, merge_columns)\n",
    "epoch_table = subset_to_equal_pos_neg(epoch_table)\n",
    "\n",
    "sas_table = merge_epoch_data(metrics_per_epoch, epoch_table, rows_labels)\n",
    "sas_table = hotfix_table(sas_table, y_column) #HOTFIX\n",
    "sas_table"
   ]
  },
  {
   "cell_type": "code",
   "execution_count": null,
   "metadata": {},
   "outputs": [],
   "source": [
    "subset_selection[\"model.rec_model.name\"] = \"GRU4Rec\"\n",
    "epoch_table = subset_data(complete_data, subset_selection, subset_keep, merge_columns)\n",
    "epoch_table = subset_to_equal_pos_neg(epoch_table)\n",
    "\n",
    "gru_table = merge_epoch_data(metrics_per_epoch, epoch_table, rows_labels)\n",
    "gru_table = hotfix_table(gru_table, y_column) #HOTFIX\n",
    "gru_table"
   ]
  },
  {
   "cell_type": "code",
   "execution_count": null,
   "metadata": {},
   "outputs": [],
   "source": [
    "plot_name = \"epochs_\"+super_plot_name+\"_GRU_SAS_\"+subset_selection[\"data_params.name\"]\n",
    "\n",
    "#plot_instructions[\"subplots\"] = {\"nrows\": 3, \"ncols\": 2, \"figsize\": (12,12)}\n",
    "plot_instructions[\"savefig\"] = {\"fname\": f'../out/img/{plot_name}.pdf'}\n",
    "\n",
    "plot_kwargs = {\"markevery\": 0.1}\n",
    "\n",
    "ax_instructions.pop(\"set_xticks\",None)\n",
    "ax_instructions[\"legend\"] = {\"loc\": \"lower right\"}\n",
    "#ax_instructions[\"set_title\"] = {\"label\": super_title}\n",
    "\n",
    "label_convert_dict = {} #x:f\"{x} positive item(s)\" for x in [1,2,3,5,10,20,50,100]}\n",
    "\n",
    "repeated_ax_instructions = [ax_instructions.copy() for _ in range(6)]\n",
    "repeated_ax_instructions[0][\"set_ylim\"] = {\"bottom\":0.3}\n",
    "\n",
    "\n",
    "repeated_ax_instructions[2][\"set_xlim\"] = {\"left\":0,\"right\":10}\n",
    "repeated_ax_instructions[2][\"set_ylim\"] = {\"bottom\":0.2,\"top\":0.45}\n",
    "repeated_ax_instructions[2].pop(\"set_xscale\",None)\n",
    "repeated_ax_instructions[3][\"set_xlim\"] = {\"left\":0,\"right\":10}\n",
    "repeated_ax_instructions[3][\"set_ylim\"] = {\"bottom\":0.15,\"top\":0.33}\n",
    "repeated_ax_instructions[3].pop(\"set_xscale\",None)\n",
    "repeated_ax_instructions[3][\"legend\"] = {\"loc\": \"upper left\"}\n",
    "\n",
    "\n",
    "repeated_ax_instructions[4][\"set_xlim\"] = {\"left\":100,\"right\":600}\n",
    "repeated_ax_instructions[4][\"set_ylim\"] = {\"bottom\":0.61,\"top\":0.77}\n",
    "repeated_ax_instructions[4].pop(\"set_xscale\",None)\n",
    "repeated_ax_instructions[5][\"set_xlim\"] = {\"left\":100,\"right\":600}\n",
    "repeated_ax_instructions[5][\"set_ylim\"] = {\"bottom\":0.48,\"top\":0.8}\n",
    "repeated_ax_instructions[5].pop(\"set_xscale\",None)\n",
    "\n",
    "\n",
    "repeated_plot_kwargs = [plot_kwargs.copy() for _ in range(6)]\n",
    "repeated_plot_kwargs[2][\"markevery\"] = repeated_plot_kwargs[3][\"markevery\"] = 1\n",
    "repeated_plot_kwargs[4][\"markevery\"] = repeated_plot_kwargs[5][\"markevery\"] = 100\n",
    "\n",
    "label_a = [\"(a)\",\"(b)\",\"(c)\",\"(d)\",\"(e)\",\"(f)\"]\n",
    "label_b = [\"GRU\",\"SAS\"]*3\n",
    "label_c = [\" - \"+x if x !=\"\" else x for x in [\"\",\"\",\"start\",\"start\",\"end\",\"end\"]]\n",
    "for i,(rep_ax_instr, rep_plot_kwargs) in enumerate(zip(repeated_ax_instructions,repeated_plot_kwargs)):\n",
    "    rep_plot_instr = deepcopy(plot_instructions.copy())\n",
    "    rep_plot_instr[\"savefig\"][\"fname\"] = plot_instructions[\"savefig\"][\"fname\"].split(\".pdf\")[0]+\"_\"+str(i)+\".pdf\"\n",
    "    rep_ax_instr[\"set_title\"] = {\"label\": f\"{label_a[i]} {label_b[i]}{label_c[i]}\"}\n",
    "    create_plot(rep_plot_instr, data=([gru_table,sas_table]*3)[i], label_columns=[main_x_column], x_column=x_column, y_column=y_column,\n",
    "            ax_instructions = rep_ax_instr, label_convert_dict = label_convert_dict, plot_type=\"plot\", plot_kwargs=rep_plot_kwargs)"
   ]
  },
  {
   "cell_type": "markdown",
   "metadata": {},
   "source": [
    "#### ML-1M"
   ]
  },
  {
   "cell_type": "code",
   "execution_count": null,
   "metadata": {},
   "outputs": [],
   "source": [
    "subset_selection[\"data_params.name\"] = \"ml-1m\"\n",
    "subset_selection.pop(\"model.rec_model.name\",None)"
   ]
  },
  {
   "cell_type": "code",
   "execution_count": null,
   "metadata": {},
   "outputs": [],
   "source": [
    "table = generate_table(subset_data(complete_data, subset_selection, subset_keep, merge_columns), rows_labels, column_labels, exp_name = \"april_30\", save_table=True)\n",
    "table = subset_to_equal_pos_neg(table)\n",
    "table"
   ]
  },
  {
   "cell_type": "code",
   "execution_count": null,
   "metadata": {},
   "outputs": [],
   "source": [
    "x_column = main_x_column\n",
    "x_label = main_x_label\n",
    "y_column = \"NDCG_@10\"\n",
    "y_label = y_column.replace(\"_\", \"\")\n",
    "\n",
    "ax_instructions = {\"set_xscale\": {\"value\": \"log\"},\n",
    "                   \"set_ylabel\": {\"ylabel\": y_label},\n",
    "                   \"get_xaxis\": {\"__kwargs__\":{},\n",
    "                                 \"set_tick_params\": {\"which\":\"minor\", \"size\":0}},\n",
    "                   \"get_xaxis\": {\"__kwargs__\":{},\n",
    "                                 \"set_tick_params\": {\"which\":\"minor\", \"width\":0}},\n",
    "                   \"legend\": {},\n",
    "                   \"grid\":{}}\n",
    "\n",
    "plot_instructions = {\"subplots\": {\"nrows\": 1, \"ncols\": 1, \"figsize\": (6,4)},\n",
    "                    \"tight_layout\":{},\n",
    "                    \"savefig\": {\"fname\": \"plot.pdf\"},\n",
    "                    \"show\":{}}"
   ]
  },
  {
   "cell_type": "code",
   "execution_count": null,
   "metadata": {},
   "outputs": [],
   "source": [
    "plot_name = super_plot_name+\"_\"+subset_selection[\"data_params.name\"]\n",
    "\n",
    "ax_instructions[\"set_xticks\"] = {\"ticks\": table[x_column].unique().astype(int), \"labels\": table[x_column].unique().astype(int)}\n",
    "ax_instructions[\"set_xlabel\"] = {\"xlabel\": x_label}\n",
    "ax_instructions[\"legend\"] = {\"loc\": \"upper right\"}\n",
    "\n",
    "plot_instructions[\"savefig\"] = {\"fname\": f'../out/img/{plot_name}.pdf'}\n",
    "\n",
    "label_convert_dict = {}\n",
    "\n",
    "create_plot(plot_instructions, data=table, label_columns=[\"model.rec_model.name\"], x_column=x_column, y_column=y_column,\n",
    "            ax_instructions = ax_instructions, label_convert_dict = label_convert_dict)"
   ]
  },
  {
   "cell_type": "code",
   "execution_count": null,
   "metadata": {},
   "outputs": [],
   "source": [
    "x_column = \"train_flops\"\n",
    "x_label = \"Training flops\"\n",
    "plot_name = super_plot_name+\"_flops_\"+subset_selection[\"data_params.name\"]\n",
    "\n",
    "ax_instructions.pop(\"set_xticks\",None)\n",
    "ax_instructions[\"set_xlabel\"] = {\"xlabel\": x_label}\n",
    "ax_instructions[\"legend\"] = {\"loc\": \"lower left\"}\n",
    "#ax_instructions[\"set_title\"] = {\"label\": super_title}\n",
    "\n",
    "plot_instructions[\"savefig\"] = {\"fname\": f'../out/img/{plot_name}.pdf'}\n",
    "\n",
    "label_convert_dict = {}\n",
    "\n",
    "create_plot(plot_instructions, data=table, label_columns=[\"model.rec_model.name\"], x_column=x_column, y_column=y_column,\n",
    "            ax_instructions = ax_instructions, label_convert_dict = label_convert_dict)\n"
   ]
  },
  {
   "cell_type": "code",
   "execution_count": null,
   "metadata": {},
   "outputs": [],
   "source": [
    "x_column = \"epoch\"\n",
    "x_label = \"Epoch\"\n",
    "y_column = \"val_NDCG_@10/dataloader_idx_1\"\n",
    "y_label = \"NDCG@10\"\n",
    "ax_instructions[\"set_xlabel\"] = {\"xlabel\": x_label}"
   ]
  },
  {
   "cell_type": "markdown",
   "metadata": {},
   "source": [
    "##### SASRec"
   ]
  },
  {
   "cell_type": "code",
   "execution_count": null,
   "metadata": {},
   "outputs": [],
   "source": [
    "subset_selection[\"model.rec_model.name\"] = \"SASRec\"\n",
    "epoch_table = subset_data(complete_data, subset_selection, subset_keep, merge_columns)\n",
    "epoch_table = subset_to_equal_pos_neg(epoch_table)\n",
    "\n",
    "sas_table = merge_epoch_data(metrics_per_epoch, epoch_table, rows_labels)\n",
    "sas_table = hotfix_table(sas_table, y_column) #HOTFIX\n",
    "sas_table"
   ]
  },
  {
   "cell_type": "code",
   "execution_count": null,
   "metadata": {},
   "outputs": [],
   "source": [
    "subset_selection[\"model.rec_model.name\"] = \"GRU4Rec\"\n",
    "epoch_table = subset_data(complete_data, subset_selection, subset_keep, merge_columns)\n",
    "epoch_table = subset_to_equal_pos_neg(epoch_table)\n",
    "\n",
    "gru_table = merge_epoch_data(metrics_per_epoch, epoch_table, rows_labels)\n",
    "gru_table = hotfix_table(gru_table, y_column) #HOTFIX\n",
    "gru_table"
   ]
  },
  {
   "cell_type": "code",
   "execution_count": null,
   "metadata": {},
   "outputs": [],
   "source": [
    "plot_name = \"epochs_\"+super_plot_name+\"_GRU_SAS_\"+subset_selection[\"data_params.name\"]\n",
    "\n",
    "#plot_instructions[\"subplots\"] = {\"nrows\": 3, \"ncols\": 2, \"figsize\": (12,12)}\n",
    "plot_instructions[\"savefig\"] = {\"fname\": f'../out/img/{plot_name}.pdf'}\n",
    "\n",
    "plot_kwargs = {\"markevery\": 0.1}\n",
    "\n",
    "ax_instructions.pop(\"set_xticks\",None)\n",
    "ax_instructions[\"legend\"] = {\"loc\": \"upper left\"}\n",
    "#ax_instructions[\"set_title\"] = {\"label\": super_title}\n",
    "\n",
    "label_convert_dict = {} #x:f\"{x} positive item(s)\" for x in [1,2,3,5,10,20,50,100]}\n",
    "\n",
    "repeated_ax_instructions = [ax_instructions.copy() for _ in range(6)]\n",
    "repeated_ax_instructions[2][\"set_xlim\"] = {\"left\":0,\"right\":10}\n",
    "repeated_ax_instructions[2][\"set_ylim\"] = {\"bottom\":0.2,\"top\":0.42}\n",
    "repeated_ax_instructions[2].pop(\"set_xscale\",None)\n",
    "repeated_ax_instructions[3][\"set_xlim\"] = {\"left\":0,\"right\":10}\n",
    "repeated_ax_instructions[3][\"set_ylim\"] = {\"bottom\":0.05,\"top\":0.25}\n",
    "repeated_ax_instructions[3].pop(\"set_xscale\",None)\n",
    "\n",
    "\n",
    "repeated_ax_instructions[4][\"set_xlim\"] = {\"left\":100,\"right\":600}\n",
    "repeated_ax_instructions[4][\"set_ylim\"] = {\"bottom\":0.2,\"top\":0.57}\n",
    "repeated_ax_instructions[4].pop(\"set_xscale\",None)\n",
    "repeated_ax_instructions[4][\"legend\"] = {\"loc\":\"lower right\"}\n",
    "repeated_ax_instructions[5][\"set_xlim\"] = {\"left\":100,\"right\":600}\n",
    "repeated_ax_instructions[5][\"set_ylim\"] = {\"bottom\":0.05,\"top\":0.6}\n",
    "repeated_ax_instructions[5].pop(\"set_xscale\",None)\n",
    "repeated_ax_instructions[5][\"legend\"] = {\"loc\":\"lower right\"}\n",
    "\n",
    "\n",
    "repeated_plot_kwargs = [plot_kwargs.copy() for _ in range(6)]\n",
    "repeated_plot_kwargs[2][\"markevery\"] = repeated_plot_kwargs[3][\"markevery\"] = 1\n",
    "repeated_plot_kwargs[4][\"markevery\"] = repeated_plot_kwargs[5][\"markevery\"] = 100\n",
    "\n",
    "label_a = [\"(a)\",\"(b)\",\"(c)\",\"(d)\",\"(e)\",\"(f)\"]\n",
    "label_b = [\"GRU\",\"SAS\"]*3\n",
    "label_c = [\" - \"+x if x !=\"\" else x for x in [\"\",\"\",\"start\",\"start\",\"end\",\"end\"]]\n",
    "for i,(rep_ax_instr, rep_plot_kwargs) in enumerate(zip(repeated_ax_instructions,repeated_plot_kwargs)):\n",
    "    rep_plot_instr = deepcopy(plot_instructions.copy())\n",
    "    rep_plot_instr[\"savefig\"][\"fname\"] = plot_instructions[\"savefig\"][\"fname\"].split(\".pdf\")[0]+\"_\"+str(i)+\".pdf\"\n",
    "    rep_ax_instr[\"set_title\"] = {\"label\": f\"{label_a[i]} {label_b[i]}{label_c[i]}\"}\n",
    "    create_plot(rep_plot_instr, data=([gru_table,sas_table]*3)[i], label_columns=[main_x_column], x_column=x_column, y_column=y_column,\n",
    "            ax_instructions = rep_ax_instr, label_convert_dict = label_convert_dict, plot_type=\"plot\", plot_kwargs=rep_plot_kwargs)"
   ]
  },
  {
   "cell_type": "code",
   "execution_count": null,
   "metadata": {},
   "outputs": [],
   "source": []
  }
 ],
 "metadata": {
  "kernelspec": {
   "display_name": "rec_repro",
   "language": "python",
   "name": "python3"
  },
  "language_info": {
   "codemirror_mode": {
    "name": "ipython",
    "version": 3
   },
   "file_extension": ".py",
   "mimetype": "text/x-python",
   "name": "python",
   "nbconvert_exporter": "python",
   "pygments_lexer": "ipython3",
   "version": "3.11.4"
  }
 },
 "nbformat": 4,
 "nbformat_minor": 2
}
