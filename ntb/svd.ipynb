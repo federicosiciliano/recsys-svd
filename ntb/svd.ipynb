{
 "cells": [
  {
   "cell_type": "markdown",
   "metadata": {
    "id": "2nRCG0Q8347G"
   },
   "source": [
    "# Preparation stuff"
   ]
  },
  {
   "cell_type": "markdown",
   "metadata": {
    "id": "c81IM9YmWpCp"
   },
   "source": [
    "## Connect to Drive"
   ]
  },
  {
   "cell_type": "code",
   "execution_count": 1,
   "metadata": {
    "id": "EoEPCwJGdpz_"
   },
   "outputs": [],
   "source": [
    "connect_to_drive = False"
   ]
  },
  {
   "cell_type": "code",
   "execution_count": 2,
   "metadata": {
    "id": "QgLWUVMAWpCq"
   },
   "outputs": [],
   "source": [
    "#Run command and authorize by popup --> other window\n",
    "if connect_to_drive:\n",
    "    from google.colab import drive\n",
    "    drive.mount('/content/gdrive', force_remount=True)"
   ]
  },
  {
   "cell_type": "markdown",
   "metadata": {
    "id": "SzMilQQcEL-w"
   },
   "source": [
    "## Install packages"
   ]
  },
  {
   "cell_type": "code",
   "execution_count": 3,
   "metadata": {
    "id": "w9_OVsonPEi1"
   },
   "outputs": [],
   "source": [
    "if connect_to_drive:\n",
    "    #Install FS code\n",
    "    #!pip install  --upgrade --no-deps --force-reinstall git+https://github.com/federicosiciliano/easy_lightning.git@fedsic\n",
    "    !pip install  --upgrade --no-deps --force-reinstall git+https://github.com/PokeResearchLab/easy_lightning.git\n",
    "\n",
    "    !pip install pytorch_lightning"
   ]
  },
  {
   "cell_type": "markdown",
   "metadata": {
    "id": "llsyZg59yyiX"
   },
   "source": [
    "## IMPORTS"
   ]
  },
  {
   "cell_type": "code",
   "execution_count": 4,
   "metadata": {
    "id": "U0GsBSD6yz9y"
   },
   "outputs": [],
   "source": [
    "#Put all imports here\n",
    "import numpy as np\n",
    "import matplotlib.pyplot as plt\n",
    "#from copy import deepcopy\n",
    "#import pickle\n",
    "import os\n",
    "import sys\n",
    "#import cv2\n",
    "import torch\n",
    "import csv"
   ]
  },
  {
   "cell_type": "markdown",
   "metadata": {
    "id": "mnSShc_Yy4lr"
   },
   "source": [
    "## Define paths"
   ]
  },
  {
   "cell_type": "code",
   "execution_count": 5,
   "metadata": {
    "id": "WRYc5NEeyjQ8"
   },
   "outputs": [],
   "source": [
    "#every path should start from the project folder:\n",
    "project_folder = \"../\"\n",
    "if connect_to_drive:\n",
    "    project_folder = \"/content/gdrive/Shareddrives/<SharedDriveName>\" #Name of SharedDrive folder\n",
    "    #project_folder = \"/content/gdrive/MyDrive/<MyDriveName>\" #Name of MyDrive folder\n",
    "\n",
    "#Config folder should contain hyperparameters configurations\n",
    "cfg_folder = os.path.join(project_folder,\"cfg\")\n",
    "\n",
    "#Data folder should contain raw and preprocessed data\n",
    "data_folder = os.path.join(project_folder,\"data\")\n",
    "raw_data_folder = os.path.join(data_folder,\"raw\")\n",
    "processed_data_folder = os.path.join(data_folder,\"processed\")\n",
    "\n",
    "#Source folder should contain all the (essential) source code\n",
    "source_folder = os.path.join(project_folder,\"src\")\n",
    "\n",
    "#The out folder should contain all outputs: models, results, plots, etc.\n",
    "out_folder = os.path.join(project_folder,\"out\")\n",
    "img_folder = os.path.join(out_folder,\"img\")"
   ]
  },
  {
   "cell_type": "markdown",
   "metadata": {
    "id": "B4fhGkp14CSb"
   },
   "source": [
    "## Import own code"
   ]
  },
  {
   "cell_type": "code",
   "execution_count": 6,
   "metadata": {},
   "outputs": [],
   "source": [
    "#import setuptools.dist"
   ]
  },
  {
   "cell_type": "code",
   "execution_count": 7,
   "metadata": {},
   "outputs": [],
   "source": [
    "#To import from src:\n",
    "\n",
    "#attach the source folder to the start of sys.path\n",
    "sys.path.insert(0, project_folder)\n",
    "\n",
    "#import from src directory\n",
    "from src.module import *\n",
    "\n",
    "import easy_exp, easy_rec, easy_torch #easy_data"
   ]
  },
  {
   "cell_type": "markdown",
   "metadata": {
    "id": "DIslF_wh31z2"
   },
   "source": [
    "# MAIN"
   ]
  },
  {
   "cell_type": "markdown",
   "metadata": {
    "id": "JSozb3hnPEi4"
   },
   "source": [
    "## Train"
   ]
  },
  {
   "cell_type": "markdown",
   "metadata": {
    "id": "o9gCiPA9dp0H"
   },
   "source": [
    "### Data"
   ]
  },
  {
   "cell_type": "code",
   "execution_count": 8,
   "metadata": {
    "colab": {
     "background_save": true
    },
    "id": "1oW5REUm4GC8"
   },
   "outputs": [],
   "source": [
    "cfg = easy_exp.cfg.load_configuration(\"config_svd\")"
   ]
  },
  {
   "cell_type": "code",
   "execution_count": 9,
   "metadata": {},
   "outputs": [],
   "source": [
    "#---> for _ in cfg.sweep(\"data_params.name\"):"
   ]
  },
  {
   "cell_type": "code",
   "execution_count": 10,
   "metadata": {
    "id": "De8GmtGYPEi4"
   },
   "outputs": [],
   "source": [
    "data_params = deepcopy(cfg[\"data_params\"])\n",
    "data_params[\"data_folder\"] = raw_data_folder"
   ]
  },
  {
   "cell_type": "code",
   "execution_count": 11,
   "metadata": {
    "id": "mmEpjTWdPEi5",
    "outputId": "0f937531-5fda-4c34-ab77-cd324d262972"
   },
   "outputs": [
    {
     "name": "stdout",
     "output_type": "stream",
     "text": [
      "Ratings data already exists. Skip pre-processing\n",
      "Filtering by minimum number of users per item: 5\n",
      "Filtering by minimum number of items per user: 5\n",
      "Densifying index\n",
      "Splitting: leave_n_out\n"
     ]
    }
   ],
   "source": [
    "#cfg[\"data_params\"][\"test_sizes\"] = [cfg[\"data_params.dataset_params.out_seq_len.val\"],cfg[\"data_params.dataset_params.out_seq_len.test\"]]\n",
    "data, maps = easy_rec.data_generation_utils.preprocess_dataset(**data_params)"
   ]
  },
  {
   "cell_type": "code",
   "execution_count": 12,
   "metadata": {
    "id": "SZlmqNYmPEi5"
   },
   "outputs": [],
   "source": [
    "datasets = easy_rec.rec_torch.prepare_rec_datasets(data,**cfg[\"data_params\"][\"dataset_params\"])"
   ]
  },
  {
   "cell_type": "markdown",
   "metadata": {},
   "source": [
    "### Compute SVD "
   ]
  },
  {
   "cell_type": "code",
   "execution_count": 13,
   "metadata": {},
   "outputs": [
    {
     "name": "stdout",
     "output_type": "stream",
     "text": [
      "../out/exp/svd not found --> creating\n"
     ]
    }
   ],
   "source": [
    "exp_found, experiment_id = easy_exp.exp.get_set_experiment_id(cfg)"
   ]
  },
  {
   "cell_type": "code",
   "execution_count": 14,
   "metadata": {},
   "outputs": [],
   "source": [
    "#if exp_found: raise Exception(\"Experiment already exists\")\n",
    "#if exp_found: continue"
   ]
  },
  {
   "cell_type": "code",
   "execution_count": null,
   "metadata": {},
   "outputs": [],
   "source": [
    "num_users = np.max(list(maps[\"uid\"].values()))\n",
    "num_items = np.max(list(maps[\"sid\"].values()))\n",
    "\n",
    "utility_matrix = create_utility_matrix_from_dataset(datasets['train'], num_users, num_items)\n",
    "\n",
    "centered_utility_matrix = mean_imputation(utility_matrix,cfg[\"svd\"][\"mean_imputation\"])\n",
    "\n",
    "u, s, v_t = np.linalg.svd(centered_utility_matrix)\n",
    "\n",
    "v = v_t.transpose()"
   ]
  },
  {
   "cell_type": "code",
   "execution_count": 16,
   "metadata": {},
   "outputs": [],
   "source": [
    "knee = compute_knee(s)"
   ]
  },
  {
   "cell_type": "code",
   "execution_count": null,
   "metadata": {},
   "outputs": [],
   "source": [
    "save_svd_results(processed_data_folder, cfg[\"__exp__\"][\"name\"], experiment_id, knee = knee, s=s, v=v)"
   ]
  },
  {
   "cell_type": "code",
   "execution_count": 18,
   "metadata": {},
   "outputs": [],
   "source": [
    "easy_exp.exp.save_experiment(cfg)"
   ]
  }
 ],
 "metadata": {
  "accelerator": "GPU",
  "colab": {
   "collapsed_sections": [
    "2nRCG0Q8347G",
    "c81IM9YmWpCp",
    "4vggorg-dp0E",
    "o9gCiPA9dp0H",
    "IqoE-m8ndp0I"
   ],
   "provenance": [
    {
     "file_id": "1wtP3Ea5fb_9Zq8JtczLnv8HMfa3GE6wv",
     "timestamp": 1714501219456
    }
   ]
  },
  "kernelspec": {
   "display_name": "rec_svd",
   "language": "python",
   "name": "python3"
  },
  "language_info": {
   "codemirror_mode": {
    "name": "ipython",
    "version": 3
   },
   "file_extension": ".py",
   "mimetype": "text/x-python",
   "name": "python",
   "nbconvert_exporter": "python",
   "pygments_lexer": "ipython3",
   "version": "3.12.3"
  }
 },
 "nbformat": 4,
 "nbformat_minor": 0
}
